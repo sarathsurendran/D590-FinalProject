{
 "cells": [
  {
   "cell_type": "markdown",
   "id": "63b73199",
   "metadata": {},
   "source": [
    "<b> Title :</b><br>\n",
    "<b> &emsp; Webapp to predict the optimal price of a used vehicle. </b><br><br>\n",
    "<b>Team Members :</b><br>\n",
    "<b> &emsp;  Sriram Manne </b> <br>\n",
    "   &emsp;   <b>Sarath Surendran</b><br><br>\n",
    "<b> Date :</b><br>\n",
    "     &emsp;   <b>10-20-2022</b>"
   ]
  },
  {
   "cell_type": "markdown",
   "id": "ba9b6741",
   "metadata": {},
   "source": [
    "#### About the Dataset"
   ]
  },
  {
   "cell_type": "markdown",
   "id": "881fa555",
   "metadata": {},
   "source": [
    "The dataset used for this project was taken from Kaggle and can be found here:<br/>\n",
    "https://www.kaggle.com/datasets/austinreese/craigslist-carstrucks-data <br><br>\n",
    "The dataset contains used vehicles data scraped from Craigslist.  <br><br>\n",
    "The author of the dataset is  : ‘Austin Reese’  <br><br>\n",
    "The whole dataset is nearly 1.5gb in size and was downloaded in csv format  <br><br>\n",
    "\n",
    "<b>The dataset has 26 columns : </b><br><br>\n",
    "&emsp;<b> id :</b> entry ID <br>\n",
    "&emsp;<b>\turl :</b> listing URL <br>\n",
    "&emsp;<b>\tregion :</b> listed region<br>\n",
    "&emsp;<b>\tregion_url :</b> region url<br>\n",
    "&emsp;<b>\tprice :</b> listed price <br>\n",
    "&emsp;<b>   year :</b> year listed<br>\n",
    "&emsp;<b>\tmanufacturer :</b> manufacturer of vehicle<br>\n",
    "&emsp;<b>\tmodel :</b> model of vehicle<br>\n",
    "&emsp;<b>\tcondition :</b> condition of vehicle<br>\n",
    "&emsp;<b>\tcylinders :</b> number of cylinders<br>\n",
    "&emsp;<b>\tfuel :</b> fuel type<br>\n",
    "&emsp;<b>\todometer :</b> miles traveled by vehicle<br>\n",
    "&emsp;<b>\ttitle_status :</b> title status of vehicle<br>\n",
    "&emsp;<b>\ttransmission :</b> transmission of vehicle<br>\n",
    "&emsp;<b>\tVIN :</b> vehicle identification number<br>\n",
    "&emsp;<b>\tdrive :</b> type of drive<br>\n",
    "&emsp;<b>\tsize :</b> size of vehicle<br>\n",
    "&emsp;<b>\ttype :</b> generic type of vehicle<br>\n",
    "&emsp;<b>\tpaint_color :</b> color of vehicle<br>\n",
    "&emsp;<b>\timage_url :</b> image URL<br>\n",
    "&emsp;<b>\tdescription :</b> listed description of vehicle<br>\n",
    "&emsp;<b>\tcounty :</b> useless column left in by mistake<br>\n",
    "&emsp;<b>\tstate :</b> state of listing<br>\n",
    "&emsp;<b>\tlat :</b> latitude of listing<br>\n",
    "&emsp;<b>\tlong :</b> longitude of listing<br>\n",
    "&emsp;<b>\tposting_date :</b> date posted in craigslist<br><br>\n"
   ]
  },
  {
   "cell_type": "markdown",
   "id": "09100d35",
   "metadata": {},
   "source": [
    "#### All imports required for the program to run"
   ]
  },
  {
   "cell_type": "code",
   "execution_count": 117,
   "id": "1ef15b3a",
   "metadata": {},
   "outputs": [],
   "source": [
    "import pandas as pd\n",
    "from sklearn import preprocessing\n",
    "import numpy as np\n",
    "from sklearn.preprocessing import StandardScaler \n",
    "import statsmodels.api as sm\n",
    "import seaborn as sns; sns.set()\n",
    "\n",
    "import matplotlib.pyplot as plt\n",
    "\n",
    "from sklearn.metrics import mean_squared_error, r2_score\n",
    "\n",
    "from sklearn.model_selection import train_test_split, cross_val_score\n",
    "from sklearn.metrics import precision_score, recall_score, f1_score\n",
    "\n",
    "\n",
    "from factor_analyzer import FactorAnalyzer \n",
    "from sklearn.decomposition import FactorAnalysis, PCA\n",
    "import matplotlib.pyplot as plt\n",
    "from factor_analyzer.factor_analyzer import calculate_bartlett_sphericity\n",
    "from factor_analyzer.factor_analyzer import calculate_kmo\n",
    "\n",
    "from sklearn.linear_model import LinearRegression\n",
    "from sklearn.impute import SimpleImputer\n",
    "import numpy as np\n",
    "from sklearn.model_selection import train_test_split, cross_val_score\n",
    "from sklearn.compose import ColumnTransformer, make_column_transformer\n",
    "from sklearn.preprocessing import OneHotEncoder\n",
    "from sklearn.pipeline import make_pipeline\n",
    "from category_encoders import TargetEncoder\n",
    "\n",
    "import warnings\n",
    "warnings.filterwarnings(\"ignore\")\n",
    "import pickle\n"
   ]
  },
  {
   "cell_type": "markdown",
   "id": "ee7fcafa",
   "metadata": {},
   "source": [
    "Reading the extracted csv file and storing it in dataframe for further analysis"
   ]
  },
  {
   "cell_type": "code",
   "execution_count": 118,
   "id": "52053904",
   "metadata": {},
   "outputs": [
    {
     "data": {
      "text/plain": [
       "(426880, 26)"
      ]
     },
     "execution_count": 118,
     "metadata": {},
     "output_type": "execute_result"
    }
   ],
   "source": [
    "df_vehicles = pd.read_csv('dataset/Vehicles.csv', delimiter=',')\n",
    "df_vehicles.shape"
   ]
  },
  {
   "cell_type": "markdown",
   "id": "6ab1c8cc",
   "metadata": {},
   "source": [
    "### Exploratory Data Analysis"
   ]
  },
  {
   "cell_type": "markdown",
   "id": "6a106dd7",
   "metadata": {},
   "source": [
    "The dataset seems to contain 426880 records with 26 different attributes"
   ]
  },
  {
   "cell_type": "code",
   "execution_count": 119,
   "id": "18b5898f",
   "metadata": {},
   "outputs": [
    {
     "data": {
      "text/html": [
       "<div>\n",
       "<style scoped>\n",
       "    .dataframe tbody tr th:only-of-type {\n",
       "        vertical-align: middle;\n",
       "    }\n",
       "\n",
       "    .dataframe tbody tr th {\n",
       "        vertical-align: top;\n",
       "    }\n",
       "\n",
       "    .dataframe thead th {\n",
       "        text-align: right;\n",
       "    }\n",
       "</style>\n",
       "<table border=\"1\" class=\"dataframe\">\n",
       "  <thead>\n",
       "    <tr style=\"text-align: right;\">\n",
       "      <th></th>\n",
       "      <th>id</th>\n",
       "      <th>url</th>\n",
       "      <th>region</th>\n",
       "      <th>region_url</th>\n",
       "      <th>price</th>\n",
       "      <th>year</th>\n",
       "      <th>manufacturer</th>\n",
       "      <th>model</th>\n",
       "      <th>condition</th>\n",
       "      <th>cylinders</th>\n",
       "      <th>...</th>\n",
       "      <th>size</th>\n",
       "      <th>type</th>\n",
       "      <th>paint_color</th>\n",
       "      <th>image_url</th>\n",
       "      <th>description</th>\n",
       "      <th>county</th>\n",
       "      <th>state</th>\n",
       "      <th>lat</th>\n",
       "      <th>long</th>\n",
       "      <th>posting_date</th>\n",
       "    </tr>\n",
       "  </thead>\n",
       "  <tbody>\n",
       "    <tr>\n",
       "      <th>0</th>\n",
       "      <td>7222695916</td>\n",
       "      <td>https://prescott.craigslist.org/cto/d/prescott...</td>\n",
       "      <td>prescott</td>\n",
       "      <td>https://prescott.craigslist.org</td>\n",
       "      <td>6000</td>\n",
       "      <td>NaN</td>\n",
       "      <td>NaN</td>\n",
       "      <td>NaN</td>\n",
       "      <td>NaN</td>\n",
       "      <td>NaN</td>\n",
       "      <td>...</td>\n",
       "      <td>NaN</td>\n",
       "      <td>NaN</td>\n",
       "      <td>NaN</td>\n",
       "      <td>NaN</td>\n",
       "      <td>NaN</td>\n",
       "      <td>NaN</td>\n",
       "      <td>az</td>\n",
       "      <td>NaN</td>\n",
       "      <td>NaN</td>\n",
       "      <td>NaN</td>\n",
       "    </tr>\n",
       "    <tr>\n",
       "      <th>1</th>\n",
       "      <td>7218891961</td>\n",
       "      <td>https://fayar.craigslist.org/ctd/d/bentonville...</td>\n",
       "      <td>fayetteville</td>\n",
       "      <td>https://fayar.craigslist.org</td>\n",
       "      <td>11900</td>\n",
       "      <td>NaN</td>\n",
       "      <td>NaN</td>\n",
       "      <td>NaN</td>\n",
       "      <td>NaN</td>\n",
       "      <td>NaN</td>\n",
       "      <td>...</td>\n",
       "      <td>NaN</td>\n",
       "      <td>NaN</td>\n",
       "      <td>NaN</td>\n",
       "      <td>NaN</td>\n",
       "      <td>NaN</td>\n",
       "      <td>NaN</td>\n",
       "      <td>ar</td>\n",
       "      <td>NaN</td>\n",
       "      <td>NaN</td>\n",
       "      <td>NaN</td>\n",
       "    </tr>\n",
       "    <tr>\n",
       "      <th>2</th>\n",
       "      <td>7221797935</td>\n",
       "      <td>https://keys.craigslist.org/cto/d/summerland-k...</td>\n",
       "      <td>florida keys</td>\n",
       "      <td>https://keys.craigslist.org</td>\n",
       "      <td>21000</td>\n",
       "      <td>NaN</td>\n",
       "      <td>NaN</td>\n",
       "      <td>NaN</td>\n",
       "      <td>NaN</td>\n",
       "      <td>NaN</td>\n",
       "      <td>...</td>\n",
       "      <td>NaN</td>\n",
       "      <td>NaN</td>\n",
       "      <td>NaN</td>\n",
       "      <td>NaN</td>\n",
       "      <td>NaN</td>\n",
       "      <td>NaN</td>\n",
       "      <td>fl</td>\n",
       "      <td>NaN</td>\n",
       "      <td>NaN</td>\n",
       "      <td>NaN</td>\n",
       "    </tr>\n",
       "    <tr>\n",
       "      <th>3</th>\n",
       "      <td>7222270760</td>\n",
       "      <td>https://worcester.craigslist.org/cto/d/west-br...</td>\n",
       "      <td>worcester / central MA</td>\n",
       "      <td>https://worcester.craigslist.org</td>\n",
       "      <td>1500</td>\n",
       "      <td>NaN</td>\n",
       "      <td>NaN</td>\n",
       "      <td>NaN</td>\n",
       "      <td>NaN</td>\n",
       "      <td>NaN</td>\n",
       "      <td>...</td>\n",
       "      <td>NaN</td>\n",
       "      <td>NaN</td>\n",
       "      <td>NaN</td>\n",
       "      <td>NaN</td>\n",
       "      <td>NaN</td>\n",
       "      <td>NaN</td>\n",
       "      <td>ma</td>\n",
       "      <td>NaN</td>\n",
       "      <td>NaN</td>\n",
       "      <td>NaN</td>\n",
       "    </tr>\n",
       "    <tr>\n",
       "      <th>4</th>\n",
       "      <td>7210384030</td>\n",
       "      <td>https://greensboro.craigslist.org/cto/d/trinit...</td>\n",
       "      <td>greensboro</td>\n",
       "      <td>https://greensboro.craigslist.org</td>\n",
       "      <td>4900</td>\n",
       "      <td>NaN</td>\n",
       "      <td>NaN</td>\n",
       "      <td>NaN</td>\n",
       "      <td>NaN</td>\n",
       "      <td>NaN</td>\n",
       "      <td>...</td>\n",
       "      <td>NaN</td>\n",
       "      <td>NaN</td>\n",
       "      <td>NaN</td>\n",
       "      <td>NaN</td>\n",
       "      <td>NaN</td>\n",
       "      <td>NaN</td>\n",
       "      <td>nc</td>\n",
       "      <td>NaN</td>\n",
       "      <td>NaN</td>\n",
       "      <td>NaN</td>\n",
       "    </tr>\n",
       "  </tbody>\n",
       "</table>\n",
       "<p>5 rows × 26 columns</p>\n",
       "</div>"
      ],
      "text/plain": [
       "           id                                                url  \\\n",
       "0  7222695916  https://prescott.craigslist.org/cto/d/prescott...   \n",
       "1  7218891961  https://fayar.craigslist.org/ctd/d/bentonville...   \n",
       "2  7221797935  https://keys.craigslist.org/cto/d/summerland-k...   \n",
       "3  7222270760  https://worcester.craigslist.org/cto/d/west-br...   \n",
       "4  7210384030  https://greensboro.craigslist.org/cto/d/trinit...   \n",
       "\n",
       "                   region                         region_url  price  year  \\\n",
       "0                prescott    https://prescott.craigslist.org   6000   NaN   \n",
       "1            fayetteville       https://fayar.craigslist.org  11900   NaN   \n",
       "2            florida keys        https://keys.craigslist.org  21000   NaN   \n",
       "3  worcester / central MA   https://worcester.craigslist.org   1500   NaN   \n",
       "4              greensboro  https://greensboro.craigslist.org   4900   NaN   \n",
       "\n",
       "  manufacturer model condition cylinders  ... size  type paint_color  \\\n",
       "0          NaN   NaN       NaN       NaN  ...  NaN   NaN         NaN   \n",
       "1          NaN   NaN       NaN       NaN  ...  NaN   NaN         NaN   \n",
       "2          NaN   NaN       NaN       NaN  ...  NaN   NaN         NaN   \n",
       "3          NaN   NaN       NaN       NaN  ...  NaN   NaN         NaN   \n",
       "4          NaN   NaN       NaN       NaN  ...  NaN   NaN         NaN   \n",
       "\n",
       "  image_url description county state lat long posting_date  \n",
       "0       NaN         NaN    NaN    az NaN  NaN          NaN  \n",
       "1       NaN         NaN    NaN    ar NaN  NaN          NaN  \n",
       "2       NaN         NaN    NaN    fl NaN  NaN          NaN  \n",
       "3       NaN         NaN    NaN    ma NaN  NaN          NaN  \n",
       "4       NaN         NaN    NaN    nc NaN  NaN          NaN  \n",
       "\n",
       "[5 rows x 26 columns]"
      ]
     },
     "execution_count": 119,
     "metadata": {},
     "output_type": "execute_result"
    }
   ],
   "source": [
    "df_vehicles.head()"
   ]
  },
  {
   "cell_type": "markdown",
   "id": "648154d2",
   "metadata": {},
   "source": [
    "Just by printing the top rows, its evident that the dataset has lots of empty values"
   ]
  },
  {
   "cell_type": "markdown",
   "id": "ab33c7c0",
   "metadata": {},
   "source": [
    "Further descbring the dataset"
   ]
  },
  {
   "cell_type": "code",
   "execution_count": 120,
   "id": "4dbc362c",
   "metadata": {},
   "outputs": [
    {
     "data": {
      "text/html": [
       "<div>\n",
       "<style scoped>\n",
       "    .dataframe tbody tr th:only-of-type {\n",
       "        vertical-align: middle;\n",
       "    }\n",
       "\n",
       "    .dataframe tbody tr th {\n",
       "        vertical-align: top;\n",
       "    }\n",
       "\n",
       "    .dataframe thead th {\n",
       "        text-align: right;\n",
       "    }\n",
       "</style>\n",
       "<table border=\"1\" class=\"dataframe\">\n",
       "  <thead>\n",
       "    <tr style=\"text-align: right;\">\n",
       "      <th></th>\n",
       "      <th>id</th>\n",
       "      <th>url</th>\n",
       "      <th>region</th>\n",
       "      <th>region_url</th>\n",
       "      <th>price</th>\n",
       "      <th>year</th>\n",
       "      <th>manufacturer</th>\n",
       "      <th>model</th>\n",
       "      <th>condition</th>\n",
       "      <th>cylinders</th>\n",
       "      <th>...</th>\n",
       "      <th>size</th>\n",
       "      <th>type</th>\n",
       "      <th>paint_color</th>\n",
       "      <th>image_url</th>\n",
       "      <th>description</th>\n",
       "      <th>county</th>\n",
       "      <th>state</th>\n",
       "      <th>lat</th>\n",
       "      <th>long</th>\n",
       "      <th>posting_date</th>\n",
       "    </tr>\n",
       "  </thead>\n",
       "  <tbody>\n",
       "    <tr>\n",
       "      <th>count</th>\n",
       "      <td>4.268800e+05</td>\n",
       "      <td>426880</td>\n",
       "      <td>426880</td>\n",
       "      <td>426880</td>\n",
       "      <td>4.268800e+05</td>\n",
       "      <td>425675.000000</td>\n",
       "      <td>409234</td>\n",
       "      <td>421603</td>\n",
       "      <td>252776</td>\n",
       "      <td>249202</td>\n",
       "      <td>...</td>\n",
       "      <td>120519</td>\n",
       "      <td>334022</td>\n",
       "      <td>296677</td>\n",
       "      <td>426812</td>\n",
       "      <td>426810</td>\n",
       "      <td>0.0</td>\n",
       "      <td>426880</td>\n",
       "      <td>420331.000000</td>\n",
       "      <td>420331.000000</td>\n",
       "      <td>426812</td>\n",
       "    </tr>\n",
       "    <tr>\n",
       "      <th>unique</th>\n",
       "      <td>NaN</td>\n",
       "      <td>426880</td>\n",
       "      <td>404</td>\n",
       "      <td>413</td>\n",
       "      <td>NaN</td>\n",
       "      <td>NaN</td>\n",
       "      <td>42</td>\n",
       "      <td>29667</td>\n",
       "      <td>6</td>\n",
       "      <td>8</td>\n",
       "      <td>...</td>\n",
       "      <td>4</td>\n",
       "      <td>13</td>\n",
       "      <td>12</td>\n",
       "      <td>241899</td>\n",
       "      <td>360911</td>\n",
       "      <td>NaN</td>\n",
       "      <td>51</td>\n",
       "      <td>NaN</td>\n",
       "      <td>NaN</td>\n",
       "      <td>381536</td>\n",
       "    </tr>\n",
       "    <tr>\n",
       "      <th>top</th>\n",
       "      <td>NaN</td>\n",
       "      <td>https://prescott.craigslist.org/cto/d/prescott...</td>\n",
       "      <td>columbus</td>\n",
       "      <td>https://spokane.craigslist.org</td>\n",
       "      <td>NaN</td>\n",
       "      <td>NaN</td>\n",
       "      <td>ford</td>\n",
       "      <td>f-150</td>\n",
       "      <td>good</td>\n",
       "      <td>6 cylinders</td>\n",
       "      <td>...</td>\n",
       "      <td>full-size</td>\n",
       "      <td>sedan</td>\n",
       "      <td>white</td>\n",
       "      <td>https://images.craigslist.org/00N0N_1xMPvfxRAI...</td>\n",
       "      <td>35 VEHICLES PRICED UNDER $3000!!!  BIG TIME! T...</td>\n",
       "      <td>NaN</td>\n",
       "      <td>ca</td>\n",
       "      <td>NaN</td>\n",
       "      <td>NaN</td>\n",
       "      <td>2021-04-23T22:13:05-0400</td>\n",
       "    </tr>\n",
       "    <tr>\n",
       "      <th>freq</th>\n",
       "      <td>NaN</td>\n",
       "      <td>1</td>\n",
       "      <td>3608</td>\n",
       "      <td>2988</td>\n",
       "      <td>NaN</td>\n",
       "      <td>NaN</td>\n",
       "      <td>70985</td>\n",
       "      <td>8009</td>\n",
       "      <td>121456</td>\n",
       "      <td>94169</td>\n",
       "      <td>...</td>\n",
       "      <td>63465</td>\n",
       "      <td>87056</td>\n",
       "      <td>79285</td>\n",
       "      <td>7357</td>\n",
       "      <td>231</td>\n",
       "      <td>NaN</td>\n",
       "      <td>50614</td>\n",
       "      <td>NaN</td>\n",
       "      <td>NaN</td>\n",
       "      <td>12</td>\n",
       "    </tr>\n",
       "    <tr>\n",
       "      <th>mean</th>\n",
       "      <td>7.311487e+09</td>\n",
       "      <td>NaN</td>\n",
       "      <td>NaN</td>\n",
       "      <td>NaN</td>\n",
       "      <td>7.519903e+04</td>\n",
       "      <td>2011.235191</td>\n",
       "      <td>NaN</td>\n",
       "      <td>NaN</td>\n",
       "      <td>NaN</td>\n",
       "      <td>NaN</td>\n",
       "      <td>...</td>\n",
       "      <td>NaN</td>\n",
       "      <td>NaN</td>\n",
       "      <td>NaN</td>\n",
       "      <td>NaN</td>\n",
       "      <td>NaN</td>\n",
       "      <td>NaN</td>\n",
       "      <td>NaN</td>\n",
       "      <td>38.493940</td>\n",
       "      <td>-94.748599</td>\n",
       "      <td>NaN</td>\n",
       "    </tr>\n",
       "    <tr>\n",
       "      <th>std</th>\n",
       "      <td>4.473170e+06</td>\n",
       "      <td>NaN</td>\n",
       "      <td>NaN</td>\n",
       "      <td>NaN</td>\n",
       "      <td>1.218228e+07</td>\n",
       "      <td>9.452120</td>\n",
       "      <td>NaN</td>\n",
       "      <td>NaN</td>\n",
       "      <td>NaN</td>\n",
       "      <td>NaN</td>\n",
       "      <td>...</td>\n",
       "      <td>NaN</td>\n",
       "      <td>NaN</td>\n",
       "      <td>NaN</td>\n",
       "      <td>NaN</td>\n",
       "      <td>NaN</td>\n",
       "      <td>NaN</td>\n",
       "      <td>NaN</td>\n",
       "      <td>5.841533</td>\n",
       "      <td>18.365462</td>\n",
       "      <td>NaN</td>\n",
       "    </tr>\n",
       "    <tr>\n",
       "      <th>min</th>\n",
       "      <td>7.207408e+09</td>\n",
       "      <td>NaN</td>\n",
       "      <td>NaN</td>\n",
       "      <td>NaN</td>\n",
       "      <td>0.000000e+00</td>\n",
       "      <td>1900.000000</td>\n",
       "      <td>NaN</td>\n",
       "      <td>NaN</td>\n",
       "      <td>NaN</td>\n",
       "      <td>NaN</td>\n",
       "      <td>...</td>\n",
       "      <td>NaN</td>\n",
       "      <td>NaN</td>\n",
       "      <td>NaN</td>\n",
       "      <td>NaN</td>\n",
       "      <td>NaN</td>\n",
       "      <td>NaN</td>\n",
       "      <td>NaN</td>\n",
       "      <td>-84.122245</td>\n",
       "      <td>-159.827728</td>\n",
       "      <td>NaN</td>\n",
       "    </tr>\n",
       "    <tr>\n",
       "      <th>25%</th>\n",
       "      <td>7.308143e+09</td>\n",
       "      <td>NaN</td>\n",
       "      <td>NaN</td>\n",
       "      <td>NaN</td>\n",
       "      <td>5.900000e+03</td>\n",
       "      <td>2008.000000</td>\n",
       "      <td>NaN</td>\n",
       "      <td>NaN</td>\n",
       "      <td>NaN</td>\n",
       "      <td>NaN</td>\n",
       "      <td>...</td>\n",
       "      <td>NaN</td>\n",
       "      <td>NaN</td>\n",
       "      <td>NaN</td>\n",
       "      <td>NaN</td>\n",
       "      <td>NaN</td>\n",
       "      <td>NaN</td>\n",
       "      <td>NaN</td>\n",
       "      <td>34.601900</td>\n",
       "      <td>-111.939847</td>\n",
       "      <td>NaN</td>\n",
       "    </tr>\n",
       "    <tr>\n",
       "      <th>50%</th>\n",
       "      <td>7.312621e+09</td>\n",
       "      <td>NaN</td>\n",
       "      <td>NaN</td>\n",
       "      <td>NaN</td>\n",
       "      <td>1.395000e+04</td>\n",
       "      <td>2013.000000</td>\n",
       "      <td>NaN</td>\n",
       "      <td>NaN</td>\n",
       "      <td>NaN</td>\n",
       "      <td>NaN</td>\n",
       "      <td>...</td>\n",
       "      <td>NaN</td>\n",
       "      <td>NaN</td>\n",
       "      <td>NaN</td>\n",
       "      <td>NaN</td>\n",
       "      <td>NaN</td>\n",
       "      <td>NaN</td>\n",
       "      <td>NaN</td>\n",
       "      <td>39.150100</td>\n",
       "      <td>-88.432600</td>\n",
       "      <td>NaN</td>\n",
       "    </tr>\n",
       "    <tr>\n",
       "      <th>75%</th>\n",
       "      <td>7.315254e+09</td>\n",
       "      <td>NaN</td>\n",
       "      <td>NaN</td>\n",
       "      <td>NaN</td>\n",
       "      <td>2.648575e+04</td>\n",
       "      <td>2017.000000</td>\n",
       "      <td>NaN</td>\n",
       "      <td>NaN</td>\n",
       "      <td>NaN</td>\n",
       "      <td>NaN</td>\n",
       "      <td>...</td>\n",
       "      <td>NaN</td>\n",
       "      <td>NaN</td>\n",
       "      <td>NaN</td>\n",
       "      <td>NaN</td>\n",
       "      <td>NaN</td>\n",
       "      <td>NaN</td>\n",
       "      <td>NaN</td>\n",
       "      <td>42.398900</td>\n",
       "      <td>-80.832039</td>\n",
       "      <td>NaN</td>\n",
       "    </tr>\n",
       "    <tr>\n",
       "      <th>max</th>\n",
       "      <td>7.317101e+09</td>\n",
       "      <td>NaN</td>\n",
       "      <td>NaN</td>\n",
       "      <td>NaN</td>\n",
       "      <td>3.736929e+09</td>\n",
       "      <td>2022.000000</td>\n",
       "      <td>NaN</td>\n",
       "      <td>NaN</td>\n",
       "      <td>NaN</td>\n",
       "      <td>NaN</td>\n",
       "      <td>...</td>\n",
       "      <td>NaN</td>\n",
       "      <td>NaN</td>\n",
       "      <td>NaN</td>\n",
       "      <td>NaN</td>\n",
       "      <td>NaN</td>\n",
       "      <td>NaN</td>\n",
       "      <td>NaN</td>\n",
       "      <td>82.390818</td>\n",
       "      <td>173.885502</td>\n",
       "      <td>NaN</td>\n",
       "    </tr>\n",
       "  </tbody>\n",
       "</table>\n",
       "<p>11 rows × 26 columns</p>\n",
       "</div>"
      ],
      "text/plain": [
       "                  id                                                url  \\\n",
       "count   4.268800e+05                                             426880   \n",
       "unique           NaN                                             426880   \n",
       "top              NaN  https://prescott.craigslist.org/cto/d/prescott...   \n",
       "freq             NaN                                                  1   \n",
       "mean    7.311487e+09                                                NaN   \n",
       "std     4.473170e+06                                                NaN   \n",
       "min     7.207408e+09                                                NaN   \n",
       "25%     7.308143e+09                                                NaN   \n",
       "50%     7.312621e+09                                                NaN   \n",
       "75%     7.315254e+09                                                NaN   \n",
       "max     7.317101e+09                                                NaN   \n",
       "\n",
       "          region                      region_url         price           year  \\\n",
       "count     426880                          426880  4.268800e+05  425675.000000   \n",
       "unique       404                             413           NaN            NaN   \n",
       "top     columbus  https://spokane.craigslist.org           NaN            NaN   \n",
       "freq        3608                            2988           NaN            NaN   \n",
       "mean         NaN                             NaN  7.519903e+04    2011.235191   \n",
       "std          NaN                             NaN  1.218228e+07       9.452120   \n",
       "min          NaN                             NaN  0.000000e+00    1900.000000   \n",
       "25%          NaN                             NaN  5.900000e+03    2008.000000   \n",
       "50%          NaN                             NaN  1.395000e+04    2013.000000   \n",
       "75%          NaN                             NaN  2.648575e+04    2017.000000   \n",
       "max          NaN                             NaN  3.736929e+09    2022.000000   \n",
       "\n",
       "       manufacturer   model condition    cylinders  ...       size    type  \\\n",
       "count        409234  421603    252776       249202  ...     120519  334022   \n",
       "unique           42   29667         6            8  ...          4      13   \n",
       "top            ford   f-150      good  6 cylinders  ...  full-size   sedan   \n",
       "freq          70985    8009    121456        94169  ...      63465   87056   \n",
       "mean            NaN     NaN       NaN          NaN  ...        NaN     NaN   \n",
       "std             NaN     NaN       NaN          NaN  ...        NaN     NaN   \n",
       "min             NaN     NaN       NaN          NaN  ...        NaN     NaN   \n",
       "25%             NaN     NaN       NaN          NaN  ...        NaN     NaN   \n",
       "50%             NaN     NaN       NaN          NaN  ...        NaN     NaN   \n",
       "75%             NaN     NaN       NaN          NaN  ...        NaN     NaN   \n",
       "max             NaN     NaN       NaN          NaN  ...        NaN     NaN   \n",
       "\n",
       "       paint_color                                          image_url  \\\n",
       "count       296677                                             426812   \n",
       "unique          12                                             241899   \n",
       "top          white  https://images.craigslist.org/00N0N_1xMPvfxRAI...   \n",
       "freq         79285                                               7357   \n",
       "mean           NaN                                                NaN   \n",
       "std            NaN                                                NaN   \n",
       "min            NaN                                                NaN   \n",
       "25%            NaN                                                NaN   \n",
       "50%            NaN                                                NaN   \n",
       "75%            NaN                                                NaN   \n",
       "max            NaN                                                NaN   \n",
       "\n",
       "                                              description county   state  \\\n",
       "count                                              426810    0.0  426880   \n",
       "unique                                             360911    NaN      51   \n",
       "top     35 VEHICLES PRICED UNDER $3000!!!  BIG TIME! T...    NaN      ca   \n",
       "freq                                                  231    NaN   50614   \n",
       "mean                                                  NaN    NaN     NaN   \n",
       "std                                                   NaN    NaN     NaN   \n",
       "min                                                   NaN    NaN     NaN   \n",
       "25%                                                   NaN    NaN     NaN   \n",
       "50%                                                   NaN    NaN     NaN   \n",
       "75%                                                   NaN    NaN     NaN   \n",
       "max                                                   NaN    NaN     NaN   \n",
       "\n",
       "                  lat           long              posting_date  \n",
       "count   420331.000000  420331.000000                    426812  \n",
       "unique            NaN            NaN                    381536  \n",
       "top               NaN            NaN  2021-04-23T22:13:05-0400  \n",
       "freq              NaN            NaN                        12  \n",
       "mean        38.493940     -94.748599                       NaN  \n",
       "std          5.841533      18.365462                       NaN  \n",
       "min        -84.122245    -159.827728                       NaN  \n",
       "25%         34.601900    -111.939847                       NaN  \n",
       "50%         39.150100     -88.432600                       NaN  \n",
       "75%         42.398900     -80.832039                       NaN  \n",
       "max         82.390818     173.885502                       NaN  \n",
       "\n",
       "[11 rows x 26 columns]"
      ]
     },
     "execution_count": 120,
     "metadata": {},
     "output_type": "execute_result"
    }
   ],
   "source": [
    "df_vehicles.describe(include=\"all\")"
   ]
  },
  {
   "cell_type": "markdown",
   "id": "cce7cd48",
   "metadata": {},
   "source": [
    "The county column seems to have no values. This field along with all the urls,lat,long,description and VIN will not be considered for analysis. So removing them altogether"
   ]
  },
  {
   "cell_type": "code",
   "execution_count": 121,
   "id": "8cc0c812",
   "metadata": {},
   "outputs": [
    {
     "data": {
      "text/plain": [
       "(426880, 17)"
      ]
     },
     "execution_count": 121,
     "metadata": {},
     "output_type": "execute_result"
    }
   ],
   "source": [
    "df_vehicles=df_vehicles.drop(columns=[\"id\",\"county\",\"region_url\",\"VIN\",\"image_url\",\"url\",\n",
    "                                      \"lat\",\"long\",\"description\"])\n",
    "df_vehicles.shape"
   ]
  },
  {
   "cell_type": "markdown",
   "id": "0e6fdf1d",
   "metadata": {},
   "source": [
    "#### Handling missing values"
   ]
  },
  {
   "cell_type": "markdown",
   "id": "0329cf56",
   "metadata": {},
   "source": [
    "First we get a count of all missing values present under each column"
   ]
  },
  {
   "cell_type": "code",
   "execution_count": 122,
   "id": "8489ed25",
   "metadata": {},
   "outputs": [
    {
     "data": {
      "text/plain": [
       "region               0\n",
       "price                0\n",
       "year              1205\n",
       "manufacturer     17646\n",
       "model             5277\n",
       "condition       174104\n",
       "cylinders       177678\n",
       "fuel              3013\n",
       "odometer          4400\n",
       "title_status      8242\n",
       "transmission      2556\n",
       "drive           130567\n",
       "size            306361\n",
       "type             92858\n",
       "paint_color     130203\n",
       "state                0\n",
       "posting_date        68\n",
       "dtype: int64"
      ]
     },
     "execution_count": 122,
     "metadata": {},
     "output_type": "execute_result"
    }
   ],
   "source": [
    "df_vehicles.isna().sum()"
   ]
  },
  {
   "cell_type": "markdown",
   "id": "d08bd187",
   "metadata": {},
   "source": [
    "Further inspecting the size column which has the largest number of missing values"
   ]
  },
  {
   "cell_type": "code",
   "execution_count": 123,
   "id": "75b3ccb2",
   "metadata": {},
   "outputs": [
    {
     "data": {
      "text/plain": [
       "array([nan, 'full-size', 'mid-size', 'compact', 'sub-compact'],\n",
       "      dtype=object)"
      ]
     },
     "execution_count": 123,
     "metadata": {},
     "output_type": "execute_result"
    }
   ],
   "source": [
    "df_vehicles['size'].unique()"
   ]
  },
  {
   "cell_type": "markdown",
   "id": "72fc4016",
   "metadata": {},
   "source": [
    "We will modify the size column to use numerical values"
   ]
  },
  {
   "cell_type": "code",
   "execution_count": 124,
   "id": "b8446dc7",
   "metadata": {},
   "outputs": [],
   "source": [
    "#clearing nan first\n",
    "df_vehicles['size'][df_vehicles['size'].isna()]='others'\n",
    "#creating codes\n",
    "df_vehicles['size_codes']=df_vehicles['size'].astype(\"category\")\n",
    "df_vehicles['size_codes']=df_vehicles['size_codes'].cat.codes\n",
    "# df_vehicles['size'][df_vehicles['size'] == \"full-size\" ]=4\n",
    "# df_vehicles['size'][df_vehicles['size'] == \"mid-size\" ]=3\n",
    "# df_vehicles['size'][df_vehicles['size'] == \"compact\"]=2\n",
    "# df_vehicles['size'][df_vehicles['size'] == \"sub-compact\"]=1"
   ]
  },
  {
   "cell_type": "code",
   "execution_count": 125,
   "id": "02381806",
   "metadata": {},
   "outputs": [
    {
     "data": {
      "text/plain": [
       "array([3, 1, 2, 0, 4], dtype=int8)"
      ]
     },
     "execution_count": 125,
     "metadata": {},
     "output_type": "execute_result"
    }
   ],
   "source": [
    "df_vehicles[\"size_codes\"].unique()"
   ]
  },
  {
   "cell_type": "markdown",
   "id": "1136b449",
   "metadata": {},
   "source": [
    "So the size of the vehicle is now updated as the following :<br>\n",
    "\"Missing\": 0,<br>\"full-size\": 4,<br>\"mid-size\": 3,<br>\"compact\": 2,<br>\"sub-compact\": 1\n"
   ]
  },
  {
   "cell_type": "markdown",
   "id": "530428b0",
   "metadata": {},
   "source": [
    "Checking manufacturer values"
   ]
  },
  {
   "cell_type": "code",
   "execution_count": 126,
   "id": "cd727cd7",
   "metadata": {},
   "outputs": [
    {
     "data": {
      "text/plain": [
       "array([nan, 'gmc', 'chevrolet', 'toyota', 'ford', 'jeep', 'nissan', 'ram',\n",
       "       'mazda', 'cadillac', 'honda', 'dodge', 'lexus', 'jaguar', 'buick',\n",
       "       'chrysler', 'volvo', 'audi', 'infiniti', 'lincoln', 'alfa-romeo',\n",
       "       'subaru', 'acura', 'hyundai', 'mercedes-benz', 'bmw', 'mitsubishi',\n",
       "       'volkswagen', 'porsche', 'kia', 'rover', 'ferrari', 'mini',\n",
       "       'pontiac', 'fiat', 'tesla', 'saturn', 'mercury', 'harley-davidson',\n",
       "       'datsun', 'aston-martin', 'land rover', 'morgan'], dtype=object)"
      ]
     },
     "execution_count": 126,
     "metadata": {},
     "output_type": "execute_result"
    }
   ],
   "source": [
    "df_vehicles[\"manufacturer\"].unique()"
   ]
  },
  {
   "cell_type": "markdown",
   "id": "eedd4157",
   "metadata": {},
   "source": [
    "Replacing missing values with \"Others\""
   ]
  },
  {
   "cell_type": "code",
   "execution_count": 127,
   "id": "0019ea64",
   "metadata": {},
   "outputs": [],
   "source": [
    "df_vehicles['manufacturer'][df_vehicles['manufacturer'].isna()]='others'"
   ]
  },
  {
   "cell_type": "code",
   "execution_count": 128,
   "id": "d585f1a7",
   "metadata": {},
   "outputs": [
    {
     "data": {
      "text/plain": [
       "ford               70985\n",
       "chevrolet          55064\n",
       "toyota             34202\n",
       "honda              21269\n",
       "nissan             19067\n",
       "jeep               19014\n",
       "ram                18342\n",
       "others             17646\n",
       "gmc                16785\n",
       "bmw                14699\n",
       "dodge              13707\n",
       "mercedes-benz      11817\n",
       "hyundai            10338\n",
       "subaru              9495\n",
       "volkswagen          9345\n",
       "kia                 8457\n",
       "lexus               8200\n",
       "audi                7573\n",
       "cadillac            6953\n",
       "chrysler            6031\n",
       "acura               5978\n",
       "buick               5501\n",
       "mazda               5427\n",
       "infiniti            4802\n",
       "lincoln             4220\n",
       "volvo               3374\n",
       "mitsubishi          3292\n",
       "mini                2376\n",
       "pontiac             2288\n",
       "rover               2113\n",
       "jaguar              1946\n",
       "porsche             1384\n",
       "mercury             1184\n",
       "saturn              1090\n",
       "alfa-romeo           897\n",
       "tesla                868\n",
       "fiat                 792\n",
       "harley-davidson      153\n",
       "ferrari               95\n",
       "datsun                63\n",
       "aston-martin          24\n",
       "land rover            21\n",
       "morgan                 3\n",
       "Name: manufacturer, dtype: int64"
      ]
     },
     "execution_count": 128,
     "metadata": {},
     "output_type": "execute_result"
    }
   ],
   "source": [
    "df_vehicles['manufacturer'].value_counts()"
   ]
  },
  {
   "cell_type": "markdown",
   "id": "a2b1c1be",
   "metadata": {},
   "source": [
    "All missing values are now replaced with 'Others'"
   ]
  },
  {
   "cell_type": "markdown",
   "id": "aa3f762c",
   "metadata": {},
   "source": [
    "Also most of the vehicle listings seems to be manufactured by 'ford'"
   ]
  },
  {
   "cell_type": "code",
   "execution_count": 129,
   "id": "856eb748",
   "metadata": {},
   "outputs": [],
   "source": [
    "df_vehicles['make']=df_vehicles['manufacturer'].astype('category')\n",
    "df_vehicles['make']=df_vehicles['make'].cat.codes"
   ]
  },
  {
   "cell_type": "markdown",
   "id": "14667dab",
   "metadata": {},
   "source": [
    "Further dropping all the missing values from the dataset"
   ]
  },
  {
   "cell_type": "code",
   "execution_count": 199,
   "id": "024ccfa7",
   "metadata": {},
   "outputs": [],
   "source": [
    "df_vehicles['model_codes']=df_vehicles['model'].astype('category')\n",
    "df_vehicles['model_codes']=df_vehicles['model_codes'].cat.codes"
   ]
  },
  {
   "cell_type": "markdown",
   "id": "99b1c2aa",
   "metadata": {},
   "source": [
    "Filtering out vehicles with make year less than 1970"
   ]
  },
  {
   "cell_type": "code",
   "execution_count": 130,
   "id": "270d8e04",
   "metadata": {},
   "outputs": [
    {
     "data": {
      "text/plain": [
       "420048"
      ]
     },
     "execution_count": 130,
     "metadata": {},
     "output_type": "execute_result"
    }
   ],
   "source": [
    "df_vehicles=df_vehicles[df_vehicles['year']>1970]\n",
    "len(df_vehicles)"
   ]
  },
  {
   "cell_type": "markdown",
   "id": "7f9aab25",
   "metadata": {},
   "source": [
    "Converting vehicle condition to numberic value"
   ]
  },
  {
   "cell_type": "code",
   "execution_count": 131,
   "id": "2110107a",
   "metadata": {},
   "outputs": [
    {
     "data": {
      "text/plain": [
       "array(['good', 'excellent', 'fair', 'like new', nan, 'new', 'salvage'],\n",
       "      dtype=object)"
      ]
     },
     "execution_count": 131,
     "metadata": {},
     "output_type": "execute_result"
    }
   ],
   "source": [
    "df_vehicles.condition.unique()"
   ]
  },
  {
   "cell_type": "code",
   "execution_count": 132,
   "id": "c00bbce5",
   "metadata": {},
   "outputs": [],
   "source": [
    "df_vehicles['condition'].fillna('other',inplace=True)\n",
    "df_vehicles['condition_codes']=df_vehicles.condition.astype('category')\n",
    "df_vehicles['condition_codes']=df_vehicles['condition_codes'].cat.codes"
   ]
  },
  {
   "cell_type": "code",
   "execution_count": 133,
   "id": "c353716e",
   "metadata": {},
   "outputs": [
    {
     "data": {
      "text/plain": [
       "array([2, 0, 1, 3, 5, 4, 6], dtype=int8)"
      ]
     },
     "execution_count": 133,
     "metadata": {},
     "output_type": "execute_result"
    }
   ],
   "source": [
    "df_vehicles.condition_codes.unique()"
   ]
  },
  {
   "cell_type": "markdown",
   "id": "2661fed8",
   "metadata": {},
   "source": [
    "Converting fuel type to numeric value"
   ]
  },
  {
   "cell_type": "code",
   "execution_count": 134,
   "id": "13952371",
   "metadata": {},
   "outputs": [
    {
     "data": {
      "text/plain": [
       "array(['gas', 'other', 'diesel', 'hybrid', nan, 'electric'], dtype=object)"
      ]
     },
     "execution_count": 134,
     "metadata": {},
     "output_type": "execute_result"
    }
   ],
   "source": [
    "df_vehicles.fuel.unique()"
   ]
  },
  {
   "cell_type": "code",
   "execution_count": 135,
   "id": "6b395c18",
   "metadata": {},
   "outputs": [
    {
     "data": {
      "text/plain": [
       "array([ 2,  4,  0,  3, -1,  1], dtype=int8)"
      ]
     },
     "execution_count": 135,
     "metadata": {},
     "output_type": "execute_result"
    }
   ],
   "source": [
    "df_vehicles[\"fuel_codes\"]=df_vehicles[\"fuel\"].astype('category')\n",
    "df_vehicles['fuel_codes']=df_vehicles['fuel_codes'].cat.codes\n",
    "df_vehicles.fuel_codes.unique()"
   ]
  },
  {
   "cell_type": "markdown",
   "id": "8b7a71ce",
   "metadata": {},
   "source": [
    "Converting title status to numeric"
   ]
  },
  {
   "cell_type": "code",
   "execution_count": 136,
   "id": "7d6f3aab",
   "metadata": {},
   "outputs": [
    {
     "data": {
      "text/plain": [
       "array(['clean', 'rebuilt', 'lien', nan, 'salvage', 'missing',\n",
       "       'parts only'], dtype=object)"
      ]
     },
     "execution_count": 136,
     "metadata": {},
     "output_type": "execute_result"
    }
   ],
   "source": [
    "df_vehicles.title_status.unique()"
   ]
  },
  {
   "cell_type": "code",
   "execution_count": 137,
   "id": "d07f886b",
   "metadata": {},
   "outputs": [
    {
     "data": {
      "text/plain": [
       "array([ 0,  4,  1, -1,  5,  2,  3], dtype=int8)"
      ]
     },
     "execution_count": 137,
     "metadata": {},
     "output_type": "execute_result"
    }
   ],
   "source": [
    "df_vehicles[\"title_status_codes\"]=df_vehicles[\"title_status\"].astype('category')\n",
    "df_vehicles['title_status_codes']=df_vehicles['title_status_codes'].cat.codes\n",
    "df_vehicles.title_status_codes.unique()\n"
   ]
  },
  {
   "cell_type": "markdown",
   "id": "7cebcf92",
   "metadata": {},
   "source": [
    "Converting transmission to numeric"
   ]
  },
  {
   "cell_type": "code",
   "execution_count": 138,
   "id": "b31d58d4",
   "metadata": {},
   "outputs": [
    {
     "data": {
      "text/plain": [
       "array(['other', 'automatic', 'manual', nan], dtype=object)"
      ]
     },
     "execution_count": 138,
     "metadata": {},
     "output_type": "execute_result"
    }
   ],
   "source": [
    "df_vehicles.transmission.unique()"
   ]
  },
  {
   "cell_type": "code",
   "execution_count": 139,
   "id": "944cbfb8",
   "metadata": {},
   "outputs": [
    {
     "data": {
      "text/plain": [
       "array([ 2,  0,  1, -1], dtype=int8)"
      ]
     },
     "execution_count": 139,
     "metadata": {},
     "output_type": "execute_result"
    }
   ],
   "source": [
    "df_vehicles[\"transmission_codes\"]=df_vehicles[\"transmission\"].astype('category')\n",
    "df_vehicles['transmission_codes']=df_vehicles['transmission_codes'].cat.codes\n",
    "df_vehicles.transmission_codes.unique()"
   ]
  },
  {
   "cell_type": "markdown",
   "id": "3c7e93ed",
   "metadata": {},
   "source": [
    "Converting drive to numeric "
   ]
  },
  {
   "cell_type": "code",
   "execution_count": 140,
   "id": "2c60a185",
   "metadata": {},
   "outputs": [
    {
     "data": {
      "text/plain": [
       "array([nan, 'rwd', '4wd', 'fwd'], dtype=object)"
      ]
     },
     "execution_count": 140,
     "metadata": {},
     "output_type": "execute_result"
    }
   ],
   "source": [
    "df_vehicles.drive.unique()"
   ]
  },
  {
   "cell_type": "code",
   "execution_count": 141,
   "id": "c9568442",
   "metadata": {},
   "outputs": [
    {
     "data": {
      "text/plain": [
       "array([-1,  2,  0,  1], dtype=int8)"
      ]
     },
     "execution_count": 141,
     "metadata": {},
     "output_type": "execute_result"
    }
   ],
   "source": [
    "df_vehicles[\"drive_codes\"]=df_vehicles[\"drive\"].astype('category')\n",
    "df_vehicles['drive_codes']=df_vehicles['drive_codes'].cat.codes\n",
    "df_vehicles.drive_codes.unique()"
   ]
  },
  {
   "cell_type": "markdown",
   "id": "a88b603f",
   "metadata": {},
   "source": [
    "Creating new type variable for analysis down the line"
   ]
  },
  {
   "cell_type": "code",
   "execution_count": 142,
   "id": "ef7305fa",
   "metadata": {},
   "outputs": [
    {
     "data": {
      "text/plain": [
       "array(['pickup', 'truck', 'other', nan, 'coupe', 'SUV', 'hatchback',\n",
       "       'mini-van', 'sedan', 'offroad', 'bus', 'van', 'convertible',\n",
       "       'wagon'], dtype=object)"
      ]
     },
     "execution_count": 142,
     "metadata": {},
     "output_type": "execute_result"
    }
   ],
   "source": [
    "df_vehicles['type'].unique()"
   ]
  },
  {
   "cell_type": "code",
   "execution_count": 143,
   "id": "2ccce66e",
   "metadata": {},
   "outputs": [
    {
     "data": {
      "text/plain": [
       "array([ 8, 10,  7, -1,  3,  0,  4,  5,  9,  6,  1, 11,  2, 12], dtype=int8)"
      ]
     },
     "execution_count": 143,
     "metadata": {},
     "output_type": "execute_result"
    }
   ],
   "source": [
    "df_vehicles[\"type_codes\"]=df_vehicles[\"type\"].astype('category')\n",
    "df_vehicles['type_codes']=df_vehicles['type_codes'].cat.codes\n",
    "df_vehicles['type_codes'].unique()"
   ]
  },
  {
   "cell_type": "markdown",
   "id": "b11ff0fb",
   "metadata": {},
   "source": [
    "Adding numeric paint color variable"
   ]
  },
  {
   "cell_type": "code",
   "execution_count": 144,
   "id": "7626fd1a",
   "metadata": {},
   "outputs": [
    {
     "data": {
      "text/plain": [
       "array(['white', 'blue', 'red', 'black', 'silver', 'grey', nan, 'brown',\n",
       "       'yellow', 'orange', 'green', 'custom', 'purple'], dtype=object)"
      ]
     },
     "execution_count": 144,
     "metadata": {},
     "output_type": "execute_result"
    }
   ],
   "source": [
    "df_vehicles['paint_color'].unique()"
   ]
  },
  {
   "cell_type": "code",
   "execution_count": 145,
   "id": "3eac9705",
   "metadata": {},
   "outputs": [
    {
     "data": {
      "text/plain": [
       "array([10,  1,  8,  0,  9,  5, -1,  2, 11,  6,  4,  3,  7], dtype=int8)"
      ]
     },
     "execution_count": 145,
     "metadata": {},
     "output_type": "execute_result"
    }
   ],
   "source": [
    "df_vehicles[\"paint_color_codes\"]=df_vehicles[\"paint_color\"].astype('category')\n",
    "df_vehicles['paint_color_codes']=df_vehicles['paint_color_codes'].cat.codes\n",
    "\n",
    "df_vehicles['paint_color_codes'].unique()"
   ]
  },
  {
   "cell_type": "markdown",
   "id": "177b5c87",
   "metadata": {},
   "source": [
    "Exploring vehicles based on number of cylinders present in engine"
   ]
  },
  {
   "cell_type": "code",
   "execution_count": 146,
   "id": "c78c167e",
   "metadata": {
    "scrolled": true
   },
   "outputs": [
    {
     "data": {
      "text/plain": [
       "array(['8 cylinders', '6 cylinders', nan, '4 cylinders', '5 cylinders',\n",
       "       'other', '3 cylinders', '10 cylinders', '12 cylinders'],\n",
       "      dtype=object)"
      ]
     },
     "execution_count": 146,
     "metadata": {},
     "output_type": "execute_result"
    }
   ],
   "source": [
    "df_vehicles['cylinders'].unique()"
   ]
  },
  {
   "cell_type": "markdown",
   "id": "57cc2a62",
   "metadata": {},
   "source": [
    "Replacing string values and dropping 'other'"
   ]
  },
  {
   "cell_type": "code",
   "execution_count": 147,
   "id": "bc014ce3",
   "metadata": {},
   "outputs": [],
   "source": [
    "df_vehicles[\"cylinders_codes\"]=df_vehicles[\"cylinders\"].astype('category')\n",
    "df_vehicles['cylinders_codes']=df_vehicles['cylinders_codes'].cat.codes\n",
    "df_vehicles=df_vehicles.dropna()\n",
    "pickle.dump(df_vehicles,open(\"static/models/df_vehicles.p\",'wb'))"
   ]
  },
  {
   "cell_type": "code",
   "execution_count": 148,
   "id": "b5d84be5",
   "metadata": {
    "scrolled": false
   },
   "outputs": [
    {
     "data": {
      "text/plain": [
       "<AxesSubplot:title={'center':'# of cyclinders'}, xlabel='cylinders', ylabel='count'>"
      ]
     },
     "execution_count": 148,
     "metadata": {},
     "output_type": "execute_result"
    },
    {
     "data": {
      "image/png": "[encoded data removed]",
      "text/plain": [
       "<Figure size 640x480 with 1 Axes>"
      ]
     },
     "metadata": {},
     "output_type": "display_data"
    }
   ],
   "source": [
    "df_cylider=df_vehicles[\"cylinders\"].value_counts().reset_index()\n",
    "df_cylider.columns=[\"cylinders\",\"count\"]\n",
    "plt.title(\"# of cyclinders\",size=15)\n",
    "sns.barplot(df_cylider['cylinders'],df_cylider['count'],color = 'b')"
   ]
  },
  {
   "cell_type": "code",
   "execution_count": 149,
   "id": "ad956fff",
   "metadata": {},
   "outputs": [
    {
     "data": {
      "text/plain": [
       "159890"
      ]
     },
     "execution_count": 149,
     "metadata": {},
     "output_type": "execute_result"
    }
   ],
   "source": [
    "len(df_vehicles)"
   ]
  },
  {
   "cell_type": "markdown",
   "id": "59a64e0b",
   "metadata": {},
   "source": [
    "So for further analysis, we will be considering a total of 118672 records "
   ]
  },
  {
   "cell_type": "markdown",
   "id": "c60e3bc1",
   "metadata": {},
   "source": [
    "#### Now lets explore vehicles per region <br>\n",
    "\n",
    "Grouping based on region"
   ]
  },
  {
   "cell_type": "code",
   "execution_count": 150,
   "id": "164c7d2a",
   "metadata": {},
   "outputs": [
    {
     "data": {
      "text/plain": [
       "<AxesSubplot:title={'center':'Used vehicles available by region - top 10'}, xlabel='region', ylabel='count'>"
      ]
     },
     "execution_count": 150,
     "metadata": {},
     "output_type": "execute_result"
    },
    {
     "data": {
      "image/png": "[encoded data removed]",
      "text/plain": [
       "<Figure size 640x480 with 1 Axes>"
      ]
     },
     "metadata": {},
     "output_type": "display_data"
    }
   ],
   "source": [
    "df_reg=df_vehicles[\"region\"].value_counts()[:10].reset_index()\n",
    "df_reg.columns=[\"region\",\"count\"]\n",
    "plt.xticks(rotation=70)\n",
    "plt.title(\"Used vehicles available by region - top 10\",size=15)\n",
    "sns.barplot(df_reg['region'],df_reg['count'],color = 'g')"
   ]
  },
  {
   "cell_type": "markdown",
   "id": "bb0fb4af",
   "metadata": {},
   "source": [
    "#### Vermount seems to have the most number of listings of used vehicles "
   ]
  },
  {
   "cell_type": "markdown",
   "id": "3364247f",
   "metadata": {},
   "source": [
    "Exploring based on year of manufacturing"
   ]
  },
  {
   "cell_type": "code",
   "execution_count": 151,
   "id": "cecdbaef",
   "metadata": {},
   "outputs": [
    {
     "data": {
      "image/png": "[encoded data removed]",
      "text/plain": [
       "<Figure size 1000x1500 with 1 Axes>"
      ]
     },
     "metadata": {},
     "output_type": "display_data"
    }
   ],
   "source": [
    "plt.figure(figsize=(10,15))\n",
    "ax = sns.countplot(df_vehicles['year'])\n",
    "plt.title(\"Car Model Year\",size=15)\n",
    "k = ax.set_xticklabels(ax.get_xticklabels(),rotation=90,size=10)"
   ]
  },
  {
   "cell_type": "markdown",
   "id": "f2fdf3dd",
   "metadata": {},
   "source": [
    "Most vehicles seems to have been made during the 2012-2014 period"
   ]
  },
  {
   "cell_type": "markdown",
   "id": "79fcade1",
   "metadata": {},
   "source": [
    "#### Grouping vehicles based on color"
   ]
  },
  {
   "cell_type": "code",
   "execution_count": 152,
   "id": "7f9d5c59",
   "metadata": {
    "scrolled": false
   },
   "outputs": [
    {
     "data": {
      "text/plain": [
       "<AxesSubplot:title={'center':'Color count of Cars'}, xlabel='car color', ylabel='count'>"
      ]
     },
     "execution_count": 152,
     "metadata": {},
     "output_type": "execute_result"
    },
    {
     "data": {
      "image/png": "[encoded data removed]",
      "text/plain": [
       "<Figure size 800x800 with 1 Axes>"
      ]
     },
     "metadata": {},
     "output_type": "display_data"
    }
   ],
   "source": [
    "plt.figure(figsize=(8,8))\n",
    "color_df = df_vehicles['paint_color'].value_counts().reset_index()\n",
    "color_df.columns = ['car color','count']\n",
    "plt.title(\"Color count of Cars\",size=20)\n",
    "sns.barplot(color_df['car color'],color_df['count'],color = 'royalblue')"
   ]
  },
  {
   "cell_type": "markdown",
   "id": "d6857db3",
   "metadata": {},
   "source": [
    "Most of the listings seems to be of 'white' color. No surprise there. Lease being purple."
   ]
  },
  {
   "cell_type": "markdown",
   "id": "f1aeeb17",
   "metadata": {},
   "source": [
    "#### Examining price range"
   ]
  },
  {
   "cell_type": "code",
   "execution_count": 153,
   "id": "149677da",
   "metadata": {},
   "outputs": [
    {
     "data": {
      "text/html": [
       "<div>\n",
       "<style scoped>\n",
       "    .dataframe tbody tr th:only-of-type {\n",
       "        vertical-align: middle;\n",
       "    }\n",
       "\n",
       "    .dataframe tbody tr th {\n",
       "        vertical-align: top;\n",
       "    }\n",
       "\n",
       "    .dataframe thead th {\n",
       "        text-align: right;\n",
       "    }\n",
       "</style>\n",
       "<table border=\"1\" class=\"dataframe\">\n",
       "  <thead>\n",
       "    <tr style=\"text-align: right;\">\n",
       "      <th></th>\n",
       "      <th>region</th>\n",
       "      <th>price</th>\n",
       "      <th>year</th>\n",
       "      <th>manufacturer</th>\n",
       "      <th>model</th>\n",
       "      <th>condition</th>\n",
       "      <th>cylinders</th>\n",
       "      <th>fuel</th>\n",
       "      <th>odometer</th>\n",
       "      <th>title_status</th>\n",
       "      <th>...</th>\n",
       "      <th>size_codes</th>\n",
       "      <th>make</th>\n",
       "      <th>condition_codes</th>\n",
       "      <th>fuel_codes</th>\n",
       "      <th>title_status_codes</th>\n",
       "      <th>transmission_codes</th>\n",
       "      <th>drive_codes</th>\n",
       "      <th>type_codes</th>\n",
       "      <th>paint_color_codes</th>\n",
       "      <th>cylinders_codes</th>\n",
       "    </tr>\n",
       "  </thead>\n",
       "  <tbody>\n",
       "    <tr>\n",
       "      <th>8901</th>\n",
       "      <td>flagstaff / sedona</td>\n",
       "      <td>229500</td>\n",
       "      <td>2018.0</td>\n",
       "      <td>ferrari</td>\n",
       "      <td>488 spider</td>\n",
       "      <td>other</td>\n",
       "      <td>8 cylinders</td>\n",
       "      <td>gas</td>\n",
       "      <td>7910.0</td>\n",
       "      <td>salvage</td>\n",
       "      <td>...</td>\n",
       "      <td>4</td>\n",
       "      <td>11</td>\n",
       "      <td>5</td>\n",
       "      <td>2</td>\n",
       "      <td>5</td>\n",
       "      <td>0</td>\n",
       "      <td>2</td>\n",
       "      <td>2</td>\n",
       "      <td>8</td>\n",
       "      <td>6</td>\n",
       "    </tr>\n",
       "    <tr>\n",
       "      <th>9080</th>\n",
       "      <td>flagstaff / sedona</td>\n",
       "      <td>229500</td>\n",
       "      <td>2019.0</td>\n",
       "      <td>others</td>\n",
       "      <td>Lamborghini Urus</td>\n",
       "      <td>other</td>\n",
       "      <td>8 cylinders</td>\n",
       "      <td>gas</td>\n",
       "      <td>32922.0</td>\n",
       "      <td>clean</td>\n",
       "      <td>...</td>\n",
       "      <td>0</td>\n",
       "      <td>32</td>\n",
       "      <td>5</td>\n",
       "      <td>2</td>\n",
       "      <td>0</td>\n",
       "      <td>0</td>\n",
       "      <td>0</td>\n",
       "      <td>0</td>\n",
       "      <td>10</td>\n",
       "      <td>6</td>\n",
       "    </tr>\n",
       "    <tr>\n",
       "      <th>14950</th>\n",
       "      <td>tucson</td>\n",
       "      <td>239995</td>\n",
       "      <td>2017.0</td>\n",
       "      <td>ferrari</td>\n",
       "      <td>488 gtb</td>\n",
       "      <td>other</td>\n",
       "      <td>8 cylinders</td>\n",
       "      <td>gas</td>\n",
       "      <td>6450.0</td>\n",
       "      <td>clean</td>\n",
       "      <td>...</td>\n",
       "      <td>3</td>\n",
       "      <td>11</td>\n",
       "      <td>5</td>\n",
       "      <td>2</td>\n",
       "      <td>0</td>\n",
       "      <td>0</td>\n",
       "      <td>2</td>\n",
       "      <td>3</td>\n",
       "      <td>8</td>\n",
       "      <td>6</td>\n",
       "    </tr>\n",
       "    <tr>\n",
       "      <th>16684</th>\n",
       "      <td>tucson</td>\n",
       "      <td>239995</td>\n",
       "      <td>2017.0</td>\n",
       "      <td>ferrari</td>\n",
       "      <td>488 gtb</td>\n",
       "      <td>other</td>\n",
       "      <td>8 cylinders</td>\n",
       "      <td>gas</td>\n",
       "      <td>6012.0</td>\n",
       "      <td>clean</td>\n",
       "      <td>...</td>\n",
       "      <td>3</td>\n",
       "      <td>11</td>\n",
       "      <td>5</td>\n",
       "      <td>2</td>\n",
       "      <td>0</td>\n",
       "      <td>0</td>\n",
       "      <td>2</td>\n",
       "      <td>3</td>\n",
       "      <td>8</td>\n",
       "      <td>6</td>\n",
       "    </tr>\n",
       "    <tr>\n",
       "      <th>29386</th>\n",
       "      <td>humboldt county</td>\n",
       "      <td>1111111111</td>\n",
       "      <td>1999.0</td>\n",
       "      <td>ford</td>\n",
       "      <td>f350 super duty lariat</td>\n",
       "      <td>good</td>\n",
       "      <td>8 cylinders</td>\n",
       "      <td>diesel</td>\n",
       "      <td>149000.0</td>\n",
       "      <td>clean</td>\n",
       "      <td>...</td>\n",
       "      <td>1</td>\n",
       "      <td>13</td>\n",
       "      <td>2</td>\n",
       "      <td>0</td>\n",
       "      <td>0</td>\n",
       "      <td>0</td>\n",
       "      <td>2</td>\n",
       "      <td>8</td>\n",
       "      <td>10</td>\n",
       "      <td>6</td>\n",
       "    </tr>\n",
       "    <tr>\n",
       "      <th>33026</th>\n",
       "      <td>los angeles</td>\n",
       "      <td>255000</td>\n",
       "      <td>2018.0</td>\n",
       "      <td>mercedes-benz</td>\n",
       "      <td>g550 square</td>\n",
       "      <td>other</td>\n",
       "      <td>8 cylinders</td>\n",
       "      <td>gas</td>\n",
       "      <td>2000.0</td>\n",
       "      <td>clean</td>\n",
       "      <td>...</td>\n",
       "      <td>3</td>\n",
       "      <td>26</td>\n",
       "      <td>5</td>\n",
       "      <td>2</td>\n",
       "      <td>0</td>\n",
       "      <td>0</td>\n",
       "      <td>0</td>\n",
       "      <td>0</td>\n",
       "      <td>0</td>\n",
       "      <td>6</td>\n",
       "    </tr>\n",
       "    <tr>\n",
       "      <th>68935</th>\n",
       "      <td>ventura county</td>\n",
       "      <td>2000000</td>\n",
       "      <td>2002.0</td>\n",
       "      <td>saturn</td>\n",
       "      <td>l-series l200 4dr sedan</td>\n",
       "      <td>good</td>\n",
       "      <td>4 cylinders</td>\n",
       "      <td>gas</td>\n",
       "      <td>164290.0</td>\n",
       "      <td>clean</td>\n",
       "      <td>...</td>\n",
       "      <td>2</td>\n",
       "      <td>37</td>\n",
       "      <td>2</td>\n",
       "      <td>2</td>\n",
       "      <td>0</td>\n",
       "      <td>0</td>\n",
       "      <td>1</td>\n",
       "      <td>9</td>\n",
       "      <td>4</td>\n",
       "      <td>3</td>\n",
       "    </tr>\n",
       "    <tr>\n",
       "      <th>95119</th>\n",
       "      <td>ft myers / SW florida</td>\n",
       "      <td>990000</td>\n",
       "      <td>2017.0</td>\n",
       "      <td>mercedes-benz</td>\n",
       "      <td>amg g 63</td>\n",
       "      <td>other</td>\n",
       "      <td>8 cylinders</td>\n",
       "      <td>gas</td>\n",
       "      <td>4085.0</td>\n",
       "      <td>clean</td>\n",
       "      <td>...</td>\n",
       "      <td>3</td>\n",
       "      <td>26</td>\n",
       "      <td>5</td>\n",
       "      <td>2</td>\n",
       "      <td>0</td>\n",
       "      <td>0</td>\n",
       "      <td>0</td>\n",
       "      <td>0</td>\n",
       "      <td>10</td>\n",
       "      <td>6</td>\n",
       "    </tr>\n",
       "    <tr>\n",
       "      <th>106361</th>\n",
       "      <td>orlando</td>\n",
       "      <td>516999</td>\n",
       "      <td>2016.0</td>\n",
       "      <td>others</td>\n",
       "      <td>Lambo Aventador SV Roadster</td>\n",
       "      <td>like new</td>\n",
       "      <td>12 cylinders</td>\n",
       "      <td>gas</td>\n",
       "      <td>9982.0</td>\n",
       "      <td>clean</td>\n",
       "      <td>...</td>\n",
       "      <td>1</td>\n",
       "      <td>32</td>\n",
       "      <td>3</td>\n",
       "      <td>2</td>\n",
       "      <td>0</td>\n",
       "      <td>0</td>\n",
       "      <td>0</td>\n",
       "      <td>2</td>\n",
       "      <td>10</td>\n",
       "      <td>1</td>\n",
       "    </tr>\n",
       "    <tr>\n",
       "      <th>111963</th>\n",
       "      <td>south florida</td>\n",
       "      <td>285000</td>\n",
       "      <td>2021.0</td>\n",
       "      <td>others</td>\n",
       "      <td>Lamborghini huracan evo</td>\n",
       "      <td>excellent</td>\n",
       "      <td>10 cylinders</td>\n",
       "      <td>gas</td>\n",
       "      <td>950.0</td>\n",
       "      <td>clean</td>\n",
       "      <td>...</td>\n",
       "      <td>3</td>\n",
       "      <td>32</td>\n",
       "      <td>0</td>\n",
       "      <td>2</td>\n",
       "      <td>0</td>\n",
       "      <td>0</td>\n",
       "      <td>2</td>\n",
       "      <td>3</td>\n",
       "      <td>4</td>\n",
       "      <td>0</td>\n",
       "    </tr>\n",
       "    <tr>\n",
       "      <th>127596</th>\n",
       "      <td>hawaii</td>\n",
       "      <td>225995</td>\n",
       "      <td>2016.0</td>\n",
       "      <td>porsche</td>\n",
       "      <td>911</td>\n",
       "      <td>other</td>\n",
       "      <td>6 cylinders</td>\n",
       "      <td>gas</td>\n",
       "      <td>159.0</td>\n",
       "      <td>clean</td>\n",
       "      <td>...</td>\n",
       "      <td>3</td>\n",
       "      <td>34</td>\n",
       "      <td>5</td>\n",
       "      <td>2</td>\n",
       "      <td>0</td>\n",
       "      <td>2</td>\n",
       "      <td>2</td>\n",
       "      <td>3</td>\n",
       "      <td>7</td>\n",
       "      <td>5</td>\n",
       "    </tr>\n",
       "    <tr>\n",
       "      <th>128349</th>\n",
       "      <td>hawaii</td>\n",
       "      <td>289995</td>\n",
       "      <td>2016.0</td>\n",
       "      <td>ferrari</td>\n",
       "      <td>f12berlinetta</td>\n",
       "      <td>other</td>\n",
       "      <td>12 cylinders</td>\n",
       "      <td>gas</td>\n",
       "      <td>3675.0</td>\n",
       "      <td>clean</td>\n",
       "      <td>...</td>\n",
       "      <td>3</td>\n",
       "      <td>11</td>\n",
       "      <td>5</td>\n",
       "      <td>2</td>\n",
       "      <td>0</td>\n",
       "      <td>1</td>\n",
       "      <td>2</td>\n",
       "      <td>3</td>\n",
       "      <td>10</td>\n",
       "      <td>1</td>\n",
       "    </tr>\n",
       "    <tr>\n",
       "      <th>129301</th>\n",
       "      <td>hawaii</td>\n",
       "      <td>289900</td>\n",
       "      <td>2018.0</td>\n",
       "      <td>ferrari</td>\n",
       "      <td>488 spider</td>\n",
       "      <td>other</td>\n",
       "      <td>8 cylinders</td>\n",
       "      <td>gas</td>\n",
       "      <td>3300.0</td>\n",
       "      <td>clean</td>\n",
       "      <td>...</td>\n",
       "      <td>3</td>\n",
       "      <td>11</td>\n",
       "      <td>5</td>\n",
       "      <td>2</td>\n",
       "      <td>0</td>\n",
       "      <td>0</td>\n",
       "      <td>2</td>\n",
       "      <td>2</td>\n",
       "      <td>5</td>\n",
       "      <td>6</td>\n",
       "    </tr>\n",
       "    <tr>\n",
       "      <th>136516</th>\n",
       "      <td>spokane / coeur d'alene</td>\n",
       "      <td>17000000</td>\n",
       "      <td>2007.0</td>\n",
       "      <td>ram</td>\n",
       "      <td>2500</td>\n",
       "      <td>good</td>\n",
       "      <td>8 cylinders</td>\n",
       "      <td>diesel</td>\n",
       "      <td>170000.0</td>\n",
       "      <td>rebuilt</td>\n",
       "      <td>...</td>\n",
       "      <td>1</td>\n",
       "      <td>35</td>\n",
       "      <td>2</td>\n",
       "      <td>0</td>\n",
       "      <td>4</td>\n",
       "      <td>0</td>\n",
       "      <td>0</td>\n",
       "      <td>8</td>\n",
       "      <td>0</td>\n",
       "      <td>6</td>\n",
       "    </tr>\n",
       "    <tr>\n",
       "      <th>137807</th>\n",
       "      <td>spokane / coeur d'alene</td>\n",
       "      <td>123456789</td>\n",
       "      <td>1999.0</td>\n",
       "      <td>buick</td>\n",
       "      <td>regal</td>\n",
       "      <td>like new</td>\n",
       "      <td>6 cylinders</td>\n",
       "      <td>gas</td>\n",
       "      <td>96000.0</td>\n",
       "      <td>clean</td>\n",
       "      <td>...</td>\n",
       "      <td>1</td>\n",
       "      <td>5</td>\n",
       "      <td>3</td>\n",
       "      <td>2</td>\n",
       "      <td>0</td>\n",
       "      <td>0</td>\n",
       "      <td>1</td>\n",
       "      <td>9</td>\n",
       "      <td>10</td>\n",
       "      <td>5</td>\n",
       "    </tr>\n",
       "    <tr>\n",
       "      <th>155421</th>\n",
       "      <td>terre haute</td>\n",
       "      <td>1234567</td>\n",
       "      <td>2006.0</td>\n",
       "      <td>jeep</td>\n",
       "      <td>wrangler</td>\n",
       "      <td>like new</td>\n",
       "      <td>6 cylinders</td>\n",
       "      <td>gas</td>\n",
       "      <td>123456.0</td>\n",
       "      <td>clean</td>\n",
       "      <td>...</td>\n",
       "      <td>2</td>\n",
       "      <td>20</td>\n",
       "      <td>3</td>\n",
       "      <td>2</td>\n",
       "      <td>0</td>\n",
       "      <td>0</td>\n",
       "      <td>0</td>\n",
       "      <td>0</td>\n",
       "      <td>3</td>\n",
       "      <td>5</td>\n",
       "    </tr>\n",
       "    <tr>\n",
       "      <th>176115</th>\n",
       "      <td>new orleans</td>\n",
       "      <td>299991</td>\n",
       "      <td>2017.0</td>\n",
       "      <td>others</td>\n",
       "      <td>Lamborghini Huracan</td>\n",
       "      <td>other</td>\n",
       "      <td>10 cylinders</td>\n",
       "      <td>gas</td>\n",
       "      <td>13004.0</td>\n",
       "      <td>clean</td>\n",
       "      <td>...</td>\n",
       "      <td>3</td>\n",
       "      <td>32</td>\n",
       "      <td>5</td>\n",
       "      <td>2</td>\n",
       "      <td>0</td>\n",
       "      <td>0</td>\n",
       "      <td>2</td>\n",
       "      <td>3</td>\n",
       "      <td>1</td>\n",
       "      <td>0</td>\n",
       "    </tr>\n",
       "    <tr>\n",
       "      <th>181026</th>\n",
       "      <td>baltimore</td>\n",
       "      <td>209995</td>\n",
       "      <td>2020.0</td>\n",
       "      <td>mercedes-benz</td>\n",
       "      <td>mercedes-maybach s-class</td>\n",
       "      <td>other</td>\n",
       "      <td>12 cylinders</td>\n",
       "      <td>gas</td>\n",
       "      <td>750.0</td>\n",
       "      <td>clean</td>\n",
       "      <td>...</td>\n",
       "      <td>3</td>\n",
       "      <td>26</td>\n",
       "      <td>5</td>\n",
       "      <td>2</td>\n",
       "      <td>0</td>\n",
       "      <td>0</td>\n",
       "      <td>2</td>\n",
       "      <td>9</td>\n",
       "      <td>0</td>\n",
       "      <td>1</td>\n",
       "    </tr>\n",
       "    <tr>\n",
       "      <th>208617</th>\n",
       "      <td>saginaw-midland-baycity</td>\n",
       "      <td>554900</td>\n",
       "      <td>2019.0</td>\n",
       "      <td>others</td>\n",
       "      <td>f250 xlt crewcab</td>\n",
       "      <td>excellent</td>\n",
       "      <td>8 cylinders</td>\n",
       "      <td>gas</td>\n",
       "      <td>25365.0</td>\n",
       "      <td>lien</td>\n",
       "      <td>...</td>\n",
       "      <td>3</td>\n",
       "      <td>32</td>\n",
       "      <td>0</td>\n",
       "      <td>2</td>\n",
       "      <td>1</td>\n",
       "      <td>0</td>\n",
       "      <td>0</td>\n",
       "      <td>8</td>\n",
       "      <td>10</td>\n",
       "      <td>6</td>\n",
       "    </tr>\n",
       "    <tr>\n",
       "      <th>220647</th>\n",
       "      <td>joplin</td>\n",
       "      <td>299500</td>\n",
       "      <td>2018.0</td>\n",
       "      <td>others</td>\n",
       "      <td>Lamborghini Aventador</td>\n",
       "      <td>other</td>\n",
       "      <td>12 cylinders</td>\n",
       "      <td>gas</td>\n",
       "      <td>3171.0</td>\n",
       "      <td>salvage</td>\n",
       "      <td>...</td>\n",
       "      <td>4</td>\n",
       "      <td>32</td>\n",
       "      <td>5</td>\n",
       "      <td>2</td>\n",
       "      <td>5</td>\n",
       "      <td>0</td>\n",
       "      <td>0</td>\n",
       "      <td>3</td>\n",
       "      <td>1</td>\n",
       "      <td>1</td>\n",
       "    </tr>\n",
       "    <tr>\n",
       "      <th>230753</th>\n",
       "      <td>asheville</td>\n",
       "      <td>135008900</td>\n",
       "      <td>2008.0</td>\n",
       "      <td>nissan</td>\n",
       "      <td>titan se kingcab</td>\n",
       "      <td>like new</td>\n",
       "      <td>8 cylinders</td>\n",
       "      <td>gas</td>\n",
       "      <td>110500.0</td>\n",
       "      <td>clean</td>\n",
       "      <td>...</td>\n",
       "      <td>1</td>\n",
       "      <td>31</td>\n",
       "      <td>3</td>\n",
       "      <td>2</td>\n",
       "      <td>0</td>\n",
       "      <td>0</td>\n",
       "      <td>0</td>\n",
       "      <td>10</td>\n",
       "      <td>5</td>\n",
       "      <td>6</td>\n",
       "    </tr>\n",
       "    <tr>\n",
       "      <th>274019</th>\n",
       "      <td>long island</td>\n",
       "      <td>261895</td>\n",
       "      <td>2017.0</td>\n",
       "      <td>others</td>\n",
       "      <td>Rolls royce dawn</td>\n",
       "      <td>like new</td>\n",
       "      <td>12 cylinders</td>\n",
       "      <td>gas</td>\n",
       "      <td>5600.0</td>\n",
       "      <td>clean</td>\n",
       "      <td>...</td>\n",
       "      <td>3</td>\n",
       "      <td>32</td>\n",
       "      <td>3</td>\n",
       "      <td>2</td>\n",
       "      <td>0</td>\n",
       "      <td>0</td>\n",
       "      <td>2</td>\n",
       "      <td>2</td>\n",
       "      <td>0</td>\n",
       "      <td>1</td>\n",
       "    </tr>\n",
       "    <tr>\n",
       "      <th>304898</th>\n",
       "      <td>oklahoma city</td>\n",
       "      <td>299991</td>\n",
       "      <td>2017.0</td>\n",
       "      <td>others</td>\n",
       "      <td>Lamborghini Huracan</td>\n",
       "      <td>other</td>\n",
       "      <td>10 cylinders</td>\n",
       "      <td>gas</td>\n",
       "      <td>13004.0</td>\n",
       "      <td>clean</td>\n",
       "      <td>...</td>\n",
       "      <td>3</td>\n",
       "      <td>32</td>\n",
       "      <td>5</td>\n",
       "      <td>2</td>\n",
       "      <td>0</td>\n",
       "      <td>0</td>\n",
       "      <td>2</td>\n",
       "      <td>3</td>\n",
       "      <td>1</td>\n",
       "      <td>0</td>\n",
       "    </tr>\n",
       "    <tr>\n",
       "      <th>307488</th>\n",
       "      <td>stillwater</td>\n",
       "      <td>123456789</td>\n",
       "      <td>1996.0</td>\n",
       "      <td>gmc</td>\n",
       "      <td>sierra 2500</td>\n",
       "      <td>fair</td>\n",
       "      <td>8 cylinders</td>\n",
       "      <td>gas</td>\n",
       "      <td>320000.0</td>\n",
       "      <td>clean</td>\n",
       "      <td>...</td>\n",
       "      <td>1</td>\n",
       "      <td>14</td>\n",
       "      <td>1</td>\n",
       "      <td>2</td>\n",
       "      <td>0</td>\n",
       "      <td>0</td>\n",
       "      <td>0</td>\n",
       "      <td>8</td>\n",
       "      <td>0</td>\n",
       "      <td>6</td>\n",
       "    </tr>\n",
       "    <tr>\n",
       "      <th>314352</th>\n",
       "      <td>corvallis/albany</td>\n",
       "      <td>299500</td>\n",
       "      <td>2018.0</td>\n",
       "      <td>others</td>\n",
       "      <td>Lamborghini Aventador</td>\n",
       "      <td>other</td>\n",
       "      <td>12 cylinders</td>\n",
       "      <td>gas</td>\n",
       "      <td>3171.0</td>\n",
       "      <td>salvage</td>\n",
       "      <td>...</td>\n",
       "      <td>4</td>\n",
       "      <td>32</td>\n",
       "      <td>5</td>\n",
       "      <td>2</td>\n",
       "      <td>5</td>\n",
       "      <td>0</td>\n",
       "      <td>0</td>\n",
       "      <td>3</td>\n",
       "      <td>1</td>\n",
       "      <td>1</td>\n",
       "    </tr>\n",
       "    <tr>\n",
       "      <th>315274</th>\n",
       "      <td>east oregon</td>\n",
       "      <td>229500</td>\n",
       "      <td>2018.0</td>\n",
       "      <td>ferrari</td>\n",
       "      <td>488 spider</td>\n",
       "      <td>other</td>\n",
       "      <td>8 cylinders</td>\n",
       "      <td>gas</td>\n",
       "      <td>7910.0</td>\n",
       "      <td>salvage</td>\n",
       "      <td>...</td>\n",
       "      <td>4</td>\n",
       "      <td>11</td>\n",
       "      <td>5</td>\n",
       "      <td>2</td>\n",
       "      <td>5</td>\n",
       "      <td>0</td>\n",
       "      <td>2</td>\n",
       "      <td>2</td>\n",
       "      <td>8</td>\n",
       "      <td>6</td>\n",
       "    </tr>\n",
       "    <tr>\n",
       "      <th>318592</th>\n",
       "      <td>eugene</td>\n",
       "      <td>3736928711</td>\n",
       "      <td>2007.0</td>\n",
       "      <td>toyota</td>\n",
       "      <td>tundra</td>\n",
       "      <td>excellent</td>\n",
       "      <td>8 cylinders</td>\n",
       "      <td>gas</td>\n",
       "      <td>164000.0</td>\n",
       "      <td>clean</td>\n",
       "      <td>...</td>\n",
       "      <td>1</td>\n",
       "      <td>40</td>\n",
       "      <td>0</td>\n",
       "      <td>2</td>\n",
       "      <td>0</td>\n",
       "      <td>0</td>\n",
       "      <td>0</td>\n",
       "      <td>8</td>\n",
       "      <td>9</td>\n",
       "      <td>6</td>\n",
       "    </tr>\n",
       "    <tr>\n",
       "      <th>327938</th>\n",
       "      <td>altoona-johnstown</td>\n",
       "      <td>3226714</td>\n",
       "      <td>2002.0</td>\n",
       "      <td>others</td>\n",
       "      <td>any and all</td>\n",
       "      <td>fair</td>\n",
       "      <td>8 cylinders</td>\n",
       "      <td>diesel</td>\n",
       "      <td>1234.0</td>\n",
       "      <td>clean</td>\n",
       "      <td>...</td>\n",
       "      <td>2</td>\n",
       "      <td>32</td>\n",
       "      <td>1</td>\n",
       "      <td>0</td>\n",
       "      <td>0</td>\n",
       "      <td>1</td>\n",
       "      <td>0</td>\n",
       "      <td>9</td>\n",
       "      <td>1</td>\n",
       "      <td>6</td>\n",
       "    </tr>\n",
       "    <tr>\n",
       "      <th>328193</th>\n",
       "      <td>altoona-johnstown</td>\n",
       "      <td>400123</td>\n",
       "      <td>2003.0</td>\n",
       "      <td>others</td>\n",
       "      <td>any and all</td>\n",
       "      <td>fair</td>\n",
       "      <td>5 cylinders</td>\n",
       "      <td>diesel</td>\n",
       "      <td>123321.0</td>\n",
       "      <td>clean</td>\n",
       "      <td>...</td>\n",
       "      <td>1</td>\n",
       "      <td>32</td>\n",
       "      <td>1</td>\n",
       "      <td>0</td>\n",
       "      <td>0</td>\n",
       "      <td>0</td>\n",
       "      <td>0</td>\n",
       "      <td>8</td>\n",
       "      <td>1</td>\n",
       "      <td>4</td>\n",
       "    </tr>\n",
       "    <tr>\n",
       "      <th>352136</th>\n",
       "      <td>chattanooga</td>\n",
       "      <td>299500</td>\n",
       "      <td>2018.0</td>\n",
       "      <td>others</td>\n",
       "      <td>Lamborghini Aventador</td>\n",
       "      <td>other</td>\n",
       "      <td>12 cylinders</td>\n",
       "      <td>gas</td>\n",
       "      <td>3171.0</td>\n",
       "      <td>salvage</td>\n",
       "      <td>...</td>\n",
       "      <td>4</td>\n",
       "      <td>32</td>\n",
       "      <td>5</td>\n",
       "      <td>2</td>\n",
       "      <td>5</td>\n",
       "      <td>0</td>\n",
       "      <td>0</td>\n",
       "      <td>3</td>\n",
       "      <td>1</td>\n",
       "      <td>1</td>\n",
       "    </tr>\n",
       "    <tr>\n",
       "      <th>352992</th>\n",
       "      <td>clarksville</td>\n",
       "      <td>229500</td>\n",
       "      <td>2018.0</td>\n",
       "      <td>ferrari</td>\n",
       "      <td>488 spider</td>\n",
       "      <td>other</td>\n",
       "      <td>8 cylinders</td>\n",
       "      <td>gas</td>\n",
       "      <td>7910.0</td>\n",
       "      <td>salvage</td>\n",
       "      <td>...</td>\n",
       "      <td>4</td>\n",
       "      <td>11</td>\n",
       "      <td>5</td>\n",
       "      <td>2</td>\n",
       "      <td>5</td>\n",
       "      <td>0</td>\n",
       "      <td>2</td>\n",
       "      <td>2</td>\n",
       "      <td>8</td>\n",
       "      <td>6</td>\n",
       "    </tr>\n",
       "    <tr>\n",
       "      <th>371065</th>\n",
       "      <td>dallas / fort worth</td>\n",
       "      <td>299991</td>\n",
       "      <td>2017.0</td>\n",
       "      <td>others</td>\n",
       "      <td>Lamborghini Huracan</td>\n",
       "      <td>other</td>\n",
       "      <td>10 cylinders</td>\n",
       "      <td>gas</td>\n",
       "      <td>13004.0</td>\n",
       "      <td>clean</td>\n",
       "      <td>...</td>\n",
       "      <td>3</td>\n",
       "      <td>32</td>\n",
       "      <td>5</td>\n",
       "      <td>2</td>\n",
       "      <td>0</td>\n",
       "      <td>0</td>\n",
       "      <td>2</td>\n",
       "      <td>3</td>\n",
       "      <td>1</td>\n",
       "      <td>0</td>\n",
       "    </tr>\n",
       "    <tr>\n",
       "      <th>376017</th>\n",
       "      <td>houston</td>\n",
       "      <td>299991</td>\n",
       "      <td>2017.0</td>\n",
       "      <td>others</td>\n",
       "      <td>Lamborghini Huracan</td>\n",
       "      <td>other</td>\n",
       "      <td>10 cylinders</td>\n",
       "      <td>gas</td>\n",
       "      <td>13004.0</td>\n",
       "      <td>clean</td>\n",
       "      <td>...</td>\n",
       "      <td>3</td>\n",
       "      <td>32</td>\n",
       "      <td>5</td>\n",
       "      <td>2</td>\n",
       "      <td>0</td>\n",
       "      <td>0</td>\n",
       "      <td>2</td>\n",
       "      <td>3</td>\n",
       "      <td>1</td>\n",
       "      <td>0</td>\n",
       "    </tr>\n",
       "    <tr>\n",
       "      <th>415796</th>\n",
       "      <td>appleton-oshkosh-FDL</td>\n",
       "      <td>229500</td>\n",
       "      <td>2019.0</td>\n",
       "      <td>others</td>\n",
       "      <td>Lamborghini Urus</td>\n",
       "      <td>other</td>\n",
       "      <td>8 cylinders</td>\n",
       "      <td>gas</td>\n",
       "      <td>32922.0</td>\n",
       "      <td>clean</td>\n",
       "      <td>...</td>\n",
       "      <td>0</td>\n",
       "      <td>32</td>\n",
       "      <td>5</td>\n",
       "      <td>2</td>\n",
       "      <td>0</td>\n",
       "      <td>0</td>\n",
       "      <td>0</td>\n",
       "      <td>0</td>\n",
       "      <td>10</td>\n",
       "      <td>6</td>\n",
       "    </tr>\n",
       "    <tr>\n",
       "      <th>424281</th>\n",
       "      <td>milwaukee</td>\n",
       "      <td>299500</td>\n",
       "      <td>2018.0</td>\n",
       "      <td>others</td>\n",
       "      <td>Lamborghini Aventador</td>\n",
       "      <td>other</td>\n",
       "      <td>12 cylinders</td>\n",
       "      <td>gas</td>\n",
       "      <td>3171.0</td>\n",
       "      <td>salvage</td>\n",
       "      <td>...</td>\n",
       "      <td>4</td>\n",
       "      <td>32</td>\n",
       "      <td>5</td>\n",
       "      <td>2</td>\n",
       "      <td>5</td>\n",
       "      <td>0</td>\n",
       "      <td>0</td>\n",
       "      <td>3</td>\n",
       "      <td>1</td>\n",
       "      <td>1</td>\n",
       "    </tr>\n",
       "  </tbody>\n",
       "</table>\n",
       "<p>35 rows × 27 columns</p>\n",
       "</div>"
      ],
      "text/plain": [
       "                         region       price    year   manufacturer  \\\n",
       "8901         flagstaff / sedona      229500  2018.0        ferrari   \n",
       "9080         flagstaff / sedona      229500  2019.0         others   \n",
       "14950                    tucson      239995  2017.0        ferrari   \n",
       "16684                    tucson      239995  2017.0        ferrari   \n",
       "29386           humboldt county  1111111111  1999.0           ford   \n",
       "33026               los angeles      255000  2018.0  mercedes-benz   \n",
       "68935            ventura county     2000000  2002.0         saturn   \n",
       "95119     ft myers / SW florida      990000  2017.0  mercedes-benz   \n",
       "106361                  orlando      516999  2016.0         others   \n",
       "111963            south florida      285000  2021.0         others   \n",
       "127596                   hawaii      225995  2016.0        porsche   \n",
       "128349                   hawaii      289995  2016.0        ferrari   \n",
       "129301                   hawaii      289900  2018.0        ferrari   \n",
       "136516  spokane / coeur d'alene    17000000  2007.0            ram   \n",
       "137807  spokane / coeur d'alene   123456789  1999.0          buick   \n",
       "155421              terre haute     1234567  2006.0           jeep   \n",
       "176115              new orleans      299991  2017.0         others   \n",
       "181026                baltimore      209995  2020.0  mercedes-benz   \n",
       "208617  saginaw-midland-baycity      554900  2019.0         others   \n",
       "220647                   joplin      299500  2018.0         others   \n",
       "230753                asheville   135008900  2008.0         nissan   \n",
       "274019              long island      261895  2017.0         others   \n",
       "304898            oklahoma city      299991  2017.0         others   \n",
       "307488               stillwater   123456789  1996.0            gmc   \n",
       "314352         corvallis/albany      299500  2018.0         others   \n",
       "315274              east oregon      229500  2018.0        ferrari   \n",
       "318592                   eugene  3736928711  2007.0         toyota   \n",
       "327938        altoona-johnstown     3226714  2002.0         others   \n",
       "328193        altoona-johnstown      400123  2003.0         others   \n",
       "352136              chattanooga      299500  2018.0         others   \n",
       "352992              clarksville      229500  2018.0        ferrari   \n",
       "371065      dallas / fort worth      299991  2017.0         others   \n",
       "376017                  houston      299991  2017.0         others   \n",
       "415796     appleton-oshkosh-FDL      229500  2019.0         others   \n",
       "424281                milwaukee      299500  2018.0         others   \n",
       "\n",
       "                              model  condition     cylinders    fuel  \\\n",
       "8901                     488 spider      other   8 cylinders     gas   \n",
       "9080               Lamborghini Urus      other   8 cylinders     gas   \n",
       "14950                       488 gtb      other   8 cylinders     gas   \n",
       "16684                       488 gtb      other   8 cylinders     gas   \n",
       "29386        f350 super duty lariat       good   8 cylinders  diesel   \n",
       "33026                   g550 square      other   8 cylinders     gas   \n",
       "68935       l-series l200 4dr sedan       good   4 cylinders     gas   \n",
       "95119                      amg g 63      other   8 cylinders     gas   \n",
       "106361  Lambo Aventador SV Roadster   like new  12 cylinders     gas   \n",
       "111963      Lamborghini huracan evo  excellent  10 cylinders     gas   \n",
       "127596                          911      other   6 cylinders     gas   \n",
       "128349                f12berlinetta      other  12 cylinders     gas   \n",
       "129301                   488 spider      other   8 cylinders     gas   \n",
       "136516                         2500       good   8 cylinders  diesel   \n",
       "137807                        regal   like new   6 cylinders     gas   \n",
       "155421                     wrangler   like new   6 cylinders     gas   \n",
       "176115          Lamborghini Huracan      other  10 cylinders     gas   \n",
       "181026     mercedes-maybach s-class      other  12 cylinders     gas   \n",
       "208617             f250 xlt crewcab  excellent   8 cylinders     gas   \n",
       "220647        Lamborghini Aventador      other  12 cylinders     gas   \n",
       "230753             titan se kingcab   like new   8 cylinders     gas   \n",
       "274019             Rolls royce dawn   like new  12 cylinders     gas   \n",
       "304898          Lamborghini Huracan      other  10 cylinders     gas   \n",
       "307488                  sierra 2500       fair   8 cylinders     gas   \n",
       "314352        Lamborghini Aventador      other  12 cylinders     gas   \n",
       "315274                   488 spider      other   8 cylinders     gas   \n",
       "318592                       tundra  excellent   8 cylinders     gas   \n",
       "327938                  any and all       fair   8 cylinders  diesel   \n",
       "328193                  any and all       fair   5 cylinders  diesel   \n",
       "352136        Lamborghini Aventador      other  12 cylinders     gas   \n",
       "352992                   488 spider      other   8 cylinders     gas   \n",
       "371065          Lamborghini Huracan      other  10 cylinders     gas   \n",
       "376017          Lamborghini Huracan      other  10 cylinders     gas   \n",
       "415796             Lamborghini Urus      other   8 cylinders     gas   \n",
       "424281        Lamborghini Aventador      other  12 cylinders     gas   \n",
       "\n",
       "        odometer title_status  ... size_codes make condition_codes fuel_codes  \\\n",
       "8901      7910.0      salvage  ...          4   11               5          2   \n",
       "9080     32922.0        clean  ...          0   32               5          2   \n",
       "14950     6450.0        clean  ...          3   11               5          2   \n",
       "16684     6012.0        clean  ...          3   11               5          2   \n",
       "29386   149000.0        clean  ...          1   13               2          0   \n",
       "33026     2000.0        clean  ...          3   26               5          2   \n",
       "68935   164290.0        clean  ...          2   37               2          2   \n",
       "95119     4085.0        clean  ...          3   26               5          2   \n",
       "106361    9982.0        clean  ...          1   32               3          2   \n",
       "111963     950.0        clean  ...          3   32               0          2   \n",
       "127596     159.0        clean  ...          3   34               5          2   \n",
       "128349    3675.0        clean  ...          3   11               5          2   \n",
       "129301    3300.0        clean  ...          3   11               5          2   \n",
       "136516  170000.0      rebuilt  ...          1   35               2          0   \n",
       "137807   96000.0        clean  ...          1    5               3          2   \n",
       "155421  123456.0        clean  ...          2   20               3          2   \n",
       "176115   13004.0        clean  ...          3   32               5          2   \n",
       "181026     750.0        clean  ...          3   26               5          2   \n",
       "208617   25365.0         lien  ...          3   32               0          2   \n",
       "220647    3171.0      salvage  ...          4   32               5          2   \n",
       "230753  110500.0        clean  ...          1   31               3          2   \n",
       "274019    5600.0        clean  ...          3   32               3          2   \n",
       "304898   13004.0        clean  ...          3   32               5          2   \n",
       "307488  320000.0        clean  ...          1   14               1          2   \n",
       "314352    3171.0      salvage  ...          4   32               5          2   \n",
       "315274    7910.0      salvage  ...          4   11               5          2   \n",
       "318592  164000.0        clean  ...          1   40               0          2   \n",
       "327938    1234.0        clean  ...          2   32               1          0   \n",
       "328193  123321.0        clean  ...          1   32               1          0   \n",
       "352136    3171.0      salvage  ...          4   32               5          2   \n",
       "352992    7910.0      salvage  ...          4   11               5          2   \n",
       "371065   13004.0        clean  ...          3   32               5          2   \n",
       "376017   13004.0        clean  ...          3   32               5          2   \n",
       "415796   32922.0        clean  ...          0   32               5          2   \n",
       "424281    3171.0      salvage  ...          4   32               5          2   \n",
       "\n",
       "       title_status_codes transmission_codes drive_codes  type_codes  \\\n",
       "8901                    5                  0           2           2   \n",
       "9080                    0                  0           0           0   \n",
       "14950                   0                  0           2           3   \n",
       "16684                   0                  0           2           3   \n",
       "29386                   0                  0           2           8   \n",
       "33026                   0                  0           0           0   \n",
       "68935                   0                  0           1           9   \n",
       "95119                   0                  0           0           0   \n",
       "106361                  0                  0           0           2   \n",
       "111963                  0                  0           2           3   \n",
       "127596                  0                  2           2           3   \n",
       "128349                  0                  1           2           3   \n",
       "129301                  0                  0           2           2   \n",
       "136516                  4                  0           0           8   \n",
       "137807                  0                  0           1           9   \n",
       "155421                  0                  0           0           0   \n",
       "176115                  0                  0           2           3   \n",
       "181026                  0                  0           2           9   \n",
       "208617                  1                  0           0           8   \n",
       "220647                  5                  0           0           3   \n",
       "230753                  0                  0           0          10   \n",
       "274019                  0                  0           2           2   \n",
       "304898                  0                  0           2           3   \n",
       "307488                  0                  0           0           8   \n",
       "314352                  5                  0           0           3   \n",
       "315274                  5                  0           2           2   \n",
       "318592                  0                  0           0           8   \n",
       "327938                  0                  1           0           9   \n",
       "328193                  0                  0           0           8   \n",
       "352136                  5                  0           0           3   \n",
       "352992                  5                  0           2           2   \n",
       "371065                  0                  0           2           3   \n",
       "376017                  0                  0           2           3   \n",
       "415796                  0                  0           0           0   \n",
       "424281                  5                  0           0           3   \n",
       "\n",
       "        paint_color_codes  cylinders_codes  \n",
       "8901                    8                6  \n",
       "9080                   10                6  \n",
       "14950                   8                6  \n",
       "16684                   8                6  \n",
       "29386                  10                6  \n",
       "33026                   0                6  \n",
       "68935                   4                3  \n",
       "95119                  10                6  \n",
       "106361                 10                1  \n",
       "111963                  4                0  \n",
       "127596                  7                5  \n",
       "128349                 10                1  \n",
       "129301                  5                6  \n",
       "136516                  0                6  \n",
       "137807                 10                5  \n",
       "155421                  3                5  \n",
       "176115                  1                0  \n",
       "181026                  0                1  \n",
       "208617                 10                6  \n",
       "220647                  1                1  \n",
       "230753                  5                6  \n",
       "274019                  0                1  \n",
       "304898                  1                0  \n",
       "307488                  0                6  \n",
       "314352                  1                1  \n",
       "315274                  8                6  \n",
       "318592                  9                6  \n",
       "327938                  1                6  \n",
       "328193                  1                4  \n",
       "352136                  1                1  \n",
       "352992                  8                6  \n",
       "371065                  1                0  \n",
       "376017                  1                0  \n",
       "415796                 10                6  \n",
       "424281                  1                1  \n",
       "\n",
       "[35 rows x 27 columns]"
      ]
     },
     "execution_count": 153,
     "metadata": {},
     "output_type": "execute_result"
    }
   ],
   "source": [
    "df_vehicles[df_vehicles['price']>200000]"
   ]
  },
  {
   "cell_type": "markdown",
   "id": "83f1a673",
   "metadata": {},
   "source": [
    "Some of the prices listed seems to be unrealistic .<br>\n",
    "\n",
    "Boxplot for confirming outliers"
   ]
  },
  {
   "cell_type": "code",
   "execution_count": 154,
   "id": "523060cb",
   "metadata": {
    "scrolled": false
   },
   "outputs": [
    {
     "data": {
      "image/png": "[encoded data removed]",
      "text/plain": [
       "<Figure size 1000x1000 with 1 Axes>"
      ]
     },
     "metadata": {},
     "output_type": "display_data"
    }
   ],
   "source": [
    "plt.figure(figsize = (10,10))\n",
    "plt.boxplot(df_vehicles[\"price\"])\n",
    "plt.show()"
   ]
  },
  {
   "cell_type": "markdown",
   "id": "bd863cb5",
   "metadata": {},
   "source": [
    "The boxplot clearly shows the existence of extreme outliers."
   ]
  },
  {
   "cell_type": "code",
   "execution_count": 155,
   "id": "e570b4da",
   "metadata": {},
   "outputs": [
    {
     "data": {
      "text/plain": [
       "3736928711"
      ]
     },
     "execution_count": 155,
     "metadata": {},
     "output_type": "execute_result"
    }
   ],
   "source": [
    "df_vehicles['price'].max()"
   ]
  },
  {
   "cell_type": "markdown",
   "id": "a91f259c",
   "metadata": {},
   "source": [
    "Someone seems to have listed a toyota tundra for 37 billion dollars. Wishful thinking.<br>\n",
    "For this analysis we will only include records between 1000 - 600000 dollars"
   ]
  },
  {
   "cell_type": "code",
   "execution_count": 156,
   "id": "466ec797",
   "metadata": {},
   "outputs": [],
   "source": [
    "final_df=df_vehicles.loc[(df_vehicles['price']>=1000) & (df_vehicles['price']<= 600000)]"
   ]
  },
  {
   "cell_type": "code",
   "execution_count": 157,
   "id": "a54914cd",
   "metadata": {},
   "outputs": [
    {
     "data": {
      "text/plain": [
       "147993"
      ]
     },
     "execution_count": 157,
     "metadata": {},
     "output_type": "execute_result"
    }
   ],
   "source": [
    "len(final_df)"
   ]
  },
  {
   "cell_type": "code",
   "execution_count": 158,
   "id": "b7bb2ce1",
   "metadata": {},
   "outputs": [
    {
     "data": {
      "image/png": "[encoded data removed]",
      "text/plain": [
       "<Figure size 1000x1000 with 1 Axes>"
      ]
     },
     "metadata": {},
     "output_type": "display_data"
    }
   ],
   "source": [
    "plt.figure(figsize = (10,10))\n",
    "plt.boxplot(final_df[\"price\"])\n",
    "plt.show()"
   ]
  },
  {
   "cell_type": "markdown",
   "id": "bef2efb4",
   "metadata": {},
   "source": [
    "We were able to get rid of lot of outliers just by clearing some unrealistic listings"
   ]
  },
  {
   "cell_type": "markdown",
   "id": "c03ca45e",
   "metadata": {},
   "source": [
    "#### Checking for year"
   ]
  },
  {
   "cell_type": "code",
   "execution_count": 159,
   "id": "69a02fc7",
   "metadata": {},
   "outputs": [
    {
     "name": "stdout",
     "output_type": "stream",
     "text": [
      "Year feature - lower whishker = 1994.0\n",
      "\n",
      "Here is the boxplot of year after the outliers below lower whishker are removed.\n"
     ]
    },
    {
     "data": {
      "image/png": "[encoded data removed]",
      "text/plain": [
       "<Figure size 640x480 with 1 Axes>"
      ]
     },
     "metadata": {},
     "output_type": "display_data"
    }
   ],
   "source": [
    "stats = final_df['year'].describe()\n",
    "\n",
    "upper_quartile = stats[6]\n",
    "lower_quartile = stats[4]\n",
    "\n",
    "iqr = upper_quartile - lower_quartile\n",
    "lower_whisker = final_df['year'][final_df.year>=lower_quartile-1.5*iqr].min()\n",
    "print(\"Year feature - lower whishker =\", lower_whisker)\n",
    "\n",
    "dataset_year_updated = final_df[final_df.year>=lower_quartile-1.5*iqr]\n",
    "print(\"\\nHere is the boxplot of year after the outliers below lower whishker are removed.\")\n",
    "plt.boxplot(dataset_year_updated['year'])\n",
    "plt.title(\"Year box plot\")\n",
    "plt.ylabel(\"Year\")\n",
    "plt.show()"
   ]
  },
  {
   "cell_type": "markdown",
   "id": "1a6849e2",
   "metadata": {},
   "source": [
    "Checking outliers for odometer readings"
   ]
  },
  {
   "cell_type": "code",
   "execution_count": 160,
   "id": "db359669",
   "metadata": {},
   "outputs": [
    {
     "name": "stdout",
     "output_type": "stream",
     "text": [
      "Odometer feature - upper whishker = 261895\n",
      "\n",
      "boxplot of odometer with outliers removed.\n"
     ]
    },
    {
     "data": {
      "image/png": "[encoded data removed]",
      "text/plain": [
       "<Figure size 640x480 with 1 Axes>"
      ]
     },
     "metadata": {},
     "output_type": "display_data"
    }
   ],
   "source": [
    "stats = final_df['odometer'].describe()\n",
    "\n",
    "upper_quartile = stats[6]\n",
    "lower_quartile = stats[4]\n",
    "\n",
    "iqr = upper_quartile - lower_quartile\n",
    "upper_whisker = final_df['price'][final_df.price<=upper_quartile+1.5*iqr].max()\n",
    "print(\"Odometer feature - upper whishker =\", upper_whisker)\n",
    "\n",
    "dataset_odo_updated = final_df[final_df.odometer<=upper_quartile+1.5*iqr]\n",
    "print(\"\\nboxplot of odometer with outliers removed.\")\n",
    "import matplotlib.pyplot as plt\n",
    "plt.boxplot(dataset_odo_updated['odometer'])\n",
    "plt.title(\"Odometer box plot\")\n",
    "plt.ylabel(\"Odometer\")\n",
    "plt.show()"
   ]
  },
  {
   "cell_type": "markdown",
   "id": "22b0c455",
   "metadata": {},
   "source": [
    "Further comparing odometer readings and price of the car using scatter plot"
   ]
  },
  {
   "cell_type": "code",
   "execution_count": 161,
   "id": "4829c1d1",
   "metadata": {
    "scrolled": false
   },
   "outputs": [
    {
     "data": {
      "text/plain": [
       "<AxesSubplot:xlabel='odometer', ylabel='price'>"
      ]
     },
     "execution_count": 161,
     "metadata": {},
     "output_type": "execute_result"
    },
    {
     "data": {
      "image/png": "[encoded data removed]",
      "text/plain": [
       "<Figure size 640x480 with 1 Axes>"
      ]
     },
     "metadata": {},
     "output_type": "display_data"
    }
   ],
   "source": [
    "sns.scatterplot(x=\"odometer\",y=\"price\",data=final_df)"
   ]
  },
  {
   "cell_type": "markdown",
   "id": "7bb0e4b3",
   "metadata": {},
   "source": [
    "Highest prices seems to be towards the lowest odometer readings, which makes sense"
   ]
  },
  {
   "cell_type": "markdown",
   "id": "ca870840",
   "metadata": {},
   "source": [
    "Further comparing year of make and price"
   ]
  },
  {
   "cell_type": "code",
   "execution_count": 162,
   "id": "f412586e",
   "metadata": {},
   "outputs": [
    {
     "data": {
      "text/plain": [
       "<AxesSubplot:xlabel='year', ylabel='price'>"
      ]
     },
     "execution_count": 162,
     "metadata": {},
     "output_type": "execute_result"
    },
    {
     "data": {
      "image/png": "[encoded data removed]",
      "text/plain": [
       "<Figure size 640x480 with 1 Axes>"
      ]
     },
     "metadata": {},
     "output_type": "display_data"
    }
   ],
   "source": [
    "sns.scatterplot(x=\"year\",y=\"price\",data=final_df)"
   ]
  },
  {
   "cell_type": "markdown",
   "id": "9f5e3a40",
   "metadata": {},
   "source": [
    "Again, the newest of cars seems to have the highest of prices, which again makes sense"
   ]
  },
  {
   "cell_type": "code",
   "execution_count": 163,
   "id": "a2d91f1b",
   "metadata": {},
   "outputs": [
    {
     "name": "stdout",
     "output_type": "stream",
     "text": [
      "Index(['region', 'price', 'year', 'manufacturer', 'model', 'condition',\n",
      "       'cylinders', 'fuel', 'odometer', 'title_status', 'transmission',\n",
      "       'drive', 'size', 'type', 'paint_color', 'state', 'posting_date',\n",
      "       'size_codes', 'make', 'condition_codes', 'fuel_codes',\n",
      "       'title_status_codes', 'transmission_codes', 'drive_codes', 'type_codes',\n",
      "       'paint_color_codes', 'cylinders_codes'],\n",
      "      dtype='object')\n"
     ]
    }
   ],
   "source": [
    "print(final_df.columns)\n",
    "X=final_df.drop(columns=['region',\n",
    "                         'price','manufacturer','model','paint_color',\n",
    "                         'state','posting_date','type',\"condition\",\"cylinders\",\"fuel\",\"title_status\",\"transmission\",\"drive\",\"size\"]) \n",
    "y=final_df['price']\n"
   ]
  },
  {
   "cell_type": "code",
   "execution_count": 164,
   "id": "1ce8abf6",
   "metadata": {},
   "outputs": [
    {
     "name": "stdout",
     "output_type": "stream",
     "text": [
      "year\n",
      "odometer\n",
      "size_codes\n",
      "make\n",
      "condition_codes\n",
      "fuel_codes\n",
      "title_status_codes\n",
      "transmission_codes\n",
      "drive_codes\n",
      "type_codes\n",
      "paint_color_codes\n",
      "cylinders_codes\n"
     ]
    }
   ],
   "source": [
    "for col in X.columns:\n",
    "    print(col)"
   ]
  },
  {
   "cell_type": "code",
   "execution_count": 165,
   "id": "5a587ff7",
   "metadata": {},
   "outputs": [
    {
     "data": {
      "text/html": [
       "<div>\n",
       "<style scoped>\n",
       "    .dataframe tbody tr th:only-of-type {\n",
       "        vertical-align: middle;\n",
       "    }\n",
       "\n",
       "    .dataframe tbody tr th {\n",
       "        vertical-align: top;\n",
       "    }\n",
       "\n",
       "    .dataframe thead th {\n",
       "        text-align: right;\n",
       "    }\n",
       "</style>\n",
       "<table border=\"1\" class=\"dataframe\">\n",
       "  <thead>\n",
       "    <tr style=\"text-align: right;\">\n",
       "      <th></th>\n",
       "      <th>year</th>\n",
       "      <th>odometer</th>\n",
       "      <th>size_codes</th>\n",
       "      <th>make</th>\n",
       "      <th>condition_codes</th>\n",
       "      <th>fuel_codes</th>\n",
       "      <th>title_status_codes</th>\n",
       "      <th>transmission_codes</th>\n",
       "      <th>drive_codes</th>\n",
       "      <th>type_codes</th>\n",
       "      <th>paint_color_codes</th>\n",
       "      <th>cylinders_codes</th>\n",
       "    </tr>\n",
       "  </thead>\n",
       "  <tbody>\n",
       "    <tr>\n",
       "      <th>31</th>\n",
       "      <td>2013.0</td>\n",
       "      <td>128000.0</td>\n",
       "      <td>1</td>\n",
       "      <td>13</td>\n",
       "      <td>0</td>\n",
       "      <td>2</td>\n",
       "      <td>0</td>\n",
       "      <td>0</td>\n",
       "      <td>2</td>\n",
       "      <td>10</td>\n",
       "      <td>0</td>\n",
       "      <td>5</td>\n",
       "    </tr>\n",
       "    <tr>\n",
       "      <th>32</th>\n",
       "      <td>2012.0</td>\n",
       "      <td>68696.0</td>\n",
       "      <td>3</td>\n",
       "      <td>14</td>\n",
       "      <td>2</td>\n",
       "      <td>2</td>\n",
       "      <td>0</td>\n",
       "      <td>2</td>\n",
       "      <td>0</td>\n",
       "      <td>8</td>\n",
       "      <td>0</td>\n",
       "      <td>6</td>\n",
       "    </tr>\n",
       "    <tr>\n",
       "      <th>33</th>\n",
       "      <td>2016.0</td>\n",
       "      <td>29499.0</td>\n",
       "      <td>3</td>\n",
       "      <td>7</td>\n",
       "      <td>2</td>\n",
       "      <td>2</td>\n",
       "      <td>0</td>\n",
       "      <td>2</td>\n",
       "      <td>0</td>\n",
       "      <td>8</td>\n",
       "      <td>9</td>\n",
       "      <td>5</td>\n",
       "    </tr>\n",
       "    <tr>\n",
       "      <th>34</th>\n",
       "      <td>2019.0</td>\n",
       "      <td>43000.0</td>\n",
       "      <td>3</td>\n",
       "      <td>40</td>\n",
       "      <td>0</td>\n",
       "      <td>2</td>\n",
       "      <td>0</td>\n",
       "      <td>0</td>\n",
       "      <td>0</td>\n",
       "      <td>10</td>\n",
       "      <td>5</td>\n",
       "      <td>5</td>\n",
       "    </tr>\n",
       "    <tr>\n",
       "      <th>35</th>\n",
       "      <td>2016.0</td>\n",
       "      <td>17302.0</td>\n",
       "      <td>3</td>\n",
       "      <td>7</td>\n",
       "      <td>2</td>\n",
       "      <td>2</td>\n",
       "      <td>0</td>\n",
       "      <td>2</td>\n",
       "      <td>0</td>\n",
       "      <td>8</td>\n",
       "      <td>8</td>\n",
       "      <td>5</td>\n",
       "    </tr>\n",
       "    <tr>\n",
       "      <th>...</th>\n",
       "      <td>...</td>\n",
       "      <td>...</td>\n",
       "      <td>...</td>\n",
       "      <td>...</td>\n",
       "      <td>...</td>\n",
       "      <td>...</td>\n",
       "      <td>...</td>\n",
       "      <td>...</td>\n",
       "      <td>...</td>\n",
       "      <td>...</td>\n",
       "      <td>...</td>\n",
       "      <td>...</td>\n",
       "    </tr>\n",
       "    <tr>\n",
       "      <th>336</th>\n",
       "      <td>1998.0</td>\n",
       "      <td>273000.0</td>\n",
       "      <td>3</td>\n",
       "      <td>20</td>\n",
       "      <td>5</td>\n",
       "      <td>2</td>\n",
       "      <td>0</td>\n",
       "      <td>0</td>\n",
       "      <td>0</td>\n",
       "      <td>0</td>\n",
       "      <td>10</td>\n",
       "      <td>5</td>\n",
       "    </tr>\n",
       "    <tr>\n",
       "      <th>337</th>\n",
       "      <td>2011.0</td>\n",
       "      <td>164000.0</td>\n",
       "      <td>1</td>\n",
       "      <td>13</td>\n",
       "      <td>0</td>\n",
       "      <td>2</td>\n",
       "      <td>0</td>\n",
       "      <td>0</td>\n",
       "      <td>1</td>\n",
       "      <td>10</td>\n",
       "      <td>10</td>\n",
       "      <td>5</td>\n",
       "    </tr>\n",
       "    <tr>\n",
       "      <th>338</th>\n",
       "      <td>1972.0</td>\n",
       "      <td>88100.0</td>\n",
       "      <td>1</td>\n",
       "      <td>26</td>\n",
       "      <td>1</td>\n",
       "      <td>2</td>\n",
       "      <td>0</td>\n",
       "      <td>0</td>\n",
       "      <td>2</td>\n",
       "      <td>3</td>\n",
       "      <td>9</td>\n",
       "      <td>5</td>\n",
       "    </tr>\n",
       "    <tr>\n",
       "      <th>339</th>\n",
       "      <td>2019.0</td>\n",
       "      <td>20010.0</td>\n",
       "      <td>1</td>\n",
       "      <td>40</td>\n",
       "      <td>3</td>\n",
       "      <td>2</td>\n",
       "      <td>0</td>\n",
       "      <td>0</td>\n",
       "      <td>0</td>\n",
       "      <td>10</td>\n",
       "      <td>10</td>\n",
       "      <td>6</td>\n",
       "    </tr>\n",
       "    <tr>\n",
       "      <th>340</th>\n",
       "      <td>2009.0</td>\n",
       "      <td>111387.0</td>\n",
       "      <td>3</td>\n",
       "      <td>17</td>\n",
       "      <td>5</td>\n",
       "      <td>2</td>\n",
       "      <td>4</td>\n",
       "      <td>0</td>\n",
       "      <td>1</td>\n",
       "      <td>9</td>\n",
       "      <td>10</td>\n",
       "      <td>3</td>\n",
       "    </tr>\n",
       "  </tbody>\n",
       "</table>\n",
       "<p>100 rows × 12 columns</p>\n",
       "</div>"
      ],
      "text/plain": [
       "       year  odometer  size_codes  make  condition_codes  fuel_codes  \\\n",
       "31   2013.0  128000.0           1    13                0           2   \n",
       "32   2012.0   68696.0           3    14                2           2   \n",
       "33   2016.0   29499.0           3     7                2           2   \n",
       "34   2019.0   43000.0           3    40                0           2   \n",
       "35   2016.0   17302.0           3     7                2           2   \n",
       "..      ...       ...         ...   ...              ...         ...   \n",
       "336  1998.0  273000.0           3    20                5           2   \n",
       "337  2011.0  164000.0           1    13                0           2   \n",
       "338  1972.0   88100.0           1    26                1           2   \n",
       "339  2019.0   20010.0           1    40                3           2   \n",
       "340  2009.0  111387.0           3    17                5           2   \n",
       "\n",
       "     title_status_codes  transmission_codes  drive_codes  type_codes  \\\n",
       "31                    0                   0            2          10   \n",
       "32                    0                   2            0           8   \n",
       "33                    0                   2            0           8   \n",
       "34                    0                   0            0          10   \n",
       "35                    0                   2            0           8   \n",
       "..                  ...                 ...          ...         ...   \n",
       "336                   0                   0            0           0   \n",
       "337                   0                   0            1          10   \n",
       "338                   0                   0            2           3   \n",
       "339                   0                   0            0          10   \n",
       "340                   4                   0            1           9   \n",
       "\n",
       "     paint_color_codes  cylinders_codes  \n",
       "31                   0                5  \n",
       "32                   0                6  \n",
       "33                   9                5  \n",
       "34                   5                5  \n",
       "35                   8                5  \n",
       "..                 ...              ...  \n",
       "336                 10                5  \n",
       "337                 10                5  \n",
       "338                  9                5  \n",
       "339                 10                6  \n",
       "340                 10                3  \n",
       "\n",
       "[100 rows x 12 columns]"
      ]
     },
     "execution_count": 165,
     "metadata": {},
     "output_type": "execute_result"
    }
   ],
   "source": [
    "X.head(100)"
   ]
  },
  {
   "cell_type": "markdown",
   "id": "de7e7fb5",
   "metadata": {},
   "source": [
    "## Section 4"
   ]
  },
  {
   "cell_type": "markdown",
   "id": "467aacea",
   "metadata": {},
   "source": [
    "### Employing linear regression model for prediction\n",
    "\n",
    "#### Splitting data into train and test"
   ]
  },
  {
   "cell_type": "code",
   "execution_count": 166,
   "id": "0820fce5",
   "metadata": {},
   "outputs": [],
   "source": [
    "X_train, X_test, y_train, y_test = train_test_split(X, y, test_size=0.20, random_state=50)"
   ]
  },
  {
   "cell_type": "markdown",
   "id": "3fe81824",
   "metadata": {},
   "source": [
    "#### Scaling before fitting into model"
   ]
  },
  {
   "cell_type": "code",
   "execution_count": 167,
   "id": "18c5d7b9",
   "metadata": {},
   "outputs": [],
   "source": [
    "# sc=StandardScaler()\n",
    "# X_train=sc.fit_transform(X_train)\n",
    "# X_test=sc.fit_transform(X_test)"
   ]
  },
  {
   "cell_type": "markdown",
   "id": "b24514f8",
   "metadata": {},
   "source": [
    "#### Linear Regression Model"
   ]
  },
  {
   "cell_type": "code",
   "execution_count": 168,
   "id": "7ea8783e",
   "metadata": {},
   "outputs": [],
   "source": [
    "lr=LinearRegression()\n",
    "lr.fit(X_train,y_train)\n",
    "y_pred=lr.predict(X_test)"
   ]
  },
  {
   "cell_type": "markdown",
   "id": "430b393a",
   "metadata": {},
   "source": [
    "#### Retrieving model params"
   ]
  },
  {
   "cell_type": "code",
   "execution_count": 169,
   "id": "dd7d0b14",
   "metadata": {},
   "outputs": [
    {
     "name": "stdout",
     "output_type": "stream",
     "text": [
      "Coefficients: \n",
      " [ 8.75419177e+02 -1.41481720e-02  3.33023694e+02  3.90670201e+01\n",
      "  7.12945460e+02 -4.11789341e+03 -7.90208622e+02  3.77256414e+03\n",
      " -9.30640136e+02  3.52952927e+01  5.75145169e+01  3.75314966e+03]\n",
      "Mean squared error: 117351346.808\n",
      "Coefficient of determination: 0.44\n",
      "intercept: -1753938.0226849657\n"
     ]
    }
   ],
   "source": [
    "\n",
    "print(\"Coefficients: \\n\", lr.coef_)\n",
    "print(\"Mean squared error: %.3f\" % mean_squared_error(y_test, y_pred))\n",
    "print(\"Coefficient of determination: %.2f\" % r2_score(y_test,y_pred))\n",
    "print(f\"intercept: {lr.intercept_}\")"
   ]
  },
  {
   "cell_type": "code",
   "execution_count": 170,
   "id": "d6f4d0af",
   "metadata": {},
   "outputs": [
    {
     "name": "stdout",
     "output_type": "stream",
     "text": [
      "0.4335876584778102\n"
     ]
    }
   ],
   "source": [
    "score =lr.score(X_train,y_train)\n",
    "print(score)\n",
    "\n"
   ]
  },
  {
   "cell_type": "code",
   "execution_count": 178,
   "id": "b5610dfc",
   "metadata": {},
   "outputs": [
    {
     "data": {
      "text/html": [
       "<div>\n",
       "<style scoped>\n",
       "    .dataframe tbody tr th:only-of-type {\n",
       "        vertical-align: middle;\n",
       "    }\n",
       "\n",
       "    .dataframe tbody tr th {\n",
       "        vertical-align: top;\n",
       "    }\n",
       "\n",
       "    .dataframe thead th {\n",
       "        text-align: right;\n",
       "    }\n",
       "</style>\n",
       "<table border=\"1\" class=\"dataframe\">\n",
       "  <thead>\n",
       "    <tr style=\"text-align: right;\">\n",
       "      <th></th>\n",
       "      <th>year</th>\n",
       "      <th>odometer</th>\n",
       "      <th>size_codes</th>\n",
       "      <th>make</th>\n",
       "      <th>condition_codes</th>\n",
       "      <th>fuel_codes</th>\n",
       "      <th>title_status_codes</th>\n",
       "      <th>transmission_codes</th>\n",
       "      <th>drive_codes</th>\n",
       "      <th>type_codes</th>\n",
       "      <th>paint_color_codes</th>\n",
       "      <th>cylinders_codes</th>\n",
       "    </tr>\n",
       "  </thead>\n",
       "  <tbody>\n",
       "    <tr>\n",
       "      <th>35</th>\n",
       "      <td>2016.0</td>\n",
       "      <td>17302.0</td>\n",
       "      <td>3</td>\n",
       "      <td>7</td>\n",
       "      <td>2</td>\n",
       "      <td>2</td>\n",
       "      <td>0</td>\n",
       "      <td>2</td>\n",
       "      <td>0</td>\n",
       "      <td>8</td>\n",
       "      <td>8</td>\n",
       "      <td>5</td>\n",
       "    </tr>\n",
       "  </tbody>\n",
       "</table>\n",
       "</div>"
      ],
      "text/plain": [
       "      year  odometer  size_codes  make  condition_codes  fuel_codes  \\\n",
       "35  2016.0   17302.0           3     7                2           2   \n",
       "\n",
       "    title_status_codes  transmission_codes  drive_codes  type_codes  \\\n",
       "35                   0                   2            0           8   \n",
       "\n",
       "    paint_color_codes  cylinders_codes  \n",
       "35                  8                5  "
      ]
     },
     "execution_count": 178,
     "metadata": {},
     "output_type": "execute_result"
    }
   ],
   "source": [
    "X[4:5]"
   ]
  },
  {
   "cell_type": "code",
   "execution_count": 180,
   "id": "c3f6747b",
   "metadata": {},
   "outputs": [
    {
     "data": {
      "text/plain": [
       "array([32178.24544196])"
      ]
     },
     "execution_count": 180,
     "metadata": {},
     "output_type": "execute_result"
    }
   ],
   "source": [
    "\n",
    "test.iloc[: , :]\n",
    "lr.predict(X[4:5])"
   ]
  },
  {
   "cell_type": "code",
   "execution_count": 181,
   "id": "7812d909",
   "metadata": {},
   "outputs": [],
   "source": [
    "y[4:5]\n",
    "from sklearn.linear_model import Lasso"
   ]
  },
  {
   "cell_type": "code",
   "execution_count": null,
   "id": "2187bb59",
   "metadata": {},
   "outputs": [],
   "source": []
  },
  {
   "cell_type": "code",
   "execution_count": 182,
   "id": "e7dc2ef1",
   "metadata": {},
   "outputs": [],
   "source": [
    "lassoReg = Lasso(alpha=0.3, normalize=True)"
   ]
  },
  {
   "cell_type": "code",
   "execution_count": 183,
   "id": "70abdded",
   "metadata": {},
   "outputs": [],
   "source": [
    "lassoReg.fit(X_train,y_train)\n",
    "\n",
    "pred = lassoReg.predict(X_test)"
   ]
  },
  {
   "cell_type": "code",
   "execution_count": 190,
   "id": "105fe5b0",
   "metadata": {},
   "outputs": [
    {
     "name": "stdout",
     "output_type": "stream",
     "text": [
      "Coefficients: \n",
      " [ 8.67405846e+02 -1.35239824e-02  2.79498796e+02  2.90579930e+01\n",
      "  6.76088779e+02 -3.96047911e+03 -6.80266261e+02  3.65320484e+03\n",
      " -8.01688986e+02  1.21466518e+01  3.34628367e+01  3.67029343e+03]\n",
      "Mean squared error: 117439877.673\n",
      "Coefficient of determination: 0.44\n",
      "intercept: -1737252.7695718757\n"
     ]
    }
   ],
   "source": [
    "print(\"Coefficients: \\n\", lassoReg.coef_)\n",
    "print(\"Mean squared error: %.3f\" % mean_squared_error(y_test, pred))\n",
    "print(\"Coefficient of determination: %.2f\" % r2_score(y_test,pred))\n",
    "print(f\"intercept: {lassoReg.intercept_}\")"
   ]
  },
  {
   "cell_type": "code",
   "execution_count": 189,
   "id": "546c73ad",
   "metadata": {},
   "outputs": [
    {
     "name": "stdout",
     "output_type": "stream",
     "text": [
      "0.4330690474139044\n"
     ]
    }
   ],
   "source": [
    "score =lassoReg.score(X_train,y_train)\n",
    "print(score)"
   ]
  },
  {
   "cell_type": "code",
   "execution_count": 186,
   "id": "ebb92290",
   "metadata": {},
   "outputs": [
    {
     "data": {
      "text/plain": [
       "array([16709.97862975, 31140.61997183, 31567.80903667, 26178.20776708,\n",
       "       31699.29821291])"
      ]
     },
     "execution_count": 186,
     "metadata": {},
     "output_type": "execute_result"
    }
   ],
   "source": [
    "lassoReg.predict(X[:5])"
   ]
  },
  {
   "cell_type": "code",
   "execution_count": 187,
   "id": "416fbcd2",
   "metadata": {},
   "outputs": [
    {
     "data": {
      "text/plain": [
       "31    15000\n",
       "32    27990\n",
       "33    34590\n",
       "34    35000\n",
       "35    29990\n",
       "Name: price, dtype: int64"
      ]
     },
     "execution_count": 187,
     "metadata": {},
     "output_type": "execute_result"
    }
   ],
   "source": [
    "y[:5]"
   ]
  },
  {
   "cell_type": "code",
   "execution_count": 191,
   "id": "cae01cd3",
   "metadata": {},
   "outputs": [],
   "source": [
    "from sklearn.linear_model import Ridge"
   ]
  },
  {
   "cell_type": "code",
   "execution_count": 192,
   "id": "c3ca5669",
   "metadata": {},
   "outputs": [],
   "source": [
    "rdg = Ridge(alpha = 0.5)\n",
    "rdg.fit(X_train,y_train)\n",
    "\n",
    "pred = rdg.predict(X_test)"
   ]
  },
  {
   "cell_type": "code",
   "execution_count": 193,
   "id": "51023529",
   "metadata": {},
   "outputs": [
    {
     "data": {
      "text/plain": [
       "0.43433890379475104"
      ]
     },
     "execution_count": 193,
     "metadata": {},
     "output_type": "execute_result"
    }
   ],
   "source": [
    "rdg.score(X,y)"
   ]
  },
  {
   "cell_type": "code",
   "execution_count": 194,
   "id": "5cd93ea6",
   "metadata": {},
   "outputs": [
    {
     "data": {
      "text/plain": [
       "array([16332.36689806, 31515.85050847, 32063.11209229, 26657.18391048,\n",
       "       32178.16269858])"
      ]
     },
     "execution_count": 194,
     "metadata": {},
     "output_type": "execute_result"
    }
   ],
   "source": [
    "rdg.predict(X[:5])"
   ]
  },
  {
   "cell_type": "code",
   "execution_count": 195,
   "id": "ad52fdc2",
   "metadata": {},
   "outputs": [
    {
     "data": {
      "text/plain": [
       "31    15000\n",
       "32    27990\n",
       "33    34590\n",
       "34    35000\n",
       "35    29990\n",
       "Name: price, dtype: int64"
      ]
     },
     "execution_count": 195,
     "metadata": {},
     "output_type": "execute_result"
    }
   ],
   "source": [
    "y[:5]"
   ]
  },
  {
   "cell_type": "markdown",
   "id": "4047a1b5",
   "metadata": {},
   "source": [
    "## Section 5"
   ]
  },
  {
   "cell_type": "markdown",
   "id": "cebece31",
   "metadata": {},
   "source": [
    "### Personal Contribution Statement :\n",
    "#### Team project: What was your contribution during this Sprint stage? <br> \n",
    "\n",
    "This time around time management and catching up with each other was a challenge since both of us fell sick at almost the same time. So we had to scramble a bit at the end. Contributions to most sections were equally divided.\n",
    "        We were on call most of the time sharing code and ideas. <br> <br>\n",
    "        What could have been done better (future improvements of your work)?<br>\n",
    "            This sprint was a bit bad for us cause of health issues but in future we dont anticipate any such struggles. We could only test one model and did not get much of a chance to tune it.\n",
    "            In future, We intend to employ more models and further tune the existing ones.\n",
    "            <br><br>\n",
    "    \n",
    "#### Individual project: \n",
    "   What could have been done better  (future improvements of your work)? <br>\n",
    "     \n",
    "   I personally could have advocated to add more models or atleast tuned  the currently employed prediction model . Unfortunately time management was bad in this sprint and the same needs to be corrected from next. One thing about the entire experience was that we both were in sync regarding most of the decisions and hopefully the same will continue.\n",
    "    "
   ]
  }
 ],
 "metadata": {
  "kernelspec": {
   "display_name": "Python 3.9.13 ('base')",
   "language": "python",
   "name": "python3"
  },
  "language_info": {
   "codemirror_mode": {
    "name": "ipython",
    "version": 3
   },
   "file_extension": ".py",
   "mimetype": "text/x-python",
   "name": "python",
   "nbconvert_exporter": "python",
   "pygments_lexer": "ipython3",
   "version": "3.9.13"
  },
  "vscode": {
   "interpreter": {
    "hash": "821248c1626501b02fcb83ce08ef5848d2574e66008b8909d7d930b13c4fa079"
   }
  }
 },
 "nbformat": 4,
 "nbformat_minor": 5
}
