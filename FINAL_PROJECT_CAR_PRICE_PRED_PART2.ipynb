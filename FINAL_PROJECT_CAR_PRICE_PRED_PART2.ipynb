{
 "cells": [
  {
   "cell_type": "markdown",
   "id": "63b73199",
   "metadata": {},
   "source": [
    "<b> Title :</b><br>\n",
    "<b> &emsp; Webapp to predict the optimal price of a used vehicle. </b><br><br>\n",
    "<b>Team Members :</b><br>\n",
    "<b> &emsp;  Sriram Manne </b> <br>\n",
    "   &emsp;   <b>Sarath Surendran</b><br><br>\n",
    "<b> Date :</b><br>\n",
    "     &emsp;   <b>10-20-2022</b>"
   ]
  },
  {
   "cell_type": "markdown",
   "id": "ba9b6741",
   "metadata": {},
   "source": [
    "#### About the Dataset"
   ]
  },
  {
   "cell_type": "markdown",
   "id": "881fa555",
   "metadata": {},
   "source": [
    "The dataset used for this project was taken from Kaggle and can be found here:<br/>\n",
    "https://www.kaggle.com/datasets/austinreese/craigslist-carstrucks-data <br><br>\n",
    "The dataset contains used vehicles data scraped from Craigslist.  <br><br>\n",
    "The author of the dataset is  : ‘Austin Reese’  <br><br>\n",
    "The whole dataset is nearly 1.5gb in size and was downloaded in csv format  <br><br>\n",
    "\n",
    "<b>The dataset has 26 columns : </b><br><br>\n",
    "&emsp;<b> id :</b> entry ID <br>\n",
    "&emsp;<b>\turl :</b> listing URL <br>\n",
    "&emsp;<b>\tregion :</b> listed region<br>\n",
    "&emsp;<b>\tregion_url :</b> region url<br>\n",
    "&emsp;<b>\tprice :</b> listed price <br>\n",
    "&emsp;<b>   year :</b> year listed<br>\n",
    "&emsp;<b>\tmanufacturer :</b> manufacturer of vehicle<br>\n",
    "&emsp;<b>\tmodel :</b> model of vehicle<br>\n",
    "&emsp;<b>\tcondition :</b> condition of vehicle<br>\n",
    "&emsp;<b>\tcylinders :</b> number of cylinders<br>\n",
    "&emsp;<b>\tfuel :</b> fuel type<br>\n",
    "&emsp;<b>\todometer :</b> miles traveled by vehicle<br>\n",
    "&emsp;<b>\ttitle_status :</b> title status of vehicle<br>\n",
    "&emsp;<b>\ttransmission :</b> transmission of vehicle<br>\n",
    "&emsp;<b>\tVIN :</b> vehicle identification number<br>\n",
    "&emsp;<b>\tdrive :</b> type of drive<br>\n",
    "&emsp;<b>\tsize :</b> size of vehicle<br>\n",
    "&emsp;<b>\ttype :</b> generic type of vehicle<br>\n",
    "&emsp;<b>\tpaint_color :</b> color of vehicle<br>\n",
    "&emsp;<b>\timage_url :</b> image URL<br>\n",
    "&emsp;<b>\tdescription :</b> listed description of vehicle<br>\n",
    "&emsp;<b>\tcounty :</b> useless column left in by mistake<br>\n",
    "&emsp;<b>\tstate :</b> state of listing<br>\n",
    "&emsp;<b>\tlat :</b> latitude of listing<br>\n",
    "&emsp;<b>\tlong :</b> longitude of listing<br>\n",
    "&emsp;<b>\tposting_date :</b> date posted in craigslist<br><br>\n"
   ]
  },
  {
   "cell_type": "markdown",
   "id": "09100d35",
   "metadata": {},
   "source": [
    "#### All imports required for the program to run"
   ]
  },
  {
   "cell_type": "code",
   "execution_count": 151,
   "id": "1ef15b3a",
   "metadata": {},
   "outputs": [],
   "source": [
    "import pandas as pd\n",
    "from sklearn import preprocessing\n",
    "import numpy as np\n",
    "from sklearn.preprocessing import StandardScaler \n",
    "import statsmodels.api as sm\n",
    "import seaborn as sns; sns.set()\n",
    "\n",
    "import matplotlib.pyplot as plt\n",
    "\n",
    "from sklearn.metrics import mean_squared_error, r2_score\n",
    "\n",
    "from sklearn.model_selection import train_test_split, cross_val_score\n",
    "from sklearn.metrics import precision_score, recall_score, f1_score\n",
    "\n",
    "\n",
    "from factor_analyzer import FactorAnalyzer \n",
    "from sklearn.decomposition import FactorAnalysis, PCA\n",
    "import matplotlib.pyplot as plt\n",
    "from factor_analyzer.factor_analyzer import calculate_bartlett_sphericity\n",
    "from factor_analyzer.factor_analyzer import calculate_kmo\n",
    "\n",
    "from sklearn.linear_model import LinearRegression\n",
    "from sklearn.impute import SimpleImputer\n",
    "import numpy as np\n",
    "from sklearn.model_selection import train_test_split, cross_val_score\n",
    "from sklearn.compose import ColumnTransformer, make_column_transformer\n",
    "from sklearn.preprocessing import OneHotEncoder\n",
    "from sklearn.pipeline import make_pipeline\n",
    "from category_encoders import TargetEncoder\n",
    "import pickle\n",
    "\n",
    "import warnings\n",
    "warnings.filterwarnings(\"ignore\")\n"
   ]
  },
  {
   "cell_type": "markdown",
   "id": "ee7fcafa",
   "metadata": {},
   "source": [
    "Reading the extracted csv file and storing it in dataframe for further analysis"
   ]
  },
  {
   "cell_type": "code",
   "execution_count": 152,
   "id": "52053904",
   "metadata": {},
   "outputs": [
    {
     "data": {
      "text/plain": [
       "(426880, 26)"
      ]
     },
     "execution_count": 152,
     "metadata": {},
     "output_type": "execute_result"
    }
   ],
   "source": [
    "df_vehicles = pd.read_csv('dataset/vehicles.csv', delimiter=',')\n",
    "df_vehicles.shape"
   ]
  },
  {
   "cell_type": "markdown",
   "id": "6ab1c8cc",
   "metadata": {},
   "source": [
    "### Exploratory Data Analysis"
   ]
  },
  {
   "cell_type": "markdown",
   "id": "6a106dd7",
   "metadata": {},
   "source": [
    "The dataset seems to contain 426880 records with 26 different attributes"
   ]
  },
  {
   "cell_type": "code",
   "execution_count": 153,
   "id": "18b5898f",
   "metadata": {},
   "outputs": [
    {
     "data": {
      "text/html": [
       "<div>\n",
       "<style scoped>\n",
       "    .dataframe tbody tr th:only-of-type {\n",
       "        vertical-align: middle;\n",
       "    }\n",
       "\n",
       "    .dataframe tbody tr th {\n",
       "        vertical-align: top;\n",
       "    }\n",
       "\n",
       "    .dataframe thead th {\n",
       "        text-align: right;\n",
       "    }\n",
       "</style>\n",
       "<table border=\"1\" class=\"dataframe\">\n",
       "  <thead>\n",
       "    <tr style=\"text-align: right;\">\n",
       "      <th></th>\n",
       "      <th>id</th>\n",
       "      <th>url</th>\n",
       "      <th>region</th>\n",
       "      <th>region_url</th>\n",
       "      <th>price</th>\n",
       "      <th>year</th>\n",
       "      <th>manufacturer</th>\n",
       "      <th>model</th>\n",
       "      <th>condition</th>\n",
       "      <th>cylinders</th>\n",
       "      <th>...</th>\n",
       "      <th>size</th>\n",
       "      <th>type</th>\n",
       "      <th>paint_color</th>\n",
       "      <th>image_url</th>\n",
       "      <th>description</th>\n",
       "      <th>county</th>\n",
       "      <th>state</th>\n",
       "      <th>lat</th>\n",
       "      <th>long</th>\n",
       "      <th>posting_date</th>\n",
       "    </tr>\n",
       "  </thead>\n",
       "  <tbody>\n",
       "    <tr>\n",
       "      <th>0</th>\n",
       "      <td>7222695916</td>\n",
       "      <td>https://prescott.craigslist.org/cto/d/prescott...</td>\n",
       "      <td>prescott</td>\n",
       "      <td>https://prescott.craigslist.org</td>\n",
       "      <td>6000</td>\n",
       "      <td>NaN</td>\n",
       "      <td>NaN</td>\n",
       "      <td>NaN</td>\n",
       "      <td>NaN</td>\n",
       "      <td>NaN</td>\n",
       "      <td>...</td>\n",
       "      <td>NaN</td>\n",
       "      <td>NaN</td>\n",
       "      <td>NaN</td>\n",
       "      <td>NaN</td>\n",
       "      <td>NaN</td>\n",
       "      <td>NaN</td>\n",
       "      <td>az</td>\n",
       "      <td>NaN</td>\n",
       "      <td>NaN</td>\n",
       "      <td>NaN</td>\n",
       "    </tr>\n",
       "    <tr>\n",
       "      <th>1</th>\n",
       "      <td>7218891961</td>\n",
       "      <td>https://fayar.craigslist.org/ctd/d/bentonville...</td>\n",
       "      <td>fayetteville</td>\n",
       "      <td>https://fayar.craigslist.org</td>\n",
       "      <td>11900</td>\n",
       "      <td>NaN</td>\n",
       "      <td>NaN</td>\n",
       "      <td>NaN</td>\n",
       "      <td>NaN</td>\n",
       "      <td>NaN</td>\n",
       "      <td>...</td>\n",
       "      <td>NaN</td>\n",
       "      <td>NaN</td>\n",
       "      <td>NaN</td>\n",
       "      <td>NaN</td>\n",
       "      <td>NaN</td>\n",
       "      <td>NaN</td>\n",
       "      <td>ar</td>\n",
       "      <td>NaN</td>\n",
       "      <td>NaN</td>\n",
       "      <td>NaN</td>\n",
       "    </tr>\n",
       "    <tr>\n",
       "      <th>2</th>\n",
       "      <td>7221797935</td>\n",
       "      <td>https://keys.craigslist.org/cto/d/summerland-k...</td>\n",
       "      <td>florida keys</td>\n",
       "      <td>https://keys.craigslist.org</td>\n",
       "      <td>21000</td>\n",
       "      <td>NaN</td>\n",
       "      <td>NaN</td>\n",
       "      <td>NaN</td>\n",
       "      <td>NaN</td>\n",
       "      <td>NaN</td>\n",
       "      <td>...</td>\n",
       "      <td>NaN</td>\n",
       "      <td>NaN</td>\n",
       "      <td>NaN</td>\n",
       "      <td>NaN</td>\n",
       "      <td>NaN</td>\n",
       "      <td>NaN</td>\n",
       "      <td>fl</td>\n",
       "      <td>NaN</td>\n",
       "      <td>NaN</td>\n",
       "      <td>NaN</td>\n",
       "    </tr>\n",
       "    <tr>\n",
       "      <th>3</th>\n",
       "      <td>7222270760</td>\n",
       "      <td>https://worcester.craigslist.org/cto/d/west-br...</td>\n",
       "      <td>worcester / central MA</td>\n",
       "      <td>https://worcester.craigslist.org</td>\n",
       "      <td>1500</td>\n",
       "      <td>NaN</td>\n",
       "      <td>NaN</td>\n",
       "      <td>NaN</td>\n",
       "      <td>NaN</td>\n",
       "      <td>NaN</td>\n",
       "      <td>...</td>\n",
       "      <td>NaN</td>\n",
       "      <td>NaN</td>\n",
       "      <td>NaN</td>\n",
       "      <td>NaN</td>\n",
       "      <td>NaN</td>\n",
       "      <td>NaN</td>\n",
       "      <td>ma</td>\n",
       "      <td>NaN</td>\n",
       "      <td>NaN</td>\n",
       "      <td>NaN</td>\n",
       "    </tr>\n",
       "    <tr>\n",
       "      <th>4</th>\n",
       "      <td>7210384030</td>\n",
       "      <td>https://greensboro.craigslist.org/cto/d/trinit...</td>\n",
       "      <td>greensboro</td>\n",
       "      <td>https://greensboro.craigslist.org</td>\n",
       "      <td>4900</td>\n",
       "      <td>NaN</td>\n",
       "      <td>NaN</td>\n",
       "      <td>NaN</td>\n",
       "      <td>NaN</td>\n",
       "      <td>NaN</td>\n",
       "      <td>...</td>\n",
       "      <td>NaN</td>\n",
       "      <td>NaN</td>\n",
       "      <td>NaN</td>\n",
       "      <td>NaN</td>\n",
       "      <td>NaN</td>\n",
       "      <td>NaN</td>\n",
       "      <td>nc</td>\n",
       "      <td>NaN</td>\n",
       "      <td>NaN</td>\n",
       "      <td>NaN</td>\n",
       "    </tr>\n",
       "  </tbody>\n",
       "</table>\n",
       "<p>5 rows × 26 columns</p>\n",
       "</div>"
      ],
      "text/plain": [
       "           id                                                url  \\\n",
       "0  7222695916  https://prescott.craigslist.org/cto/d/prescott...   \n",
       "1  7218891961  https://fayar.craigslist.org/ctd/d/bentonville...   \n",
       "2  7221797935  https://keys.craigslist.org/cto/d/summerland-k...   \n",
       "3  7222270760  https://worcester.craigslist.org/cto/d/west-br...   \n",
       "4  7210384030  https://greensboro.craigslist.org/cto/d/trinit...   \n",
       "\n",
       "                   region                         region_url  price  year  \\\n",
       "0                prescott    https://prescott.craigslist.org   6000   NaN   \n",
       "1            fayetteville       https://fayar.craigslist.org  11900   NaN   \n",
       "2            florida keys        https://keys.craigslist.org  21000   NaN   \n",
       "3  worcester / central MA   https://worcester.craigslist.org   1500   NaN   \n",
       "4              greensboro  https://greensboro.craigslist.org   4900   NaN   \n",
       "\n",
       "  manufacturer model condition cylinders  ... size  type paint_color  \\\n",
       "0          NaN   NaN       NaN       NaN  ...  NaN   NaN         NaN   \n",
       "1          NaN   NaN       NaN       NaN  ...  NaN   NaN         NaN   \n",
       "2          NaN   NaN       NaN       NaN  ...  NaN   NaN         NaN   \n",
       "3          NaN   NaN       NaN       NaN  ...  NaN   NaN         NaN   \n",
       "4          NaN   NaN       NaN       NaN  ...  NaN   NaN         NaN   \n",
       "\n",
       "  image_url description county state lat long posting_date  \n",
       "0       NaN         NaN    NaN    az NaN  NaN          NaN  \n",
       "1       NaN         NaN    NaN    ar NaN  NaN          NaN  \n",
       "2       NaN         NaN    NaN    fl NaN  NaN          NaN  \n",
       "3       NaN         NaN    NaN    ma NaN  NaN          NaN  \n",
       "4       NaN         NaN    NaN    nc NaN  NaN          NaN  \n",
       "\n",
       "[5 rows x 26 columns]"
      ]
     },
     "execution_count": 153,
     "metadata": {},
     "output_type": "execute_result"
    }
   ],
   "source": [
    "df_vehicles.head()"
   ]
  },
  {
   "cell_type": "markdown",
   "id": "648154d2",
   "metadata": {},
   "source": [
    "Just by printing the top rows, its evident that the dataset has lots of empty values"
   ]
  },
  {
   "cell_type": "markdown",
   "id": "ab33c7c0",
   "metadata": {},
   "source": [
    "Further descbring the dataset"
   ]
  },
  {
   "cell_type": "code",
   "execution_count": 154,
   "id": "4dbc362c",
   "metadata": {},
   "outputs": [
    {
     "data": {
      "text/html": [
       "<div>\n",
       "<style scoped>\n",
       "    .dataframe tbody tr th:only-of-type {\n",
       "        vertical-align: middle;\n",
       "    }\n",
       "\n",
       "    .dataframe tbody tr th {\n",
       "        vertical-align: top;\n",
       "    }\n",
       "\n",
       "    .dataframe thead th {\n",
       "        text-align: right;\n",
       "    }\n",
       "</style>\n",
       "<table border=\"1\" class=\"dataframe\">\n",
       "  <thead>\n",
       "    <tr style=\"text-align: right;\">\n",
       "      <th></th>\n",
       "      <th>id</th>\n",
       "      <th>url</th>\n",
       "      <th>region</th>\n",
       "      <th>region_url</th>\n",
       "      <th>price</th>\n",
       "      <th>year</th>\n",
       "      <th>manufacturer</th>\n",
       "      <th>model</th>\n",
       "      <th>condition</th>\n",
       "      <th>cylinders</th>\n",
       "      <th>...</th>\n",
       "      <th>size</th>\n",
       "      <th>type</th>\n",
       "      <th>paint_color</th>\n",
       "      <th>image_url</th>\n",
       "      <th>description</th>\n",
       "      <th>county</th>\n",
       "      <th>state</th>\n",
       "      <th>lat</th>\n",
       "      <th>long</th>\n",
       "      <th>posting_date</th>\n",
       "    </tr>\n",
       "  </thead>\n",
       "  <tbody>\n",
       "    <tr>\n",
       "      <th>count</th>\n",
       "      <td>4.268800e+05</td>\n",
       "      <td>426880</td>\n",
       "      <td>426880</td>\n",
       "      <td>426880</td>\n",
       "      <td>4.268800e+05</td>\n",
       "      <td>425675.000000</td>\n",
       "      <td>409234</td>\n",
       "      <td>421603</td>\n",
       "      <td>252776</td>\n",
       "      <td>249202</td>\n",
       "      <td>...</td>\n",
       "      <td>120519</td>\n",
       "      <td>334022</td>\n",
       "      <td>296677</td>\n",
       "      <td>426812</td>\n",
       "      <td>426810</td>\n",
       "      <td>0.0</td>\n",
       "      <td>426880</td>\n",
       "      <td>420331.000000</td>\n",
       "      <td>420331.000000</td>\n",
       "      <td>426812</td>\n",
       "    </tr>\n",
       "    <tr>\n",
       "      <th>unique</th>\n",
       "      <td>NaN</td>\n",
       "      <td>426880</td>\n",
       "      <td>404</td>\n",
       "      <td>413</td>\n",
       "      <td>NaN</td>\n",
       "      <td>NaN</td>\n",
       "      <td>42</td>\n",
       "      <td>29667</td>\n",
       "      <td>6</td>\n",
       "      <td>8</td>\n",
       "      <td>...</td>\n",
       "      <td>4</td>\n",
       "      <td>13</td>\n",
       "      <td>12</td>\n",
       "      <td>241899</td>\n",
       "      <td>360911</td>\n",
       "      <td>NaN</td>\n",
       "      <td>51</td>\n",
       "      <td>NaN</td>\n",
       "      <td>NaN</td>\n",
       "      <td>381536</td>\n",
       "    </tr>\n",
       "    <tr>\n",
       "      <th>top</th>\n",
       "      <td>NaN</td>\n",
       "      <td>https://prescott.craigslist.org/cto/d/prescott...</td>\n",
       "      <td>columbus</td>\n",
       "      <td>https://spokane.craigslist.org</td>\n",
       "      <td>NaN</td>\n",
       "      <td>NaN</td>\n",
       "      <td>ford</td>\n",
       "      <td>f-150</td>\n",
       "      <td>good</td>\n",
       "      <td>6 cylinders</td>\n",
       "      <td>...</td>\n",
       "      <td>full-size</td>\n",
       "      <td>sedan</td>\n",
       "      <td>white</td>\n",
       "      <td>https://images.craigslist.org/00N0N_1xMPvfxRAI...</td>\n",
       "      <td>35 VEHICLES PRICED UNDER $3000!!!  BIG TIME! T...</td>\n",
       "      <td>NaN</td>\n",
       "      <td>ca</td>\n",
       "      <td>NaN</td>\n",
       "      <td>NaN</td>\n",
       "      <td>2021-04-23T22:13:05-0400</td>\n",
       "    </tr>\n",
       "    <tr>\n",
       "      <th>freq</th>\n",
       "      <td>NaN</td>\n",
       "      <td>1</td>\n",
       "      <td>3608</td>\n",
       "      <td>2988</td>\n",
       "      <td>NaN</td>\n",
       "      <td>NaN</td>\n",
       "      <td>70985</td>\n",
       "      <td>8009</td>\n",
       "      <td>121456</td>\n",
       "      <td>94169</td>\n",
       "      <td>...</td>\n",
       "      <td>63465</td>\n",
       "      <td>87056</td>\n",
       "      <td>79285</td>\n",
       "      <td>7357</td>\n",
       "      <td>231</td>\n",
       "      <td>NaN</td>\n",
       "      <td>50614</td>\n",
       "      <td>NaN</td>\n",
       "      <td>NaN</td>\n",
       "      <td>12</td>\n",
       "    </tr>\n",
       "    <tr>\n",
       "      <th>mean</th>\n",
       "      <td>7.311487e+09</td>\n",
       "      <td>NaN</td>\n",
       "      <td>NaN</td>\n",
       "      <td>NaN</td>\n",
       "      <td>7.519903e+04</td>\n",
       "      <td>2011.235191</td>\n",
       "      <td>NaN</td>\n",
       "      <td>NaN</td>\n",
       "      <td>NaN</td>\n",
       "      <td>NaN</td>\n",
       "      <td>...</td>\n",
       "      <td>NaN</td>\n",
       "      <td>NaN</td>\n",
       "      <td>NaN</td>\n",
       "      <td>NaN</td>\n",
       "      <td>NaN</td>\n",
       "      <td>NaN</td>\n",
       "      <td>NaN</td>\n",
       "      <td>38.493940</td>\n",
       "      <td>-94.748599</td>\n",
       "      <td>NaN</td>\n",
       "    </tr>\n",
       "    <tr>\n",
       "      <th>std</th>\n",
       "      <td>4.473170e+06</td>\n",
       "      <td>NaN</td>\n",
       "      <td>NaN</td>\n",
       "      <td>NaN</td>\n",
       "      <td>1.218228e+07</td>\n",
       "      <td>9.452120</td>\n",
       "      <td>NaN</td>\n",
       "      <td>NaN</td>\n",
       "      <td>NaN</td>\n",
       "      <td>NaN</td>\n",
       "      <td>...</td>\n",
       "      <td>NaN</td>\n",
       "      <td>NaN</td>\n",
       "      <td>NaN</td>\n",
       "      <td>NaN</td>\n",
       "      <td>NaN</td>\n",
       "      <td>NaN</td>\n",
       "      <td>NaN</td>\n",
       "      <td>5.841533</td>\n",
       "      <td>18.365462</td>\n",
       "      <td>NaN</td>\n",
       "    </tr>\n",
       "    <tr>\n",
       "      <th>min</th>\n",
       "      <td>7.207408e+09</td>\n",
       "      <td>NaN</td>\n",
       "      <td>NaN</td>\n",
       "      <td>NaN</td>\n",
       "      <td>0.000000e+00</td>\n",
       "      <td>1900.000000</td>\n",
       "      <td>NaN</td>\n",
       "      <td>NaN</td>\n",
       "      <td>NaN</td>\n",
       "      <td>NaN</td>\n",
       "      <td>...</td>\n",
       "      <td>NaN</td>\n",
       "      <td>NaN</td>\n",
       "      <td>NaN</td>\n",
       "      <td>NaN</td>\n",
       "      <td>NaN</td>\n",
       "      <td>NaN</td>\n",
       "      <td>NaN</td>\n",
       "      <td>-84.122245</td>\n",
       "      <td>-159.827728</td>\n",
       "      <td>NaN</td>\n",
       "    </tr>\n",
       "    <tr>\n",
       "      <th>25%</th>\n",
       "      <td>7.308143e+09</td>\n",
       "      <td>NaN</td>\n",
       "      <td>NaN</td>\n",
       "      <td>NaN</td>\n",
       "      <td>5.900000e+03</td>\n",
       "      <td>2008.000000</td>\n",
       "      <td>NaN</td>\n",
       "      <td>NaN</td>\n",
       "      <td>NaN</td>\n",
       "      <td>NaN</td>\n",
       "      <td>...</td>\n",
       "      <td>NaN</td>\n",
       "      <td>NaN</td>\n",
       "      <td>NaN</td>\n",
       "      <td>NaN</td>\n",
       "      <td>NaN</td>\n",
       "      <td>NaN</td>\n",
       "      <td>NaN</td>\n",
       "      <td>34.601900</td>\n",
       "      <td>-111.939847</td>\n",
       "      <td>NaN</td>\n",
       "    </tr>\n",
       "    <tr>\n",
       "      <th>50%</th>\n",
       "      <td>7.312621e+09</td>\n",
       "      <td>NaN</td>\n",
       "      <td>NaN</td>\n",
       "      <td>NaN</td>\n",
       "      <td>1.395000e+04</td>\n",
       "      <td>2013.000000</td>\n",
       "      <td>NaN</td>\n",
       "      <td>NaN</td>\n",
       "      <td>NaN</td>\n",
       "      <td>NaN</td>\n",
       "      <td>...</td>\n",
       "      <td>NaN</td>\n",
       "      <td>NaN</td>\n",
       "      <td>NaN</td>\n",
       "      <td>NaN</td>\n",
       "      <td>NaN</td>\n",
       "      <td>NaN</td>\n",
       "      <td>NaN</td>\n",
       "      <td>39.150100</td>\n",
       "      <td>-88.432600</td>\n",
       "      <td>NaN</td>\n",
       "    </tr>\n",
       "    <tr>\n",
       "      <th>75%</th>\n",
       "      <td>7.315254e+09</td>\n",
       "      <td>NaN</td>\n",
       "      <td>NaN</td>\n",
       "      <td>NaN</td>\n",
       "      <td>2.648575e+04</td>\n",
       "      <td>2017.000000</td>\n",
       "      <td>NaN</td>\n",
       "      <td>NaN</td>\n",
       "      <td>NaN</td>\n",
       "      <td>NaN</td>\n",
       "      <td>...</td>\n",
       "      <td>NaN</td>\n",
       "      <td>NaN</td>\n",
       "      <td>NaN</td>\n",
       "      <td>NaN</td>\n",
       "      <td>NaN</td>\n",
       "      <td>NaN</td>\n",
       "      <td>NaN</td>\n",
       "      <td>42.398900</td>\n",
       "      <td>-80.832039</td>\n",
       "      <td>NaN</td>\n",
       "    </tr>\n",
       "    <tr>\n",
       "      <th>max</th>\n",
       "      <td>7.317101e+09</td>\n",
       "      <td>NaN</td>\n",
       "      <td>NaN</td>\n",
       "      <td>NaN</td>\n",
       "      <td>3.736929e+09</td>\n",
       "      <td>2022.000000</td>\n",
       "      <td>NaN</td>\n",
       "      <td>NaN</td>\n",
       "      <td>NaN</td>\n",
       "      <td>NaN</td>\n",
       "      <td>...</td>\n",
       "      <td>NaN</td>\n",
       "      <td>NaN</td>\n",
       "      <td>NaN</td>\n",
       "      <td>NaN</td>\n",
       "      <td>NaN</td>\n",
       "      <td>NaN</td>\n",
       "      <td>NaN</td>\n",
       "      <td>82.390818</td>\n",
       "      <td>173.885502</td>\n",
       "      <td>NaN</td>\n",
       "    </tr>\n",
       "  </tbody>\n",
       "</table>\n",
       "<p>11 rows × 26 columns</p>\n",
       "</div>"
      ],
      "text/plain": [
       "                  id                                                url  \\\n",
       "count   4.268800e+05                                             426880   \n",
       "unique           NaN                                             426880   \n",
       "top              NaN  https://prescott.craigslist.org/cto/d/prescott...   \n",
       "freq             NaN                                                  1   \n",
       "mean    7.311487e+09                                                NaN   \n",
       "std     4.473170e+06                                                NaN   \n",
       "min     7.207408e+09                                                NaN   \n",
       "25%     7.308143e+09                                                NaN   \n",
       "50%     7.312621e+09                                                NaN   \n",
       "75%     7.315254e+09                                                NaN   \n",
       "max     7.317101e+09                                                NaN   \n",
       "\n",
       "          region                      region_url         price           year  \\\n",
       "count     426880                          426880  4.268800e+05  425675.000000   \n",
       "unique       404                             413           NaN            NaN   \n",
       "top     columbus  https://spokane.craigslist.org           NaN            NaN   \n",
       "freq        3608                            2988           NaN            NaN   \n",
       "mean         NaN                             NaN  7.519903e+04    2011.235191   \n",
       "std          NaN                             NaN  1.218228e+07       9.452120   \n",
       "min          NaN                             NaN  0.000000e+00    1900.000000   \n",
       "25%          NaN                             NaN  5.900000e+03    2008.000000   \n",
       "50%          NaN                             NaN  1.395000e+04    2013.000000   \n",
       "75%          NaN                             NaN  2.648575e+04    2017.000000   \n",
       "max          NaN                             NaN  3.736929e+09    2022.000000   \n",
       "\n",
       "       manufacturer   model condition    cylinders  ...       size    type  \\\n",
       "count        409234  421603    252776       249202  ...     120519  334022   \n",
       "unique           42   29667         6            8  ...          4      13   \n",
       "top            ford   f-150      good  6 cylinders  ...  full-size   sedan   \n",
       "freq          70985    8009    121456        94169  ...      63465   87056   \n",
       "mean            NaN     NaN       NaN          NaN  ...        NaN     NaN   \n",
       "std             NaN     NaN       NaN          NaN  ...        NaN     NaN   \n",
       "min             NaN     NaN       NaN          NaN  ...        NaN     NaN   \n",
       "25%             NaN     NaN       NaN          NaN  ...        NaN     NaN   \n",
       "50%             NaN     NaN       NaN          NaN  ...        NaN     NaN   \n",
       "75%             NaN     NaN       NaN          NaN  ...        NaN     NaN   \n",
       "max             NaN     NaN       NaN          NaN  ...        NaN     NaN   \n",
       "\n",
       "       paint_color                                          image_url  \\\n",
       "count       296677                                             426812   \n",
       "unique          12                                             241899   \n",
       "top          white  https://images.craigslist.org/00N0N_1xMPvfxRAI...   \n",
       "freq         79285                                               7357   \n",
       "mean           NaN                                                NaN   \n",
       "std            NaN                                                NaN   \n",
       "min            NaN                                                NaN   \n",
       "25%            NaN                                                NaN   \n",
       "50%            NaN                                                NaN   \n",
       "75%            NaN                                                NaN   \n",
       "max            NaN                                                NaN   \n",
       "\n",
       "                                              description county   state  \\\n",
       "count                                              426810    0.0  426880   \n",
       "unique                                             360911    NaN      51   \n",
       "top     35 VEHICLES PRICED UNDER $3000!!!  BIG TIME! T...    NaN      ca   \n",
       "freq                                                  231    NaN   50614   \n",
       "mean                                                  NaN    NaN     NaN   \n",
       "std                                                   NaN    NaN     NaN   \n",
       "min                                                   NaN    NaN     NaN   \n",
       "25%                                                   NaN    NaN     NaN   \n",
       "50%                                                   NaN    NaN     NaN   \n",
       "75%                                                   NaN    NaN     NaN   \n",
       "max                                                   NaN    NaN     NaN   \n",
       "\n",
       "                  lat           long              posting_date  \n",
       "count   420331.000000  420331.000000                    426812  \n",
       "unique            NaN            NaN                    381536  \n",
       "top               NaN            NaN  2021-04-23T22:13:05-0400  \n",
       "freq              NaN            NaN                        12  \n",
       "mean        38.493940     -94.748599                       NaN  \n",
       "std          5.841533      18.365462                       NaN  \n",
       "min        -84.122245    -159.827728                       NaN  \n",
       "25%         34.601900    -111.939847                       NaN  \n",
       "50%         39.150100     -88.432600                       NaN  \n",
       "75%         42.398900     -80.832039                       NaN  \n",
       "max         82.390818     173.885502                       NaN  \n",
       "\n",
       "[11 rows x 26 columns]"
      ]
     },
     "execution_count": 154,
     "metadata": {},
     "output_type": "execute_result"
    }
   ],
   "source": [
    "df_vehicles.describe(include=\"all\")"
   ]
  },
  {
   "cell_type": "markdown",
   "id": "cce7cd48",
   "metadata": {},
   "source": [
    "The county column seems to have no values. This field along with all the urls,lat,long,description and VIN will not be considered for analysis. So removing them altogether"
   ]
  },
  {
   "cell_type": "code",
   "execution_count": 156,
   "id": "8cc0c812",
   "metadata": {},
   "outputs": [
    {
     "ename": "KeyError",
     "evalue": "\"['id', 'county', 'region_url', 'VIN', 'image_url', 'url', 'lat', 'long', 'description'] not found in axis\"",
     "output_type": "error",
     "traceback": [
      "\u001b[0;31m---------------------------------------------------------------------------\u001b[0m",
      "\u001b[0;31mKeyError\u001b[0m                                  Traceback (most recent call last)",
      "Cell \u001b[0;32mIn [156], line 1\u001b[0m\n\u001b[0;32m----> 1\u001b[0m df_vehicles\u001b[39m=\u001b[39mdf_vehicles\u001b[39m.\u001b[39;49mdrop(columns\u001b[39m=\u001b[39;49m[\u001b[39m\"\u001b[39;49m\u001b[39mid\u001b[39;49m\u001b[39m\"\u001b[39;49m,\u001b[39m\"\u001b[39;49m\u001b[39mcounty\u001b[39;49m\u001b[39m\"\u001b[39;49m,\u001b[39m\"\u001b[39;49m\u001b[39mregion_url\u001b[39;49m\u001b[39m\"\u001b[39;49m,\u001b[39m\"\u001b[39;49m\u001b[39mVIN\u001b[39;49m\u001b[39m\"\u001b[39;49m,\u001b[39m\"\u001b[39;49m\u001b[39mimage_url\u001b[39;49m\u001b[39m\"\u001b[39;49m,\u001b[39m\"\u001b[39;49m\u001b[39murl\u001b[39;49m\u001b[39m\"\u001b[39;49m,\n\u001b[1;32m      2\u001b[0m                                       \u001b[39m\"\u001b[39;49m\u001b[39mlat\u001b[39;49m\u001b[39m\"\u001b[39;49m,\u001b[39m\"\u001b[39;49m\u001b[39mlong\u001b[39;49m\u001b[39m\"\u001b[39;49m,\u001b[39m\"\u001b[39;49m\u001b[39mdescription\u001b[39;49m\u001b[39m\"\u001b[39;49m])\n\u001b[1;32m      3\u001b[0m df_vehicles\u001b[39m.\u001b[39mdtypes\n",
      "File \u001b[0;32m~/Library/Python/3.9/lib/python/site-packages/pandas/util/_decorators.py:331\u001b[0m, in \u001b[0;36mdeprecate_nonkeyword_arguments.<locals>.decorate.<locals>.wrapper\u001b[0;34m(*args, **kwargs)\u001b[0m\n\u001b[1;32m    325\u001b[0m \u001b[39mif\u001b[39;00m \u001b[39mlen\u001b[39m(args) \u001b[39m>\u001b[39m num_allow_args:\n\u001b[1;32m    326\u001b[0m     warnings\u001b[39m.\u001b[39mwarn(\n\u001b[1;32m    327\u001b[0m         msg\u001b[39m.\u001b[39mformat(arguments\u001b[39m=\u001b[39m_format_argument_list(allow_args)),\n\u001b[1;32m    328\u001b[0m         \u001b[39mFutureWarning\u001b[39;00m,\n\u001b[1;32m    329\u001b[0m         stacklevel\u001b[39m=\u001b[39mfind_stack_level(),\n\u001b[1;32m    330\u001b[0m     )\n\u001b[0;32m--> 331\u001b[0m \u001b[39mreturn\u001b[39;00m func(\u001b[39m*\u001b[39;49margs, \u001b[39m*\u001b[39;49m\u001b[39m*\u001b[39;49mkwargs)\n",
      "File \u001b[0;32m~/Library/Python/3.9/lib/python/site-packages/pandas/core/frame.py:5388\u001b[0m, in \u001b[0;36mDataFrame.drop\u001b[0;34m(self, labels, axis, index, columns, level, inplace, errors)\u001b[0m\n\u001b[1;32m   5240\u001b[0m \u001b[39m@deprecate_nonkeyword_arguments\u001b[39m(version\u001b[39m=\u001b[39m\u001b[39mNone\u001b[39;00m, allowed_args\u001b[39m=\u001b[39m[\u001b[39m\"\u001b[39m\u001b[39mself\u001b[39m\u001b[39m\"\u001b[39m, \u001b[39m\"\u001b[39m\u001b[39mlabels\u001b[39m\u001b[39m\"\u001b[39m])\n\u001b[1;32m   5241\u001b[0m \u001b[39mdef\u001b[39;00m \u001b[39mdrop\u001b[39m(  \u001b[39m# type: ignore[override]\u001b[39;00m\n\u001b[1;32m   5242\u001b[0m     \u001b[39mself\u001b[39m,\n\u001b[0;32m   (...)\u001b[0m\n\u001b[1;32m   5249\u001b[0m     errors: IgnoreRaise \u001b[39m=\u001b[39m \u001b[39m\"\u001b[39m\u001b[39mraise\u001b[39m\u001b[39m\"\u001b[39m,\n\u001b[1;32m   5250\u001b[0m ) \u001b[39m-\u001b[39m\u001b[39m>\u001b[39m DataFrame \u001b[39m|\u001b[39m \u001b[39mNone\u001b[39;00m:\n\u001b[1;32m   5251\u001b[0m     \u001b[39m\"\"\"\u001b[39;00m\n\u001b[1;32m   5252\u001b[0m \u001b[39m    Drop specified labels from rows or columns.\u001b[39;00m\n\u001b[1;32m   5253\u001b[0m \n\u001b[0;32m   (...)\u001b[0m\n\u001b[1;32m   5386\u001b[0m \u001b[39m            weight  1.0     0.8\u001b[39;00m\n\u001b[1;32m   5387\u001b[0m \u001b[39m    \"\"\"\u001b[39;00m\n\u001b[0;32m-> 5388\u001b[0m     \u001b[39mreturn\u001b[39;00m \u001b[39msuper\u001b[39;49m()\u001b[39m.\u001b[39;49mdrop(\n\u001b[1;32m   5389\u001b[0m         labels\u001b[39m=\u001b[39;49mlabels,\n\u001b[1;32m   5390\u001b[0m         axis\u001b[39m=\u001b[39;49maxis,\n\u001b[1;32m   5391\u001b[0m         index\u001b[39m=\u001b[39;49mindex,\n\u001b[1;32m   5392\u001b[0m         columns\u001b[39m=\u001b[39;49mcolumns,\n\u001b[1;32m   5393\u001b[0m         level\u001b[39m=\u001b[39;49mlevel,\n\u001b[1;32m   5394\u001b[0m         inplace\u001b[39m=\u001b[39;49minplace,\n\u001b[1;32m   5395\u001b[0m         errors\u001b[39m=\u001b[39;49merrors,\n\u001b[1;32m   5396\u001b[0m     )\n",
      "File \u001b[0;32m~/Library/Python/3.9/lib/python/site-packages/pandas/util/_decorators.py:331\u001b[0m, in \u001b[0;36mdeprecate_nonkeyword_arguments.<locals>.decorate.<locals>.wrapper\u001b[0;34m(*args, **kwargs)\u001b[0m\n\u001b[1;32m    325\u001b[0m \u001b[39mif\u001b[39;00m \u001b[39mlen\u001b[39m(args) \u001b[39m>\u001b[39m num_allow_args:\n\u001b[1;32m    326\u001b[0m     warnings\u001b[39m.\u001b[39mwarn(\n\u001b[1;32m    327\u001b[0m         msg\u001b[39m.\u001b[39mformat(arguments\u001b[39m=\u001b[39m_format_argument_list(allow_args)),\n\u001b[1;32m    328\u001b[0m         \u001b[39mFutureWarning\u001b[39;00m,\n\u001b[1;32m    329\u001b[0m         stacklevel\u001b[39m=\u001b[39mfind_stack_level(),\n\u001b[1;32m    330\u001b[0m     )\n\u001b[0;32m--> 331\u001b[0m \u001b[39mreturn\u001b[39;00m func(\u001b[39m*\u001b[39;49margs, \u001b[39m*\u001b[39;49m\u001b[39m*\u001b[39;49mkwargs)\n",
      "File \u001b[0;32m~/Library/Python/3.9/lib/python/site-packages/pandas/core/generic.py:4505\u001b[0m, in \u001b[0;36mNDFrame.drop\u001b[0;34m(self, labels, axis, index, columns, level, inplace, errors)\u001b[0m\n\u001b[1;32m   4503\u001b[0m \u001b[39mfor\u001b[39;00m axis, labels \u001b[39min\u001b[39;00m axes\u001b[39m.\u001b[39mitems():\n\u001b[1;32m   4504\u001b[0m     \u001b[39mif\u001b[39;00m labels \u001b[39mis\u001b[39;00m \u001b[39mnot\u001b[39;00m \u001b[39mNone\u001b[39;00m:\n\u001b[0;32m-> 4505\u001b[0m         obj \u001b[39m=\u001b[39m obj\u001b[39m.\u001b[39;49m_drop_axis(labels, axis, level\u001b[39m=\u001b[39;49mlevel, errors\u001b[39m=\u001b[39;49merrors)\n\u001b[1;32m   4507\u001b[0m \u001b[39mif\u001b[39;00m inplace:\n\u001b[1;32m   4508\u001b[0m     \u001b[39mself\u001b[39m\u001b[39m.\u001b[39m_update_inplace(obj)\n",
      "File \u001b[0;32m~/Library/Python/3.9/lib/python/site-packages/pandas/core/generic.py:4546\u001b[0m, in \u001b[0;36mNDFrame._drop_axis\u001b[0;34m(self, labels, axis, level, errors, only_slice)\u001b[0m\n\u001b[1;32m   4544\u001b[0m         new_axis \u001b[39m=\u001b[39m axis\u001b[39m.\u001b[39mdrop(labels, level\u001b[39m=\u001b[39mlevel, errors\u001b[39m=\u001b[39merrors)\n\u001b[1;32m   4545\u001b[0m     \u001b[39melse\u001b[39;00m:\n\u001b[0;32m-> 4546\u001b[0m         new_axis \u001b[39m=\u001b[39m axis\u001b[39m.\u001b[39;49mdrop(labels, errors\u001b[39m=\u001b[39;49merrors)\n\u001b[1;32m   4547\u001b[0m     indexer \u001b[39m=\u001b[39m axis\u001b[39m.\u001b[39mget_indexer(new_axis)\n\u001b[1;32m   4549\u001b[0m \u001b[39m# Case for non-unique axis\u001b[39;00m\n\u001b[1;32m   4550\u001b[0m \u001b[39melse\u001b[39;00m:\n",
      "File \u001b[0;32m~/Library/Python/3.9/lib/python/site-packages/pandas/core/indexes/base.py:6975\u001b[0m, in \u001b[0;36mIndex.drop\u001b[0;34m(self, labels, errors)\u001b[0m\n\u001b[1;32m   6973\u001b[0m \u001b[39mif\u001b[39;00m mask\u001b[39m.\u001b[39many():\n\u001b[1;32m   6974\u001b[0m     \u001b[39mif\u001b[39;00m errors \u001b[39m!=\u001b[39m \u001b[39m\"\u001b[39m\u001b[39mignore\u001b[39m\u001b[39m\"\u001b[39m:\n\u001b[0;32m-> 6975\u001b[0m         \u001b[39mraise\u001b[39;00m \u001b[39mKeyError\u001b[39;00m(\u001b[39mf\u001b[39m\u001b[39m\"\u001b[39m\u001b[39m{\u001b[39;00m\u001b[39mlist\u001b[39m(labels[mask])\u001b[39m}\u001b[39;00m\u001b[39m not found in axis\u001b[39m\u001b[39m\"\u001b[39m)\n\u001b[1;32m   6976\u001b[0m     indexer \u001b[39m=\u001b[39m indexer[\u001b[39m~\u001b[39mmask]\n\u001b[1;32m   6977\u001b[0m \u001b[39mreturn\u001b[39;00m \u001b[39mself\u001b[39m\u001b[39m.\u001b[39mdelete(indexer)\n",
      "\u001b[0;31mKeyError\u001b[0m: \"['id', 'county', 'region_url', 'VIN', 'image_url', 'url', 'lat', 'long', 'description'] not found in axis\""
     ]
    }
   ],
   "source": [
    "df_vehicles=df_vehicles.drop(columns=[\"id\",\"county\",\"region_url\",\"VIN\",\"image_url\",\"url\",\n",
    "                                      \"lat\",\"long\",\"description\"])\n",
    "df_vehicles.dtypes"
   ]
  },
  {
   "cell_type": "code",
   "execution_count": 157,
   "id": "df4cab7b",
   "metadata": {},
   "outputs": [
    {
     "data": {
      "text/plain": [
       "region           object\n",
       "price             int64\n",
       "year            float64\n",
       "manufacturer     object\n",
       "model            object\n",
       "condition        object\n",
       "cylinders        object\n",
       "fuel             object\n",
       "odometer        float64\n",
       "title_status     object\n",
       "transmission     object\n",
       "drive            object\n",
       "size             object\n",
       "type             object\n",
       "paint_color      object\n",
       "state            object\n",
       "posting_date     object\n",
       "dtype: object"
      ]
     },
     "execution_count": 157,
     "metadata": {},
     "output_type": "execute_result"
    }
   ],
   "source": [
    "df_vehicles.dtypes\n"
   ]
  },
  {
   "cell_type": "markdown",
   "id": "0e6fdf1d",
   "metadata": {},
   "source": [
    "#### Handling missing values"
   ]
  },
  {
   "cell_type": "markdown",
   "id": "0329cf56",
   "metadata": {},
   "source": [
    "First we get a count of all missing values present under each column"
   ]
  },
  {
   "cell_type": "code",
   "execution_count": 158,
   "id": "8489ed25",
   "metadata": {},
   "outputs": [
    {
     "data": {
      "text/plain": [
       "region               0\n",
       "price                0\n",
       "year              1205\n",
       "manufacturer     17646\n",
       "model             5277\n",
       "condition       174104\n",
       "cylinders       177678\n",
       "fuel              3013\n",
       "odometer          4400\n",
       "title_status      8242\n",
       "transmission      2556\n",
       "drive           130567\n",
       "size            306361\n",
       "type             92858\n",
       "paint_color     130203\n",
       "state                0\n",
       "posting_date        68\n",
       "dtype: int64"
      ]
     },
     "execution_count": 158,
     "metadata": {},
     "output_type": "execute_result"
    }
   ],
   "source": [
    "df_vehicles.isna().sum()"
   ]
  },
  {
   "cell_type": "markdown",
   "id": "d08bd187",
   "metadata": {},
   "source": [
    "Further inspecting the size column which has the largest number of missing values"
   ]
  },
  {
   "cell_type": "code",
   "execution_count": 159,
   "id": "75b3ccb2",
   "metadata": {},
   "outputs": [
    {
     "data": {
      "text/plain": [
       "array([nan, 'full-size', 'mid-size', 'compact', 'sub-compact'],\n",
       "      dtype=object)"
      ]
     },
     "execution_count": 159,
     "metadata": {},
     "output_type": "execute_result"
    }
   ],
   "source": [
    "df_vehicles['size'].unique()"
   ]
  },
  {
   "cell_type": "markdown",
   "id": "72fc4016",
   "metadata": {},
   "source": [
    "We will modify the size column to use numerical values"
   ]
  },
  {
   "cell_type": "code",
   "execution_count": 160,
   "id": "b8446dc7",
   "metadata": {},
   "outputs": [],
   "source": [
    "df_vehicles['size']=df_vehicles['size'].astype(\"category\")\n",
    "df_vehicles['size_codes']=df_vehicles['size'].cat.codes"
   ]
  },
  {
   "cell_type": "code",
   "execution_count": 161,
   "id": "02381806",
   "metadata": {},
   "outputs": [
    {
     "data": {
      "text/plain": [
       "-1    306361\n",
       " 1     63465\n",
       " 2     34476\n",
       " 0     19384\n",
       " 3      3194\n",
       "Name: size_codes, dtype: int64"
      ]
     },
     "execution_count": 161,
     "metadata": {},
     "output_type": "execute_result"
    }
   ],
   "source": [
    "df_vehicles['size_codes'].value_counts()"
   ]
  },
  {
   "cell_type": "markdown",
   "id": "1136b449",
   "metadata": {},
   "source": [
    "So the size of the vehicle is now updated as the following :<br>\n",
    "\"Missing\": 0,<br>\"full-size\": 4,<br>\"mid-size\": 3,<br>\"compact\": 2,<br>\"sub-compact\": 1\n"
   ]
  },
  {
   "cell_type": "markdown",
   "id": "530428b0",
   "metadata": {},
   "source": [
    "Checking manufacturer values"
   ]
  },
  {
   "cell_type": "code",
   "execution_count": 162,
   "id": "cd727cd7",
   "metadata": {},
   "outputs": [
    {
     "data": {
      "text/plain": [
       "array([nan, 'gmc', 'chevrolet', 'toyota', 'ford', 'jeep', 'nissan', 'ram',\n",
       "       'mazda', 'cadillac', 'honda', 'dodge', 'lexus', 'jaguar', 'buick',\n",
       "       'chrysler', 'volvo', 'audi', 'infiniti', 'lincoln', 'alfa-romeo',\n",
       "       'subaru', 'acura', 'hyundai', 'mercedes-benz', 'bmw', 'mitsubishi',\n",
       "       'volkswagen', 'porsche', 'kia', 'rover', 'ferrari', 'mini',\n",
       "       'pontiac', 'fiat', 'tesla', 'saturn', 'mercury', 'harley-davidson',\n",
       "       'datsun', 'aston-martin', 'land rover', 'morgan'], dtype=object)"
      ]
     },
     "execution_count": 162,
     "metadata": {},
     "output_type": "execute_result"
    }
   ],
   "source": [
    "df_vehicles[\"manufacturer\"].unique()"
   ]
  },
  {
   "cell_type": "markdown",
   "id": "eedd4157",
   "metadata": {},
   "source": [
    "Replacing missing values with \"Others\""
   ]
  },
  {
   "cell_type": "code",
   "execution_count": 163,
   "id": "0019ea64",
   "metadata": {},
   "outputs": [],
   "source": [
    "df_vehicles['manufacturer'].fillna(\"others\",inplace=True)"
   ]
  },
  {
   "cell_type": "code",
   "execution_count": 164,
   "id": "d585f1a7",
   "metadata": {},
   "outputs": [],
   "source": [
    "df_vehicles['manufacturer'].value_counts()\n",
    "df_vehicles['manufacturer']=df_vehicles['manufacturer'].astype('category')\n",
    "df_vehicles['make']=df_vehicles['manufacturer'].cat.codes"
   ]
  },
  {
   "cell_type": "code",
   "execution_count": 165,
   "id": "6a451040",
   "metadata": {},
   "outputs": [
    {
     "data": {
      "text/plain": [
       "13    70985\n",
       "7     55064\n",
       "40    34202\n",
       "16    21269\n",
       "31    19067\n",
       "20    19014\n",
       "35    18342\n",
       "32    17646\n",
       "14    16785\n",
       "4     14699\n",
       "10    13707\n",
       "26    11817\n",
       "17    10338\n",
       "38     9495\n",
       "41     9345\n",
       "21     8457\n",
       "23     8200\n",
       "3      7573\n",
       "6      6953\n",
       "8      6031\n",
       "0      5978\n",
       "5      5501\n",
       "25     5427\n",
       "18     4802\n",
       "24     4220\n",
       "42     3374\n",
       "29     3292\n",
       "28     2376\n",
       "33     2288\n",
       "36     2113\n",
       "19     1946\n",
       "34     1384\n",
       "27     1184\n",
       "37     1090\n",
       "1       897\n",
       "39      868\n",
       "12      792\n",
       "15      153\n",
       "11       95\n",
       "9        63\n",
       "2        24\n",
       "22       21\n",
       "30        3\n",
       "Name: make, dtype: int64"
      ]
     },
     "execution_count": 165,
     "metadata": {},
     "output_type": "execute_result"
    }
   ],
   "source": [
    "df_vehicles['make'].value_counts()"
   ]
  },
  {
   "cell_type": "markdown",
   "id": "a2b1c1be",
   "metadata": {},
   "source": [
    "All missing values are now replaced with 'Others'"
   ]
  },
  {
   "cell_type": "markdown",
   "id": "aa3f762c",
   "metadata": {},
   "source": [
    "Also most of the vehicle listings seems to be manufactured by 'ford'"
   ]
  },
  {
   "cell_type": "markdown",
   "id": "14667dab",
   "metadata": {},
   "source": [
    "Further dropping all the missing values from the dataset"
   ]
  },
  {
   "cell_type": "markdown",
   "id": "99b1c2aa",
   "metadata": {},
   "source": [
    "Filtering out vehicles with make year less than 1970"
   ]
  },
  {
   "cell_type": "code",
   "execution_count": 166,
   "id": "270d8e04",
   "metadata": {},
   "outputs": [
    {
     "data": {
      "text/plain": [
       "420048"
      ]
     },
     "execution_count": 166,
     "metadata": {},
     "output_type": "execute_result"
    }
   ],
   "source": [
    "df_vehicles=df_vehicles[df_vehicles['year']>1970]\n",
    "len(df_vehicles)"
   ]
  },
  {
   "cell_type": "markdown",
   "id": "7f9aab25",
   "metadata": {},
   "source": [
    "Converting vehicle condition to numberic value"
   ]
  },
  {
   "cell_type": "code",
   "execution_count": 167,
   "id": "2110107a",
   "metadata": {},
   "outputs": [],
   "source": [
    "df_vehicles.condition.unique()\n",
    "df_vehicles['condition'].fillna('other',inplace=True)\n",
    "df_vehicles.condition=df_vehicles.condition.astype('category')\n",
    "df_vehicles['condition_codes']=df_vehicles['condition'].cat.codes"
   ]
  },
  {
   "cell_type": "code",
   "execution_count": 168,
   "id": "c353716e",
   "metadata": {},
   "outputs": [],
   "source": [
    "df_vehicles=df_vehicles.dropna()"
   ]
  },
  {
   "cell_type": "markdown",
   "id": "2661fed8",
   "metadata": {},
   "source": [
    "Converting fuel type to numeric value"
   ]
  },
  {
   "cell_type": "code",
   "execution_count": 169,
   "id": "13952371",
   "metadata": {},
   "outputs": [
    {
     "data": {
      "text/plain": [
       "array(['gas', 'diesel', 'hybrid', 'electric', 'other'], dtype=object)"
      ]
     },
     "execution_count": 169,
     "metadata": {},
     "output_type": "execute_result"
    }
   ],
   "source": [
    "df_vehicles.fuel.unique()"
   ]
  },
  {
   "cell_type": "code",
   "execution_count": 170,
   "id": "6b395c18",
   "metadata": {},
   "outputs": [],
   "source": [
    "df_vehicles.fuel=df_vehicles.fuel.astype('category')\n",
    "df_vehicles['fuel_codes']=df_vehicles.fuel.cat.codes"
   ]
  },
  {
   "cell_type": "code",
   "execution_count": 171,
   "id": "63842d2f",
   "metadata": {},
   "outputs": [
    {
     "data": {
      "text/plain": [
       "2    86498\n",
       "0     7036\n",
       "3     1282\n",
       "4      216\n",
       "1      150\n",
       "Name: fuel_codes, dtype: int64"
      ]
     },
     "execution_count": 171,
     "metadata": {},
     "output_type": "execute_result"
    }
   ],
   "source": [
    "df_vehicles.fuel_codes.value_counts()"
   ]
  },
  {
   "cell_type": "markdown",
   "id": "8b7a71ce",
   "metadata": {},
   "source": [
    "Converting title status to numeric"
   ]
  },
  {
   "cell_type": "code",
   "execution_count": 172,
   "id": "7d6f3aab",
   "metadata": {},
   "outputs": [],
   "source": [
    "df_vehicles.title_status=df_vehicles.title_status.astype('category')"
   ]
  },
  {
   "cell_type": "code",
   "execution_count": 173,
   "id": "d07f886b",
   "metadata": {},
   "outputs": [
    {
     "data": {
      "text/plain": [
       "array([0, 4, 5, 1, 2, 3], dtype=int8)"
      ]
     },
     "execution_count": 173,
     "metadata": {},
     "output_type": "execute_result"
    }
   ],
   "source": [
    "df_vehicles[\"title_stat_codes\"]=df_vehicles.title_status.cat.codes\n",
    "df_vehicles.title_stat_codes.unique()"
   ]
  },
  {
   "cell_type": "markdown",
   "id": "7cebcf92",
   "metadata": {},
   "source": [
    "Converting transmission to numeric"
   ]
  },
  {
   "cell_type": "code",
   "execution_count": 174,
   "id": "b31d58d4",
   "metadata": {},
   "outputs": [
    {
     "data": {
      "text/plain": [
       "array(['automatic', 'manual', 'other'], dtype=object)"
      ]
     },
     "execution_count": 174,
     "metadata": {},
     "output_type": "execute_result"
    }
   ],
   "source": [
    "df_vehicles.transmission.unique()"
   ]
  },
  {
   "cell_type": "code",
   "execution_count": 175,
   "id": "944cbfb8",
   "metadata": {},
   "outputs": [
    {
     "data": {
      "text/plain": [
       "array([0, 1, 2], dtype=int8)"
      ]
     },
     "execution_count": 175,
     "metadata": {},
     "output_type": "execute_result"
    }
   ],
   "source": [
    "df_vehicles.transmission=df_vehicles.transmission.astype('category')\n",
    "df_vehicles[\"transmission_codes\"]=df_vehicles.transmission.cat.codes\n",
    "df_vehicles.transmission_codes.unique()"
   ]
  },
  {
   "cell_type": "markdown",
   "id": "3c7e93ed",
   "metadata": {},
   "source": [
    "Converting drive to numeric "
   ]
  },
  {
   "cell_type": "code",
   "execution_count": 176,
   "id": "2c60a185",
   "metadata": {},
   "outputs": [
    {
     "data": {
      "text/plain": [
       "67     1447\n",
       "158    1301\n",
       "374    1025\n",
       "61     1006\n",
       "147     979\n",
       "       ... \n",
       "194       3\n",
       "115       2\n",
       "334       2\n",
       "335       1\n",
       "247       1\n",
       "Name: region_codes, Length: 403, dtype: int64"
      ]
     },
     "execution_count": 176,
     "metadata": {},
     "output_type": "execute_result"
    }
   ],
   "source": [
    "df_vehicles.region=df_vehicles.region.astype('category')\n",
    "df_vehicles[\"region_codes\"]=df_vehicles.region.cat.codes\n",
    "df_vehicles.region_codes.value_counts()\n",
    "\n",
    "\n"
   ]
  },
  {
   "cell_type": "code",
   "execution_count": 177,
   "id": "c9568442",
   "metadata": {},
   "outputs": [
    {
     "data": {
      "text/plain": [
       "0    40177\n",
       "1    33752\n",
       "2    21253\n",
       "Name: drive_codes, dtype: int64"
      ]
     },
     "execution_count": 177,
     "metadata": {},
     "output_type": "execute_result"
    }
   ],
   "source": [
    "df_vehicles.drive=df_vehicles.drive.astype('category')\n",
    "df_vehicles[\"drive_codes\"]=df_vehicles.drive.cat.codes\n",
    "df_vehicles.drive_codes.value_counts()\n"
   ]
  },
  {
   "cell_type": "markdown",
   "id": "a88b603f",
   "metadata": {},
   "source": [
    "Creating new type variable for analysis down the line"
   ]
  },
  {
   "cell_type": "code",
   "execution_count": 178,
   "id": "ef7305fa",
   "metadata": {},
   "outputs": [
    {
     "data": {
      "text/plain": [
       "9     26213\n",
       "0     25706\n",
       "10    15465\n",
       "8      8310\n",
       "3      4736\n",
       "4      3708\n",
       "11     3117\n",
       "2      2428\n",
       "12     2387\n",
       "5      1993\n",
       "7       560\n",
       "6       349\n",
       "1       210\n",
       "Name: type_codes, dtype: int64"
      ]
     },
     "execution_count": 178,
     "metadata": {},
     "output_type": "execute_result"
    }
   ],
   "source": [
    "df_vehicles.type=df_vehicles.type.astype('category')\n",
    "df_vehicles[\"type_codes\"]=df_vehicles.type.cat.codes\n",
    "df_vehicles.type_codes.value_counts()"
   ]
  },
  {
   "cell_type": "markdown",
   "id": "b11ff0fb",
   "metadata": {},
   "source": [
    "Adding numeric paint color variable"
   ]
  },
  {
   "cell_type": "code",
   "execution_count": 180,
   "id": "7626fd1a",
   "metadata": {},
   "outputs": [
    {
     "data": {
      "text/plain": [
       "10    24003\n",
       "0     16982\n",
       "9     13692\n",
       "5     11391\n",
       "1      9458\n",
       "8      9155\n",
       "3      3334\n",
       "2      2817\n",
       "4      2788\n",
       "11      792\n",
       "6       512\n",
       "7       258\n",
       "Name: paint_color_codes, dtype: int64"
      ]
     },
     "execution_count": 180,
     "metadata": {},
     "output_type": "execute_result"
    }
   ],
   "source": [
    "df_vehicles.paint_color=df_vehicles.paint_color.astype('category')\n",
    "df_vehicles[\"paint_color_codes\"]=df_vehicles.paint_color.cat.codes\n",
    "df_vehicles.paint_color_codes.value_counts()"
   ]
  },
  {
   "cell_type": "markdown",
   "id": "177b5c87",
   "metadata": {},
   "source": [
    "Exploring vehicles based on number of cylinders present in engine"
   ]
  },
  {
   "cell_type": "code",
   "execution_count": 181,
   "id": "c78c167e",
   "metadata": {
    "scrolled": true
   },
   "outputs": [
    {
     "data": {
      "text/plain": [
       "0"
      ]
     },
     "execution_count": 181,
     "metadata": {},
     "output_type": "execute_result"
    }
   ],
   "source": [
    "df_vehicles['cylinders'].isna().sum()"
   ]
  },
  {
   "cell_type": "markdown",
   "id": "57cc2a62",
   "metadata": {},
   "source": [
    "Replacing string values and dropping 'other'"
   ]
  },
  {
   "cell_type": "code",
   "execution_count": 182,
   "id": "bc014ce3",
   "metadata": {},
   "outputs": [],
   "source": [
    "df_vehicles['cylinders']=df_vehicles['cylinders'].str.replace(r'\\D', '')\n",
    "df_vehicles['cylinders']=df_vehicles['cylinders'].replace('',np.NaN)\n",
    "df_vehicles['cylinders']=df_vehicles['cylinders'].astype(\"category\")\n",
    "df_vehicles['cylinder_codes']=df_vehicles['cylinders'].cat.codes\n",
    "df_vehicles=df_vehicles.dropna()\n",
    "pickle.dump(df_vehicles,open(\"test_df_dump.p\",'wb'))"
   ]
  },
  {
   "cell_type": "code",
   "execution_count": 179,
   "id": "b26e497f",
   "metadata": {},
   "outputs": [
    {
     "data": {
      "text/plain": [
       "95182"
      ]
     },
     "execution_count": 179,
     "metadata": {},
     "output_type": "execute_result"
    }
   ],
   "source": [
    "len(df_vehicles)"
   ]
  },
  {
   "cell_type": "code",
   "execution_count": 33,
   "id": "b5d84be5",
   "metadata": {
    "scrolled": false
   },
   "outputs": [
    {
     "data": {
      "text/plain": [
       "<AxesSubplot:title={'center':'# of cyclinders'}, xlabel='cylinders', ylabel='count'>"
      ]
     },
     "execution_count": 33,
     "metadata": {},
     "output_type": "execute_result"
    },
    {
     "data": {
      "image/png": "[encoded data removed]",
      "text/plain": [
       "<Figure size 640x480 with 1 Axes>"
      ]
     },
     "metadata": {},
     "output_type": "display_data"
    }
   ],
   "source": [
    "df_cylider=df_vehicles[\"cylinders\"].value_counts().reset_index()\n",
    "df_cylider.columns=[\"cylinders\",\"count\"]\n",
    "plt.title(\"# of cyclinders\",size=15)\n",
    "sns.barplot(df_cylider['cylinders'],df_cylider['count'],color = 'b')"
   ]
  },
  {
   "cell_type": "code",
   "execution_count": 34,
   "id": "ad956fff",
   "metadata": {},
   "outputs": [
    {
     "data": {
      "text/plain": [
       "118672"
      ]
     },
     "execution_count": 34,
     "metadata": {},
     "output_type": "execute_result"
    }
   ],
   "source": [
    "len(df_vehicles)"
   ]
  },
  {
   "cell_type": "markdown",
   "id": "59a64e0b",
   "metadata": {},
   "source": [
    "So for further analysis, we will be considering a total of 118672 records "
   ]
  },
  {
   "cell_type": "markdown",
   "id": "c60e3bc1",
   "metadata": {},
   "source": [
    "#### Now lets explore vehicles per region <br>\n",
    "\n",
    "Grouping based on region"
   ]
  },
  {
   "cell_type": "code",
   "execution_count": 82,
   "id": "164c7d2a",
   "metadata": {},
   "outputs": [
    {
     "data": {
      "text/plain": [
       "<AxesSubplot:title={'center':'Used vehicles available by region - top 10'}, xlabel='region', ylabel='count'>"
      ]
     },
     "execution_count": 82,
     "metadata": {},
     "output_type": "execute_result"
    },
    {
     "data": {
      "image/png": "[encoded data removed]",
      "text/plain": [
       "<Figure size 640x480 with 1 Axes>"
      ]
     },
     "metadata": {},
     "output_type": "display_data"
    }
   ],
   "source": [
    "df_reg=df_vehicles[\"region\"].value_counts().reset_index()\n",
    "df_reg.columns=[\"region\",\"count\"]\n",
    "plt.xticks(rotation=70)\n",
    "plt.title(\"Used vehicles available by region - top 10\",size=15)\n",
    "sns.barplot(df_reg['region'][:10],df_reg['count'][:10],color = 'g')"
   ]
  },
  {
   "cell_type": "markdown",
   "id": "bb0fb4af",
   "metadata": {},
   "source": [
    "#### Vermount seems to have the most number of listings of used vehicles "
   ]
  },
  {
   "cell_type": "markdown",
   "id": "3364247f",
   "metadata": {},
   "source": [
    "Exploring based on year of manufacturing"
   ]
  },
  {
   "cell_type": "code",
   "execution_count": 36,
   "id": "cecdbaef",
   "metadata": {},
   "outputs": [
    {
     "data": {
      "image/png": "[encoded data removed]",
      "text/plain": [
       "<Figure size 1000x1500 with 1 Axes>"
      ]
     },
     "metadata": {},
     "output_type": "display_data"
    }
   ],
   "source": [
    "plt.figure(figsize=(10,15))\n",
    "ax = sns.countplot(df_vehicles['year'])\n",
    "plt.title(\"Car Model Year\",size=15)\n",
    "k = ax.set_xticklabels(ax.get_xticklabels(),rotation=90,size=10)\n",
    "fig=ax.get_figure()\n",
    "fig.savefig(\"out.png\") "
   ]
  },
  {
   "cell_type": "markdown",
   "id": "f2fdf3dd",
   "metadata": {},
   "source": [
    "Most vehicles seems to have been made during the 2012-2014 period"
   ]
  },
  {
   "cell_type": "markdown",
   "id": "79fcade1",
   "metadata": {},
   "source": [
    "#### Grouping vehicles based on color"
   ]
  },
  {
   "cell_type": "code",
   "execution_count": 37,
   "id": "7f9d5c59",
   "metadata": {
    "scrolled": false
   },
   "outputs": [
    {
     "data": {
      "image/png": "[encoded data removed]",
      "text/plain": [
       "<Figure size 800x800 with 1 Axes>"
      ]
     },
     "metadata": {},
     "output_type": "display_data"
    }
   ],
   "source": [
    "plt.figure(figsize=(8,8))\n",
    "color_df = df_vehicles['paint_color'].value_counts().reset_index()\n",
    "color_df.columns = ['car color','count']\n",
    "plt.title(\"Color count of Cars\",size=20)\n",
    "sns.barplot(color_df['car color'],color_df['count'],color = 'royalblue')\n",
    "fig.savefig('temp1.png', dpi=fig.dpi)"
   ]
  },
  {
   "cell_type": "markdown",
   "id": "d6857db3",
   "metadata": {},
   "source": [
    "Most of the listings seems to be of 'white' color. No surprise there. Lease being purple."
   ]
  },
  {
   "cell_type": "markdown",
   "id": "f1aeeb17",
   "metadata": {},
   "source": [
    "#### Examining price range"
   ]
  },
  {
   "cell_type": "code",
   "execution_count": 38,
   "id": "149677da",
   "metadata": {},
   "outputs": [
    {
     "data": {
      "text/html": [
       "<div>\n",
       "<style scoped>\n",
       "    .dataframe tbody tr th:only-of-type {\n",
       "        vertical-align: middle;\n",
       "    }\n",
       "\n",
       "    .dataframe tbody tr th {\n",
       "        vertical-align: top;\n",
       "    }\n",
       "\n",
       "    .dataframe thead th {\n",
       "        text-align: right;\n",
       "    }\n",
       "</style>\n",
       "<table border=\"1\" class=\"dataframe\">\n",
       "  <thead>\n",
       "    <tr style=\"text-align: right;\">\n",
       "      <th></th>\n",
       "      <th>region</th>\n",
       "      <th>price</th>\n",
       "      <th>year</th>\n",
       "      <th>manufacturer</th>\n",
       "      <th>model</th>\n",
       "      <th>condition</th>\n",
       "      <th>cylinders</th>\n",
       "      <th>fuel</th>\n",
       "      <th>odometer</th>\n",
       "      <th>title_status</th>\n",
       "      <th>transmission</th>\n",
       "      <th>drive</th>\n",
       "      <th>size</th>\n",
       "      <th>type</th>\n",
       "      <th>paint_color</th>\n",
       "      <th>description</th>\n",
       "      <th>state</th>\n",
       "      <th>posting_date</th>\n",
       "      <th>type_n</th>\n",
       "      <th>paint_color_n</th>\n",
       "    </tr>\n",
       "  </thead>\n",
       "  <tbody>\n",
       "    <tr>\n",
       "      <th>29386</th>\n",
       "      <td>humboldt county</td>\n",
       "      <td>1111111111</td>\n",
       "      <td>1999.0</td>\n",
       "      <td>ford</td>\n",
       "      <td>f350 super duty lariat</td>\n",
       "      <td>1</td>\n",
       "      <td>8</td>\n",
       "      <td>2</td>\n",
       "      <td>149000.0</td>\n",
       "      <td>0</td>\n",
       "      <td>0</td>\n",
       "      <td>1</td>\n",
       "      <td>4</td>\n",
       "      <td>pickup</td>\n",
       "      <td>white</td>\n",
       "      <td>Thank you to everyone that contacted me concer...</td>\n",
       "      <td>ca</td>\n",
       "      <td>2021-04-11T11:40:08-0700</td>\n",
       "      <td>2</td>\n",
       "      <td>6</td>\n",
       "    </tr>\n",
       "    <tr>\n",
       "      <th>68935</th>\n",
       "      <td>ventura county</td>\n",
       "      <td>2000000</td>\n",
       "      <td>2002.0</td>\n",
       "      <td>saturn</td>\n",
       "      <td>l-series l200 4dr sedan</td>\n",
       "      <td>1</td>\n",
       "      <td>4</td>\n",
       "      <td>1</td>\n",
       "      <td>164290.0</td>\n",
       "      <td>0</td>\n",
       "      <td>0</td>\n",
       "      <td>3</td>\n",
       "      <td>3</td>\n",
       "      <td>sedan</td>\n",
       "      <td>green</td>\n",
       "      <td>No longer need runs and drives great.  This ca...</td>\n",
       "      <td>ca</td>\n",
       "      <td>2021-04-06T16:40:31-0700</td>\n",
       "      <td>6</td>\n",
       "      <td>9</td>\n",
       "    </tr>\n",
       "    <tr>\n",
       "      <th>106361</th>\n",
       "      <td>orlando</td>\n",
       "      <td>516999</td>\n",
       "      <td>2016.0</td>\n",
       "      <td>others</td>\n",
       "      <td>Lambo Aventador SV Roadster</td>\n",
       "      <td>4</td>\n",
       "      <td>12</td>\n",
       "      <td>1</td>\n",
       "      <td>9982.0</td>\n",
       "      <td>0</td>\n",
       "      <td>0</td>\n",
       "      <td>2</td>\n",
       "      <td>4</td>\n",
       "      <td>convertible</td>\n",
       "      <td>white</td>\n",
       "      <td>Serious/ready buyers, please reach out via cal...</td>\n",
       "      <td>fl</td>\n",
       "      <td>2021-04-26T17:40:47-0400</td>\n",
       "      <td>10</td>\n",
       "      <td>6</td>\n",
       "    </tr>\n",
       "    <tr>\n",
       "      <th>111963</th>\n",
       "      <td>south florida</td>\n",
       "      <td>285000</td>\n",
       "      <td>2021.0</td>\n",
       "      <td>others</td>\n",
       "      <td>Lamborghini huracan evo</td>\n",
       "      <td>3</td>\n",
       "      <td>10</td>\n",
       "      <td>1</td>\n",
       "      <td>950.0</td>\n",
       "      <td>0</td>\n",
       "      <td>0</td>\n",
       "      <td>1</td>\n",
       "      <td>0</td>\n",
       "      <td>coupe</td>\n",
       "      <td>green</td>\n",
       "      <td>2021 Lamborghini Huracan EVO RWD  PPF FRONT HA...</td>\n",
       "      <td>fl</td>\n",
       "      <td>2021-05-03T11:00:55-0400</td>\n",
       "      <td>3</td>\n",
       "      <td>9</td>\n",
       "    </tr>\n",
       "    <tr>\n",
       "      <th>136516</th>\n",
       "      <td>spokane / coeur d'alene</td>\n",
       "      <td>17000000</td>\n",
       "      <td>2007.0</td>\n",
       "      <td>ram</td>\n",
       "      <td>2500</td>\n",
       "      <td>1</td>\n",
       "      <td>8</td>\n",
       "      <td>2</td>\n",
       "      <td>170000.0</td>\n",
       "      <td>1</td>\n",
       "      <td>0</td>\n",
       "      <td>2</td>\n",
       "      <td>4</td>\n",
       "      <td>pickup</td>\n",
       "      <td>black</td>\n",
       "      <td>07 dodge 2500 mega cab 5.9 diesel 6in lift bul...</td>\n",
       "      <td>id</td>\n",
       "      <td>2021-05-02T19:27:17-0700</td>\n",
       "      <td>2</td>\n",
       "      <td>1</td>\n",
       "    </tr>\n",
       "    <tr>\n",
       "      <th>137807</th>\n",
       "      <td>spokane / coeur d'alene</td>\n",
       "      <td>123456789</td>\n",
       "      <td>1999.0</td>\n",
       "      <td>buick</td>\n",
       "      <td>regal</td>\n",
       "      <td>4</td>\n",
       "      <td>6</td>\n",
       "      <td>1</td>\n",
       "      <td>96000.0</td>\n",
       "      <td>0</td>\n",
       "      <td>0</td>\n",
       "      <td>3</td>\n",
       "      <td>4</td>\n",
       "      <td>sedan</td>\n",
       "      <td>white</td>\n",
       "      <td>This supercharged regal is no longer charged s...</td>\n",
       "      <td>id</td>\n",
       "      <td>2021-04-29T08:48:15-0700</td>\n",
       "      <td>6</td>\n",
       "      <td>6</td>\n",
       "    </tr>\n",
       "    <tr>\n",
       "      <th>155421</th>\n",
       "      <td>terre haute</td>\n",
       "      <td>1234567</td>\n",
       "      <td>2006.0</td>\n",
       "      <td>jeep</td>\n",
       "      <td>wrangler</td>\n",
       "      <td>4</td>\n",
       "      <td>6</td>\n",
       "      <td>1</td>\n",
       "      <td>123456.0</td>\n",
       "      <td>0</td>\n",
       "      <td>0</td>\n",
       "      <td>2</td>\n",
       "      <td>3</td>\n",
       "      <td>SUV</td>\n",
       "      <td>custom</td>\n",
       "      <td>Top shelf jeeps,  have around 25 in stock, Onl...</td>\n",
       "      <td>in</td>\n",
       "      <td>2021-04-18T11:26:55-0400</td>\n",
       "      <td>5</td>\n",
       "      <td>0</td>\n",
       "    </tr>\n",
       "    <tr>\n",
       "      <th>208617</th>\n",
       "      <td>saginaw-midland-baycity</td>\n",
       "      <td>554900</td>\n",
       "      <td>2019.0</td>\n",
       "      <td>others</td>\n",
       "      <td>f250 xlt crewcab</td>\n",
       "      <td>3</td>\n",
       "      <td>8</td>\n",
       "      <td>1</td>\n",
       "      <td>25365.0</td>\n",
       "      <td>4</td>\n",
       "      <td>0</td>\n",
       "      <td>2</td>\n",
       "      <td>0</td>\n",
       "      <td>pickup</td>\n",
       "      <td>white</td>\n",
       "      <td>2019 F250 XLT with new Boss plow. Used twice f...</td>\n",
       "      <td>mi</td>\n",
       "      <td>2021-05-02T18:30:41-0400</td>\n",
       "      <td>2</td>\n",
       "      <td>6</td>\n",
       "    </tr>\n",
       "    <tr>\n",
       "      <th>230753</th>\n",
       "      <td>asheville</td>\n",
       "      <td>135008900</td>\n",
       "      <td>2008.0</td>\n",
       "      <td>nissan</td>\n",
       "      <td>titan se kingcab</td>\n",
       "      <td>4</td>\n",
       "      <td>8</td>\n",
       "      <td>1</td>\n",
       "      <td>110500.0</td>\n",
       "      <td>0</td>\n",
       "      <td>0</td>\n",
       "      <td>2</td>\n",
       "      <td>4</td>\n",
       "      <td>truck</td>\n",
       "      <td>grey</td>\n",
       "      <td>2008 Nissan Titan Se Kingcab 4door(suicide doo...</td>\n",
       "      <td>nc</td>\n",
       "      <td>2021-04-16T19:22:21-0400</td>\n",
       "      <td>1</td>\n",
       "      <td>3</td>\n",
       "    </tr>\n",
       "    <tr>\n",
       "      <th>274019</th>\n",
       "      <td>long island</td>\n",
       "      <td>261895</td>\n",
       "      <td>2017.0</td>\n",
       "      <td>others</td>\n",
       "      <td>Rolls royce dawn</td>\n",
       "      <td>4</td>\n",
       "      <td>12</td>\n",
       "      <td>1</td>\n",
       "      <td>5600.0</td>\n",
       "      <td>0</td>\n",
       "      <td>0</td>\n",
       "      <td>1</td>\n",
       "      <td>0</td>\n",
       "      <td>convertible</td>\n",
       "      <td>black</td>\n",
       "      <td>HELLO SELLING MY 2017 ROLLS ROYCE DAWN WITH ON...</td>\n",
       "      <td>ny</td>\n",
       "      <td>2021-04-22T23:05:15-0400</td>\n",
       "      <td>10</td>\n",
       "      <td>1</td>\n",
       "    </tr>\n",
       "    <tr>\n",
       "      <th>307488</th>\n",
       "      <td>stillwater</td>\n",
       "      <td>123456789</td>\n",
       "      <td>1996.0</td>\n",
       "      <td>gmc</td>\n",
       "      <td>sierra 2500</td>\n",
       "      <td>2</td>\n",
       "      <td>8</td>\n",
       "      <td>1</td>\n",
       "      <td>320000.0</td>\n",
       "      <td>0</td>\n",
       "      <td>0</td>\n",
       "      <td>2</td>\n",
       "      <td>4</td>\n",
       "      <td>pickup</td>\n",
       "      <td>black</td>\n",
       "      <td>$99,666       Not Really! It’s the worse truck...</td>\n",
       "      <td>ok</td>\n",
       "      <td>2021-04-07T12:44:56-0500</td>\n",
       "      <td>2</td>\n",
       "      <td>1</td>\n",
       "    </tr>\n",
       "    <tr>\n",
       "      <th>318592</th>\n",
       "      <td>eugene</td>\n",
       "      <td>3736928711</td>\n",
       "      <td>2007.0</td>\n",
       "      <td>toyota</td>\n",
       "      <td>tundra</td>\n",
       "      <td>3</td>\n",
       "      <td>8</td>\n",
       "      <td>1</td>\n",
       "      <td>164000.0</td>\n",
       "      <td>0</td>\n",
       "      <td>0</td>\n",
       "      <td>2</td>\n",
       "      <td>4</td>\n",
       "      <td>pickup</td>\n",
       "      <td>silver</td>\n",
       "      <td>Selling my 2007 Toyota Tundra SR5 four wheel d...</td>\n",
       "      <td>or</td>\n",
       "      <td>2021-04-16T18:16:12-0700</td>\n",
       "      <td>2</td>\n",
       "      <td>2</td>\n",
       "    </tr>\n",
       "    <tr>\n",
       "      <th>327938</th>\n",
       "      <td>altoona-johnstown</td>\n",
       "      <td>3226714</td>\n",
       "      <td>2002.0</td>\n",
       "      <td>others</td>\n",
       "      <td>any and all</td>\n",
       "      <td>2</td>\n",
       "      <td>8</td>\n",
       "      <td>2</td>\n",
       "      <td>1234.0</td>\n",
       "      <td>0</td>\n",
       "      <td>1</td>\n",
       "      <td>2</td>\n",
       "      <td>3</td>\n",
       "      <td>sedan</td>\n",
       "      <td>blue</td>\n",
       "      <td>Buying Junk/Unwanted/Crashed Vehicles Cars-tru...</td>\n",
       "      <td>pa</td>\n",
       "      <td>2021-04-29T18:24:17-0400</td>\n",
       "      <td>6</td>\n",
       "      <td>5</td>\n",
       "    </tr>\n",
       "    <tr>\n",
       "      <th>328193</th>\n",
       "      <td>altoona-johnstown</td>\n",
       "      <td>400123</td>\n",
       "      <td>2003.0</td>\n",
       "      <td>others</td>\n",
       "      <td>any and all</td>\n",
       "      <td>2</td>\n",
       "      <td>5</td>\n",
       "      <td>2</td>\n",
       "      <td>123321.0</td>\n",
       "      <td>0</td>\n",
       "      <td>0</td>\n",
       "      <td>2</td>\n",
       "      <td>4</td>\n",
       "      <td>pickup</td>\n",
       "      <td>blue</td>\n",
       "      <td>Buying Junk/Unwanted/Crashed Vehicles Cars-tru...</td>\n",
       "      <td>pa</td>\n",
       "      <td>2021-04-07T19:49:49-0400</td>\n",
       "      <td>2</td>\n",
       "      <td>5</td>\n",
       "    </tr>\n",
       "  </tbody>\n",
       "</table>\n",
       "</div>"
      ],
      "text/plain": [
       "                         region       price    year manufacturer  \\\n",
       "29386           humboldt county  1111111111  1999.0         ford   \n",
       "68935            ventura county     2000000  2002.0       saturn   \n",
       "106361                  orlando      516999  2016.0       others   \n",
       "111963            south florida      285000  2021.0       others   \n",
       "136516  spokane / coeur d'alene    17000000  2007.0          ram   \n",
       "137807  spokane / coeur d'alene   123456789  1999.0        buick   \n",
       "155421              terre haute     1234567  2006.0         jeep   \n",
       "208617  saginaw-midland-baycity      554900  2019.0       others   \n",
       "230753                asheville   135008900  2008.0       nissan   \n",
       "274019              long island      261895  2017.0       others   \n",
       "307488               stillwater   123456789  1996.0          gmc   \n",
       "318592                   eugene  3736928711  2007.0       toyota   \n",
       "327938        altoona-johnstown     3226714  2002.0       others   \n",
       "328193        altoona-johnstown      400123  2003.0       others   \n",
       "\n",
       "                              model condition cylinders fuel  odometer  \\\n",
       "29386        f350 super duty lariat         1         8    2  149000.0   \n",
       "68935       l-series l200 4dr sedan         1         4    1  164290.0   \n",
       "106361  Lambo Aventador SV Roadster         4        12    1    9982.0   \n",
       "111963      Lamborghini huracan evo         3        10    1     950.0   \n",
       "136516                         2500         1         8    2  170000.0   \n",
       "137807                        regal         4         6    1   96000.0   \n",
       "155421                     wrangler         4         6    1  123456.0   \n",
       "208617             f250 xlt crewcab         3         8    1   25365.0   \n",
       "230753             titan se kingcab         4         8    1  110500.0   \n",
       "274019             Rolls royce dawn         4        12    1    5600.0   \n",
       "307488                  sierra 2500         2         8    1  320000.0   \n",
       "318592                       tundra         3         8    1  164000.0   \n",
       "327938                  any and all         2         8    2    1234.0   \n",
       "328193                  any and all         2         5    2  123321.0   \n",
       "\n",
       "       title_status transmission drive size         type paint_color  \\\n",
       "29386             0            0     1    4       pickup       white   \n",
       "68935             0            0     3    3        sedan       green   \n",
       "106361            0            0     2    4  convertible       white   \n",
       "111963            0            0     1    0        coupe       green   \n",
       "136516            1            0     2    4       pickup       black   \n",
       "137807            0            0     3    4        sedan       white   \n",
       "155421            0            0     2    3          SUV      custom   \n",
       "208617            4            0     2    0       pickup       white   \n",
       "230753            0            0     2    4        truck        grey   \n",
       "274019            0            0     1    0  convertible       black   \n",
       "307488            0            0     2    4       pickup       black   \n",
       "318592            0            0     2    4       pickup      silver   \n",
       "327938            0            1     2    3        sedan        blue   \n",
       "328193            0            0     2    4       pickup        blue   \n",
       "\n",
       "                                              description state  \\\n",
       "29386   Thank you to everyone that contacted me concer...    ca   \n",
       "68935   No longer need runs and drives great.  This ca...    ca   \n",
       "106361  Serious/ready buyers, please reach out via cal...    fl   \n",
       "111963  2021 Lamborghini Huracan EVO RWD  PPF FRONT HA...    fl   \n",
       "136516  07 dodge 2500 mega cab 5.9 diesel 6in lift bul...    id   \n",
       "137807  This supercharged regal is no longer charged s...    id   \n",
       "155421  Top shelf jeeps,  have around 25 in stock, Onl...    in   \n",
       "208617  2019 F250 XLT with new Boss plow. Used twice f...    mi   \n",
       "230753  2008 Nissan Titan Se Kingcab 4door(suicide doo...    nc   \n",
       "274019  HELLO SELLING MY 2017 ROLLS ROYCE DAWN WITH ON...    ny   \n",
       "307488  $99,666       Not Really! It’s the worse truck...    ok   \n",
       "318592  Selling my 2007 Toyota Tundra SR5 four wheel d...    or   \n",
       "327938  Buying Junk/Unwanted/Crashed Vehicles Cars-tru...    pa   \n",
       "328193  Buying Junk/Unwanted/Crashed Vehicles Cars-tru...    pa   \n",
       "\n",
       "                    posting_date type_n paint_color_n  \n",
       "29386   2021-04-11T11:40:08-0700      2             6  \n",
       "68935   2021-04-06T16:40:31-0700      6             9  \n",
       "106361  2021-04-26T17:40:47-0400     10             6  \n",
       "111963  2021-05-03T11:00:55-0400      3             9  \n",
       "136516  2021-05-02T19:27:17-0700      2             1  \n",
       "137807  2021-04-29T08:48:15-0700      6             6  \n",
       "155421  2021-04-18T11:26:55-0400      5             0  \n",
       "208617  2021-05-02T18:30:41-0400      2             6  \n",
       "230753  2021-04-16T19:22:21-0400      1             3  \n",
       "274019  2021-04-22T23:05:15-0400     10             1  \n",
       "307488  2021-04-07T12:44:56-0500      2             1  \n",
       "318592  2021-04-16T18:16:12-0700      2             2  \n",
       "327938  2021-04-29T18:24:17-0400      6             5  \n",
       "328193  2021-04-07T19:49:49-0400      2             5  "
      ]
     },
     "execution_count": 38,
     "metadata": {},
     "output_type": "execute_result"
    }
   ],
   "source": [
    "df_vehicles[df_vehicles['price']>200000]"
   ]
  },
  {
   "cell_type": "markdown",
   "id": "83f1a673",
   "metadata": {},
   "source": [
    "Some of the prices listed seems to be unrealistic .<br>\n",
    "\n",
    "Boxplot for confirming outliers"
   ]
  },
  {
   "cell_type": "code",
   "execution_count": 39,
   "id": "523060cb",
   "metadata": {
    "scrolled": false
   },
   "outputs": [
    {
     "data": {
      "image/png": "[encoded data removed]",
      "text/plain": [
       "<Figure size 1000x1000 with 1 Axes>"
      ]
     },
     "metadata": {},
     "output_type": "display_data"
    }
   ],
   "source": [
    "plt.figure(figsize = (10,10))\n",
    "plt.boxplot(df_vehicles[\"price\"])\n",
    "plt.show()"
   ]
  },
  {
   "cell_type": "markdown",
   "id": "bd863cb5",
   "metadata": {},
   "source": [
    "The boxplot clearly shows the existence of extreme outliers."
   ]
  },
  {
   "cell_type": "code",
   "execution_count": 40,
   "id": "e570b4da",
   "metadata": {},
   "outputs": [
    {
     "data": {
      "text/plain": [
       "3736928711"
      ]
     },
     "execution_count": 40,
     "metadata": {},
     "output_type": "execute_result"
    }
   ],
   "source": [
    "df_vehicles['price'].max()"
   ]
  },
  {
   "cell_type": "markdown",
   "id": "a91f259c",
   "metadata": {},
   "source": [
    "Someone seems to have listed a toyota tundra for 37 billion dollars. Wishful thinking.<br>\n",
    "For this analysis we will only include records between 1000 - 600000 dollars"
   ]
  },
  {
   "cell_type": "code",
   "execution_count": 41,
   "id": "466ec797",
   "metadata": {},
   "outputs": [],
   "source": [
    "final_df=df_vehicles.loc[(df_vehicles['price']>=1000) & (df_vehicles['price']<= 600000)]"
   ]
  },
  {
   "cell_type": "code",
   "execution_count": 42,
   "id": "a54914cd",
   "metadata": {},
   "outputs": [
    {
     "data": {
      "text/plain": [
       "111867"
      ]
     },
     "execution_count": 42,
     "metadata": {},
     "output_type": "execute_result"
    }
   ],
   "source": [
    "len(final_df)"
   ]
  },
  {
   "cell_type": "code",
   "execution_count": 43,
   "id": "b7bb2ce1",
   "metadata": {},
   "outputs": [
    {
     "data": {
      "image/png": "[encoded data removed]",
      "text/plain": [
       "<Figure size 1000x1000 with 1 Axes>"
      ]
     },
     "metadata": {},
     "output_type": "display_data"
    }
   ],
   "source": [
    "plt.figure(figsize = (10,10))\n",
    "plt.boxplot(final_df[\"price\"])\n",
    "plt.show()"
   ]
  },
  {
   "cell_type": "markdown",
   "id": "bef2efb4",
   "metadata": {},
   "source": [
    "We were able to get rid of lot of outliers just by clearing some unrealistic listings"
   ]
  },
  {
   "cell_type": "markdown",
   "id": "c03ca45e",
   "metadata": {},
   "source": [
    "#### Checking for year"
   ]
  },
  {
   "cell_type": "code",
   "execution_count": 44,
   "id": "69a02fc7",
   "metadata": {},
   "outputs": [
    {
     "name": "stdout",
     "output_type": "stream",
     "text": [
      "Year feature - lower whishker = 1993.0\n",
      "\n",
      "Here is the boxplot of year after the outliers below lower whishker are removed.\n"
     ]
    },
    {
     "data": {
      "image/png": "[encoded data removed]",
      "text/plain": [
       "<Figure size 640x480 with 1 Axes>"
      ]
     },
     "metadata": {},
     "output_type": "display_data"
    }
   ],
   "source": [
    "stats = final_df['year'].describe()\n",
    "\n",
    "upper_quartile = stats[6]\n",
    "lower_quartile = stats[4]\n",
    "\n",
    "iqr = upper_quartile - lower_quartile\n",
    "lower_whisker = final_df['year'][final_df.year>=lower_quartile-1.5*iqr].min()\n",
    "print(\"Year feature - lower whishker =\", lower_whisker)\n",
    "\n",
    "dataset_year_updated = final_df[final_df.year>=lower_quartile-1.5*iqr]\n",
    "print(\"\\nHere is the boxplot of year after the outliers below lower whishker are removed.\")\n",
    "plt.boxplot(dataset_year_updated['year'])\n",
    "plt.title(\"Year box plot\")\n",
    "plt.ylabel(\"Year\")\n",
    "plt.show()"
   ]
  },
  {
   "cell_type": "markdown",
   "id": "1a6849e2",
   "metadata": {},
   "source": [
    "Checking outliers for odometer readings"
   ]
  },
  {
   "cell_type": "code",
   "execution_count": 87,
   "id": "15a851bd",
   "metadata": {},
   "outputs": [
    {
     "data": {
      "image/png": "[encoded data removed]",
      "text/plain": [
       "<Figure size 800x800 with 1 Axes>"
      ]
     },
     "metadata": {},
     "output_type": "display_data"
    }
   ],
   "source": [
    "final_df[\"manufacturer\"].value_counts()\n",
    "plt.figure(figsize=(8,8))\n",
    "color_df = df_vehicles['manufacturer'].value_counts().reset_index()\n",
    "color_df.columns = ['Manufacturer','count']\n",
    "plt.title(\"Vehicles grouped by manufacturer\",size=20)\n",
    "sns.barplot(color_df['Manufacturer'][:10],color_df['count'][:10],color = 'yellow')\n",
    "final_df[\"manufacturer\"]=final_df['manufacturer'].astype(\"category\")\n",
    "final_df[\"make\"]=final_df[\"make\"].cat.codes"
   ]
  },
  {
   "cell_type": "code",
   "execution_count": 89,
   "id": "e4354d63",
   "metadata": {},
   "outputs": [
    {
     "data": {
      "text/plain": [
       "13    19116\n",
       "7     16175\n",
       "39     9479\n",
       "16     6364\n",
       "30     5787\n",
       "20     5357\n",
       "14     4541\n",
       "31     4290\n",
       "34     3850\n",
       "10     3821\n",
       "4      2994\n",
       "26     2694\n",
       "37     2608\n",
       "17     2458\n",
       "40     2205\n",
       "23     2104\n",
       "8      1882\n",
       "21     1865\n",
       "6      1554\n",
       "5      1433\n",
       "18     1393\n",
       "25     1257\n",
       "3      1214\n",
       "0      1178\n",
       "24     1116\n",
       "29      840\n",
       "32      806\n",
       "41      782\n",
       "28      512\n",
       "27      425\n",
       "35      395\n",
       "36      395\n",
       "19      354\n",
       "33      342\n",
       "12      158\n",
       "1        45\n",
       "15       29\n",
       "11       17\n",
       "9        16\n",
       "22        8\n",
       "2         5\n",
       "38        3\n",
       "Name: make, dtype: int64"
      ]
     },
     "execution_count": 89,
     "metadata": {},
     "output_type": "execute_result"
    }
   ],
   "source": [
    "final_df[\"make\"].value_counts()\n"
   ]
  },
  {
   "cell_type": "code",
   "execution_count": 45,
   "id": "db359669",
   "metadata": {},
   "outputs": [
    {
     "name": "stdout",
     "output_type": "stream",
     "text": [
      "Odometer feature - upper whishker = 285000\n",
      "\n",
      "boxplot of odometer with outliers removed.\n"
     ]
    },
    {
     "data": {
      "image/png": "[encoded data removed]",
      "text/plain": [
       "<Figure size 640x480 with 1 Axes>"
      ]
     },
     "metadata": {},
     "output_type": "display_data"
    }
   ],
   "source": [
    "stats = final_df['odometer'].describe()\n",
    "\n",
    "upper_quartile = stats[6]\n",
    "lower_quartile = stats[4]\n",
    "\n",
    "iqr = upper_quartile - lower_quartile\n",
    "upper_whisker = final_df['price'][final_df.price<=upper_quartile+1.5*iqr].max()\n",
    "print(\"Odometer feature - upper whishker =\", upper_whisker)\n",
    "\n",
    "dataset_odo_updated = final_df[final_df.odometer<=upper_quartile+1.5*iqr]\n",
    "print(\"\\nboxplot of odometer with outliers removed.\")\n",
    "import matplotlib.pyplot as plt\n",
    "plt.boxplot(dataset_odo_updated['odometer'])\n",
    "plt.title(\"Odometer box plot\")\n",
    "plt.ylabel(\"Odometer\")\n",
    "plt.show()"
   ]
  },
  {
   "cell_type": "markdown",
   "id": "22b0c455",
   "metadata": {},
   "source": [
    "Further comparing odometer readings and price of the car using scatter plot"
   ]
  },
  {
   "cell_type": "code",
   "execution_count": 46,
   "id": "4829c1d1",
   "metadata": {
    "scrolled": false
   },
   "outputs": [
    {
     "data": {
      "text/plain": [
       "<AxesSubplot:xlabel='odometer', ylabel='price'>"
      ]
     },
     "execution_count": 46,
     "metadata": {},
     "output_type": "execute_result"
    },
    {
     "data": {
      "image/png": "[encoded data removed]",
      "text/plain": [
       "<Figure size 640x480 with 1 Axes>"
      ]
     },
     "metadata": {},
     "output_type": "display_data"
    }
   ],
   "source": [
    "sns.scatterplot(x=\"odometer\",y=\"price\",data=final_df)"
   ]
  },
  {
   "cell_type": "markdown",
   "id": "7bb0e4b3",
   "metadata": {},
   "source": [
    "Highest prices seems to be towards the lowest odometer readings, which makes sense"
   ]
  },
  {
   "cell_type": "markdown",
   "id": "ca870840",
   "metadata": {},
   "source": [
    "Further comparing year of make and price"
   ]
  },
  {
   "cell_type": "code",
   "execution_count": 47,
   "id": "f412586e",
   "metadata": {},
   "outputs": [
    {
     "data": {
      "text/plain": [
       "<AxesSubplot:xlabel='year', ylabel='price'>"
      ]
     },
     "execution_count": 47,
     "metadata": {},
     "output_type": "execute_result"
    },
    {
     "data": {
      "image/png": "[encoded data removed]",
      "text/plain": [
       "<Figure size 640x480 with 1 Axes>"
      ]
     },
     "metadata": {},
     "output_type": "display_data"
    }
   ],
   "source": [
    "sns.scatterplot(x=\"year\",y=\"price\",data=final_df)"
   ]
  },
  {
   "cell_type": "markdown",
   "id": "9f5e3a40",
   "metadata": {},
   "source": [
    "Again, the newest of cars seems to have the highest of prices, which again makes sense"
   ]
  },
  {
   "cell_type": "markdown",
   "id": "edc99627",
   "metadata": {},
   "source": [
    "### Performing Factor Analysis"
   ]
  },
  {
   "cell_type": "code",
   "execution_count": 66,
   "id": "ccb2c0e8",
   "metadata": {},
   "outputs": [
    {
     "data": {
      "text/html": [
       "<div>\n",
       "<style scoped>\n",
       "    .dataframe tbody tr th:only-of-type {\n",
       "        vertical-align: middle;\n",
       "    }\n",
       "\n",
       "    .dataframe tbody tr th {\n",
       "        vertical-align: top;\n",
       "    }\n",
       "\n",
       "    .dataframe thead th {\n",
       "        text-align: right;\n",
       "    }\n",
       "</style>\n",
       "<table border=\"1\" class=\"dataframe\">\n",
       "  <thead>\n",
       "    <tr style=\"text-align: right;\">\n",
       "      <th></th>\n",
       "      <th>year</th>\n",
       "      <th>condition</th>\n",
       "      <th>cylinders</th>\n",
       "      <th>fuel</th>\n",
       "      <th>odometer</th>\n",
       "      <th>title_status</th>\n",
       "      <th>transmission</th>\n",
       "      <th>drive</th>\n",
       "      <th>size</th>\n",
       "      <th>type_n</th>\n",
       "      <th>paint_color_n</th>\n",
       "    </tr>\n",
       "  </thead>\n",
       "  <tbody>\n",
       "    <tr>\n",
       "      <th>31</th>\n",
       "      <td>2013.0</td>\n",
       "      <td>3</td>\n",
       "      <td>6</td>\n",
       "      <td>1</td>\n",
       "      <td>128000.0</td>\n",
       "      <td>0</td>\n",
       "      <td>0</td>\n",
       "      <td>1</td>\n",
       "      <td>4</td>\n",
       "      <td>1</td>\n",
       "      <td>1</td>\n",
       "    </tr>\n",
       "    <tr>\n",
       "      <th>32</th>\n",
       "      <td>2012.0</td>\n",
       "      <td>1</td>\n",
       "      <td>8</td>\n",
       "      <td>1</td>\n",
       "      <td>68696.0</td>\n",
       "      <td>0</td>\n",
       "      <td>2</td>\n",
       "      <td>2</td>\n",
       "      <td>0</td>\n",
       "      <td>2</td>\n",
       "      <td>1</td>\n",
       "    </tr>\n",
       "    <tr>\n",
       "      <th>33</th>\n",
       "      <td>2016.0</td>\n",
       "      <td>1</td>\n",
       "      <td>6</td>\n",
       "      <td>1</td>\n",
       "      <td>29499.0</td>\n",
       "      <td>0</td>\n",
       "      <td>2</td>\n",
       "      <td>2</td>\n",
       "      <td>0</td>\n",
       "      <td>2</td>\n",
       "      <td>2</td>\n",
       "    </tr>\n",
       "    <tr>\n",
       "      <th>34</th>\n",
       "      <td>2019.0</td>\n",
       "      <td>3</td>\n",
       "      <td>6</td>\n",
       "      <td>1</td>\n",
       "      <td>43000.0</td>\n",
       "      <td>0</td>\n",
       "      <td>0</td>\n",
       "      <td>2</td>\n",
       "      <td>0</td>\n",
       "      <td>1</td>\n",
       "      <td>3</td>\n",
       "    </tr>\n",
       "    <tr>\n",
       "      <th>35</th>\n",
       "      <td>2016.0</td>\n",
       "      <td>1</td>\n",
       "      <td>6</td>\n",
       "      <td>1</td>\n",
       "      <td>17302.0</td>\n",
       "      <td>0</td>\n",
       "      <td>2</td>\n",
       "      <td>2</td>\n",
       "      <td>0</td>\n",
       "      <td>2</td>\n",
       "      <td>4</td>\n",
       "    </tr>\n",
       "    <tr>\n",
       "      <th>...</th>\n",
       "      <td>...</td>\n",
       "      <td>...</td>\n",
       "      <td>...</td>\n",
       "      <td>...</td>\n",
       "      <td>...</td>\n",
       "      <td>...</td>\n",
       "      <td>...</td>\n",
       "      <td>...</td>\n",
       "      <td>...</td>\n",
       "      <td>...</td>\n",
       "      <td>...</td>\n",
       "    </tr>\n",
       "    <tr>\n",
       "      <th>426860</th>\n",
       "      <td>2017.0</td>\n",
       "      <td>1</td>\n",
       "      <td>8</td>\n",
       "      <td>1</td>\n",
       "      <td>41664.0</td>\n",
       "      <td>0</td>\n",
       "      <td>0</td>\n",
       "      <td>2</td>\n",
       "      <td>0</td>\n",
       "      <td>0</td>\n",
       "      <td>1</td>\n",
       "    </tr>\n",
       "    <tr>\n",
       "      <th>426863</th>\n",
       "      <td>2017.0</td>\n",
       "      <td>1</td>\n",
       "      <td>6</td>\n",
       "      <td>1</td>\n",
       "      <td>37608.0</td>\n",
       "      <td>0</td>\n",
       "      <td>0</td>\n",
       "      <td>1</td>\n",
       "      <td>0</td>\n",
       "      <td>6</td>\n",
       "      <td>6</td>\n",
       "    </tr>\n",
       "    <tr>\n",
       "      <th>426866</th>\n",
       "      <td>2016.0</td>\n",
       "      <td>1</td>\n",
       "      <td>8</td>\n",
       "      <td>1</td>\n",
       "      <td>55612.0</td>\n",
       "      <td>0</td>\n",
       "      <td>0</td>\n",
       "      <td>1</td>\n",
       "      <td>0</td>\n",
       "      <td>0</td>\n",
       "      <td>1</td>\n",
       "    </tr>\n",
       "    <tr>\n",
       "      <th>426874</th>\n",
       "      <td>2018.0</td>\n",
       "      <td>1</td>\n",
       "      <td>6</td>\n",
       "      <td>1</td>\n",
       "      <td>30814.0</td>\n",
       "      <td>0</td>\n",
       "      <td>0</td>\n",
       "      <td>1</td>\n",
       "      <td>0</td>\n",
       "      <td>6</td>\n",
       "      <td>6</td>\n",
       "    </tr>\n",
       "    <tr>\n",
       "      <th>426878</th>\n",
       "      <td>2018.0</td>\n",
       "      <td>1</td>\n",
       "      <td>6</td>\n",
       "      <td>1</td>\n",
       "      <td>30112.0</td>\n",
       "      <td>0</td>\n",
       "      <td>2</td>\n",
       "      <td>3</td>\n",
       "      <td>0</td>\n",
       "      <td>6</td>\n",
       "      <td>2</td>\n",
       "    </tr>\n",
       "  </tbody>\n",
       "</table>\n",
       "<p>111867 rows × 11 columns</p>\n",
       "</div>"
      ],
      "text/plain": [
       "          year condition cylinders fuel  odometer title_status transmission  \\\n",
       "31      2013.0         3         6    1  128000.0            0            0   \n",
       "32      2012.0         1         8    1   68696.0            0            2   \n",
       "33      2016.0         1         6    1   29499.0            0            2   \n",
       "34      2019.0         3         6    1   43000.0            0            0   \n",
       "35      2016.0         1         6    1   17302.0            0            2   \n",
       "...        ...       ...       ...  ...       ...          ...          ...   \n",
       "426860  2017.0         1         8    1   41664.0            0            0   \n",
       "426863  2017.0         1         6    1   37608.0            0            0   \n",
       "426866  2016.0         1         8    1   55612.0            0            0   \n",
       "426874  2018.0         1         6    1   30814.0            0            0   \n",
       "426878  2018.0         1         6    1   30112.0            0            2   \n",
       "\n",
       "       drive size type_n paint_color_n  \n",
       "31         1    4      1             1  \n",
       "32         2    0      2             1  \n",
       "33         2    0      2             2  \n",
       "34         2    0      1             3  \n",
       "35         2    0      2             4  \n",
       "...      ...  ...    ...           ...  \n",
       "426860     2    0      0             1  \n",
       "426863     1    0      6             6  \n",
       "426866     1    0      0             1  \n",
       "426874     1    0      6             6  \n",
       "426878     3    0      6             2  \n",
       "\n",
       "[111867 rows x 11 columns]"
      ]
     },
     "execution_count": 66,
     "metadata": {},
     "output_type": "execute_result"
    }
   ],
   "source": [
    "X\n"
   ]
  },
  {
   "cell_type": "code",
   "execution_count": 48,
   "id": "a2d91f1b",
   "metadata": {},
   "outputs": [
    {
     "name": "stdout",
     "output_type": "stream",
     "text": [
      "Index(['region', 'price', 'year', 'manufacturer', 'model', 'condition',\n",
      "       'cylinders', 'fuel', 'odometer', 'title_status', 'transmission',\n",
      "       'drive', 'size', 'type', 'paint_color', 'description', 'state',\n",
      "       'posting_date', 'type_n', 'paint_color_n'],\n",
      "      dtype='object')\n"
     ]
    }
   ],
   "source": [
    "print(final_df.columns)\n",
    "X=final_df.drop(columns=['region',\n",
    "                         'price','manufacturer','model','paint_color','description',\n",
    "                         'state','posting_date','type']) \n",
    "y=final_df['price']"
   ]
  },
  {
   "cell_type": "code",
   "execution_count": 49,
   "id": "bc29944e",
   "metadata": {},
   "outputs": [
    {
     "data": {
      "text/html": [
       "<div>\n",
       "<style scoped>\n",
       "    .dataframe tbody tr th:only-of-type {\n",
       "        vertical-align: middle;\n",
       "    }\n",
       "\n",
       "    .dataframe tbody tr th {\n",
       "        vertical-align: top;\n",
       "    }\n",
       "\n",
       "    .dataframe thead th {\n",
       "        text-align: right;\n",
       "    }\n",
       "</style>\n",
       "<table border=\"1\" class=\"dataframe\">\n",
       "  <thead>\n",
       "    <tr style=\"text-align: right;\">\n",
       "      <th></th>\n",
       "      <th>0</th>\n",
       "      <th>1</th>\n",
       "      <th>2</th>\n",
       "      <th>3</th>\n",
       "      <th>4</th>\n",
       "      <th>5</th>\n",
       "      <th>6</th>\n",
       "      <th>7</th>\n",
       "      <th>8</th>\n",
       "      <th>9</th>\n",
       "      <th>10</th>\n",
       "    </tr>\n",
       "  </thead>\n",
       "  <tbody>\n",
       "    <tr>\n",
       "      <th>0</th>\n",
       "      <td>0.268153</td>\n",
       "      <td>-1.105981</td>\n",
       "      <td>1.259517</td>\n",
       "      <td>-0.205328</td>\n",
       "      <td>-0.264896</td>\n",
       "      <td>-0.201624</td>\n",
       "      <td>2.655730</td>\n",
       "      <td>-0.140169</td>\n",
       "      <td>-1.342259</td>\n",
       "      <td>-0.958086</td>\n",
       "      <td>-1.245314</td>\n",
       "    </tr>\n",
       "    <tr>\n",
       "      <th>1</th>\n",
       "      <td>0.795359</td>\n",
       "      <td>-1.105981</td>\n",
       "      <td>0.014656</td>\n",
       "      <td>-0.205328</td>\n",
       "      <td>-0.507763</td>\n",
       "      <td>-0.201624</td>\n",
       "      <td>2.655730</td>\n",
       "      <td>-0.140169</td>\n",
       "      <td>-1.342259</td>\n",
       "      <td>-0.958086</td>\n",
       "      <td>-0.813314</td>\n",
       "    </tr>\n",
       "    <tr>\n",
       "      <th>2</th>\n",
       "      <td>1.190764</td>\n",
       "      <td>0.667794</td>\n",
       "      <td>0.014656</td>\n",
       "      <td>-0.205328</td>\n",
       "      <td>-0.424110</td>\n",
       "      <td>-0.201624</td>\n",
       "      <td>-0.440543</td>\n",
       "      <td>-0.140169</td>\n",
       "      <td>-1.342259</td>\n",
       "      <td>-1.304257</td>\n",
       "      <td>-0.381314</td>\n",
       "    </tr>\n",
       "    <tr>\n",
       "      <th>3</th>\n",
       "      <td>0.795359</td>\n",
       "      <td>-1.105981</td>\n",
       "      <td>0.014656</td>\n",
       "      <td>-0.205328</td>\n",
       "      <td>-0.583336</td>\n",
       "      <td>-0.201624</td>\n",
       "      <td>2.655730</td>\n",
       "      <td>-0.140169</td>\n",
       "      <td>-1.342259</td>\n",
       "      <td>-0.958086</td>\n",
       "      <td>0.050686</td>\n",
       "    </tr>\n",
       "    <tr>\n",
       "      <th>4</th>\n",
       "      <td>0.136352</td>\n",
       "      <td>-1.105981</td>\n",
       "      <td>1.259517</td>\n",
       "      <td>-0.205328</td>\n",
       "      <td>-0.503190</td>\n",
       "      <td>-0.201624</td>\n",
       "      <td>2.655730</td>\n",
       "      <td>-1.465174</td>\n",
       "      <td>-1.342259</td>\n",
       "      <td>-1.650428</td>\n",
       "      <td>0.050686</td>\n",
       "    </tr>\n",
       "  </tbody>\n",
       "</table>\n",
       "</div>"
      ],
      "text/plain": [
       "         0         1         2         3         4         5         6   \\\n",
       "0  0.268153 -1.105981  1.259517 -0.205328 -0.264896 -0.201624  2.655730   \n",
       "1  0.795359 -1.105981  0.014656 -0.205328 -0.507763 -0.201624  2.655730   \n",
       "2  1.190764  0.667794  0.014656 -0.205328 -0.424110 -0.201624 -0.440543   \n",
       "3  0.795359 -1.105981  0.014656 -0.205328 -0.583336 -0.201624  2.655730   \n",
       "4  0.136352 -1.105981  1.259517 -0.205328 -0.503190 -0.201624  2.655730   \n",
       "\n",
       "         7         8         9         10  \n",
       "0 -0.140169 -1.342259 -0.958086 -1.245314  \n",
       "1 -0.140169 -1.342259 -0.958086 -0.813314  \n",
       "2 -0.140169 -1.342259 -1.304257 -0.381314  \n",
       "3 -0.140169 -1.342259 -0.958086  0.050686  \n",
       "4 -1.465174 -1.342259 -1.650428  0.050686  "
      ]
     },
     "execution_count": 49,
     "metadata": {},
     "output_type": "execute_result"
    }
   ],
   "source": [
    "\n",
    "df_data = X.iloc[1: , :]\n",
    "df_X = StandardScaler().fit_transform(df_data)\n",
    "pd.DataFrame(df_X).head()"
   ]
  },
  {
   "cell_type": "code",
   "execution_count": 50,
   "id": "b7516b78",
   "metadata": {},
   "outputs": [
    {
     "data": {
      "text/plain": [
       "['year',\n",
       " 'condition',\n",
       " 'cylinders',\n",
       " 'fuel',\n",
       " 'odometer',\n",
       " 'title_status',\n",
       " 'transmission',\n",
       " 'drive',\n",
       " 'size',\n",
       " 'type_n',\n",
       " 'paint_color_n']"
      ]
     },
     "execution_count": 50,
     "metadata": {},
     "output_type": "execute_result"
    }
   ],
   "source": [
    "df_features =X.columns\n",
    "feature_list=list(df_features)\n",
    "feature_list"
   ]
  },
  {
   "cell_type": "markdown",
   "id": "99672e7a",
   "metadata": {},
   "source": [
    "#### Covariance Matrix"
   ]
  },
  {
   "cell_type": "code",
   "execution_count": 51,
   "id": "f3d458ab",
   "metadata": {},
   "outputs": [
    {
     "data": {
      "image/png": "[encoded data removed]",
      "text/plain": [
       "<Figure size 2000x2000 with 2 Axes>"
      ]
     },
     "metadata": {},
     "output_type": "display_data"
    }
   ],
   "source": [
    "plt.figure(figsize = (20,20))\n",
    "ax = plt.axes()\n",
    "im = ax.imshow(np.corrcoef(df_X.T), cmap=\"RdBu\", vmin=-1, vmax=1)\n",
    "ax.set_xticks([0,1,2,3,4,5,6,7,8,9,10])\n",
    "ax.set_xticklabels(feature_list, rotation=90)\n",
    "ax.set_yticks([0,1,2,3,4,5,6,7,8,9,10])\n",
    "ax.set_yticklabels(feature_list)\n",
    "plt.colorbar(im)\n",
    "ax.set_title(\"Vehicle Price - correlation matrix\")\n",
    "plt.tight_layout()\n",
    "plt.show()"
   ]
  },
  {
   "cell_type": "code",
   "execution_count": 52,
   "id": "f8fbbe0e",
   "metadata": {},
   "outputs": [
    {
     "data": {
      "text/plain": [
       "(135085.20937775224, 0.0)"
      ]
     },
     "execution_count": 52,
     "metadata": {},
     "output_type": "execute_result"
    }
   ],
   "source": [
    "chi_square_value,p_value=calculate_bartlett_sphericity(df_X)\n",
    "chi_square_value, p_value"
   ]
  },
  {
   "cell_type": "code",
   "execution_count": 53,
   "id": "aac315c1",
   "metadata": {},
   "outputs": [
    {
     "data": {
      "text/plain": [
       "0.6183717625250419"
      ]
     },
     "execution_count": 53,
     "metadata": {},
     "output_type": "execute_result"
    }
   ],
   "source": [
    "kmo_all,kmo_model=calculate_kmo(df_X)\n",
    "kmo_model"
   ]
  },
  {
   "cell_type": "markdown",
   "id": "352a243b",
   "metadata": {},
   "source": [
    "We will proceed with the factor analysis since value is > 0.5"
   ]
  },
  {
   "cell_type": "markdown",
   "id": "2a24a07f",
   "metadata": {},
   "source": [
    "#### Defining Analyzer"
   ]
  },
  {
   "cell_type": "code",
   "execution_count": 54,
   "id": "5a38c355",
   "metadata": {},
   "outputs": [
    {
     "data": {
      "text/plain": [
       "FactorAnalyzer(rotation_kwargs={})"
      ]
     },
     "execution_count": 54,
     "metadata": {},
     "output_type": "execute_result"
    }
   ],
   "source": [
    "fa = FactorAnalyzer()\n",
    "fa.fit(df_X)"
   ]
  },
  {
   "cell_type": "markdown",
   "id": "15b5360d",
   "metadata": {},
   "source": [
    "Retrieving Eigenvalues and vector from Analyzer object\n"
   ]
  },
  {
   "cell_type": "code",
   "execution_count": 55,
   "id": "c7709f77",
   "metadata": {},
   "outputs": [],
   "source": [
    "ev, v = fa.get_eigenvalues()"
   ]
  },
  {
   "cell_type": "markdown",
   "id": "2d606e03",
   "metadata": {},
   "source": [
    "#### Scree Plot"
   ]
  },
  {
   "cell_type": "code",
   "execution_count": 56,
   "id": "35798c72",
   "metadata": {},
   "outputs": [
    {
     "data": {
      "image/png": "[encoded data removed]",
      "text/plain": [
       "<Figure size 640x480 with 1 Axes>"
      ]
     },
     "metadata": {},
     "output_type": "display_data"
    }
   ],
   "source": [
    "\n",
    "plt.scatter(range(1,df_X.shape[1]+1),ev)\n",
    "plt.plot(range(1,df_X.shape[1]+1),ev)\n",
    "plt.title('Scree Plot')\n",
    "plt.xlabel('Factors')\n",
    "plt.ylabel('Eigenvalue')\n",
    "plt.grid()\n",
    "plt.show()"
   ]
  },
  {
   "cell_type": "code",
   "execution_count": 57,
   "id": "64dde506",
   "metadata": {},
   "outputs": [
    {
     "data": {
      "text/plain": [
       "FactorAnalyzer(n_factors=6, rotation='varimax', rotation_kwargs={})"
      ]
     },
     "execution_count": 57,
     "metadata": {},
     "output_type": "execute_result"
    }
   ],
   "source": [
    "fa = FactorAnalyzer(rotation=\"varimax\", n_factors=6)\n",
    "fa.fit(df_X)"
   ]
  },
  {
   "cell_type": "markdown",
   "id": "b6c0ca0b",
   "metadata": {},
   "source": [
    "View Eigen vector and values generated"
   ]
  },
  {
   "cell_type": "code",
   "execution_count": 58,
   "id": "e5ad9eda",
   "metadata": {},
   "outputs": [
    {
     "data": {
      "text/plain": [
       "array([ 1.69210365e+00,  1.41634766e+00,  9.12244210e-01,  6.12451379e-01,\n",
       "        4.50363888e-01,  1.61520215e-01,  1.62587657e-02,  5.98277241e-03,\n",
       "       -4.93783279e-04, -2.79966616e-03, -1.90074973e-02])"
      ]
     },
     "execution_count": 58,
     "metadata": {},
     "output_type": "execute_result"
    }
   ],
   "source": [
    "evec,ev=fa.get_eigenvalues()\n",
    "ev"
   ]
  },
  {
   "cell_type": "code",
   "execution_count": 59,
   "id": "a75a1b3b",
   "metadata": {},
   "outputs": [
    {
     "name": "stdout",
     "output_type": "stream",
     "text": [
      "                      0         1         2         3         4         5\n",
      "year          -0.036673  0.003748 -0.102378  0.069044  0.831282 -0.137863\n",
      "condition      0.463358 -0.105315 -0.041263  0.001822  0.113426 -0.017911\n",
      "cylinders     -0.049961  0.733834  0.005443 -0.284937 -0.152424  0.003340\n",
      "fuel           0.161293  0.041916  0.032343  0.015877  0.026773  0.343790\n",
      "odometer       0.037065 -0.001592  0.988939  0.013024 -0.111859  0.054457\n",
      "title_status   0.067239 -0.029470 -0.009302  0.011486  0.041636  0.017266\n",
      "transmission  -0.779922  0.120900 -0.096881 -0.066073  0.163243 -0.031311\n",
      "drive          0.093687 -0.310403  0.016418  0.930479  0.091058 -0.124743\n",
      "size           0.543663  0.184341  0.068733  0.022644 -0.155449  0.165161\n",
      "type_n         0.100759 -0.577368  0.004886  0.051631 -0.080907 -0.194192\n",
      "paint_color_n -0.024972  0.045952  0.001197 -0.055732 -0.081345  0.181857\n"
     ]
    }
   ],
   "source": [
    "print(pd.DataFrame(fa.loadings_,index=feature_list))"
   ]
  },
  {
   "cell_type": "code",
   "execution_count": 60,
   "id": "9b7f2c44",
   "metadata": {},
   "outputs": [
    {
     "name": "stdout",
     "output_type": "stream",
     "text": [
      "                     0         1         2         3         4         5\n",
      "sum           1.173852  1.032660  1.005752  0.962955  0.814357  0.255395\n",
      "proportional  0.106714  0.093878  0.091432  0.087541  0.074032  0.023218\n",
      "cumulative    0.106714  0.200592  0.292024  0.379565  0.453598  0.476816\n"
     ]
    }
   ],
   "source": [
    "print(pd.DataFrame(fa.get_factor_variance(), \n",
    "                   index=['sum','proportional','cumulative']))"
   ]
  },
  {
   "cell_type": "markdown",
   "id": "de7e7fb5",
   "metadata": {},
   "source": [
    "## Section 4"
   ]
  },
  {
   "cell_type": "markdown",
   "id": "467aacea",
   "metadata": {},
   "source": [
    "### Employing linear regression model for prediction\n",
    "\n",
    "#### Splitting data into train and test"
   ]
  },
  {
   "cell_type": "code",
   "execution_count": 61,
   "id": "0820fce5",
   "metadata": {},
   "outputs": [],
   "source": [
    "X_train, X_test, y_train, y_test = train_test_split(X, y, test_size=0.20, random_state=10)"
   ]
  },
  {
   "cell_type": "markdown",
   "id": "3fe81824",
   "metadata": {},
   "source": [
    "#### Scaling before fitting into model"
   ]
  },
  {
   "cell_type": "code",
   "execution_count": 62,
   "id": "18c5d7b9",
   "metadata": {},
   "outputs": [],
   "source": [
    "sc=StandardScaler()\n",
    "X_train=sc.fit_transform(X_train)\n",
    "X_test=sc.fit_transform(X_test)"
   ]
  },
  {
   "cell_type": "markdown",
   "id": "b24514f8",
   "metadata": {},
   "source": [
    "#### Linear Regression Model"
   ]
  },
  {
   "cell_type": "code",
   "execution_count": 63,
   "id": "7ea8783e",
   "metadata": {},
   "outputs": [],
   "source": [
    "lr=LinearRegression()\n",
    "lr.fit(X_train,y_train)\n",
    "y_pred=lr.predict(X_test)"
   ]
  },
  {
   "cell_type": "markdown",
   "id": "430b393a",
   "metadata": {},
   "source": [
    "#### Retrieving model params"
   ]
  },
  {
   "cell_type": "code",
   "execution_count": 64,
   "id": "dd7d0b14",
   "metadata": {},
   "outputs": [
    {
     "name": "stdout",
     "output_type": "stream",
     "text": [
      "Coefficients: \n",
      " [ 6096.41136422  1573.06846556  3768.71403299  1943.98149549\n",
      " -1404.85908412   -62.51119468  3232.96237686 -2082.31814478\n",
      "  -647.87871823 -1531.58225573   333.80913466]\n",
      "Mean squared error: 79302314.274\n",
      "Coefficient of determination: 0.55\n",
      "intercept: 16349.689986926427\n"
     ]
    }
   ],
   "source": [
    "\n",
    "print(\"Coefficients: \\n\", lr.coef_)\n",
    "print(\"Mean squared error: %.3f\" % mean_squared_error(y_test, y_pred))\n",
    "print(\"Coefficient of determination: %.2f\" % r2_score(y_test,y_pred))\n",
    "print(f\"intercept: {lr.intercept_}\")"
   ]
  },
  {
   "cell_type": "code",
   "execution_count": 65,
   "id": "d6f4d0af",
   "metadata": {},
   "outputs": [
    {
     "name": "stdout",
     "output_type": "stream",
     "text": [
      "0.5068281041856415\n"
     ]
    }
   ],
   "source": [
    "score =lr.score(X_train,y_train)\n",
    "print(score)\n"
   ]
  },
  {
   "cell_type": "markdown",
   "id": "4047a1b5",
   "metadata": {},
   "source": [
    "## Section 5"
   ]
  },
  {
   "cell_type": "markdown",
   "id": "cebece31",
   "metadata": {},
   "source": [
    "### Personal Contribution Statement :\n",
    "#### Team project: What was your contribution during this Sprint stage? <br> \n",
    "\n",
    "This time around time management and catching up with each other was a challenge since both of us fell sick at almost the same time. So we had to scramble a bit at the end. Contributions to most sections were equally divided.\n",
    "        We were on call most of the time sharing code and ideas. <br> <br>\n",
    "        What could have been done better (future improvements of your work)?<br>\n",
    "            This sprint was a bit bad for us cause of health issues but in future we dont anticipate any such struggles. We could only test one model and did not get much of a chance to tune it.\n",
    "            In future, We intend to employ more models and further tune the existing ones.\n",
    "            <br><br>\n",
    "    \n",
    "#### Individual project: \n",
    "   What could have been done better  (future improvements of your work)? <br>\n",
    "     \n",
    "   I personally could have advocated to add more models or atleast tuned  the currently employed prediction model . Unfortunately time management was bad in this sprint and the same needs to be corrected from next. One thing about the entire experience was that we both were in sync regarding most of the decisions and hopefully the same will continue.\n",
    "    "
   ]
  }
 ],
 "metadata": {
  "kernelspec": {
   "display_name": "Python 3.9.6 64-bit",
   "language": "python",
   "name": "python3"
  },
  "language_info": {
   "codemirror_mode": {
    "name": "ipython",
    "version": 3
   },
   "file_extension": ".py",
   "mimetype": "text/x-python",
   "name": "python",
   "nbconvert_exporter": "python",
   "pygments_lexer": "ipython3",
   "version": "3.9.6"
  },
  "vscode": {
   "interpreter": {
    "hash": "31f2aee4e71d21fbe5cf8b01ff0e069b9275f58929596ceb00d14d90e3e16cd6"
   }
  }
 },
 "nbformat": 4,
 "nbformat_minor": 5
}
